{
 "cells": [
  {
   "cell_type": "markdown",
   "id": "8f3a584b",
   "metadata": {
    "id": "8f3a584b"
   },
   "source": [
    "# Import the necessary libraries"
   ]
  },
  {
   "cell_type": "code",
   "execution_count": 37,
   "id": "21bc2cb3",
   "metadata": {
    "id": "21bc2cb3"
   },
   "outputs": [],
   "source": [
    "import pandas as pd\n",
    "import matplotlib.pyplot as plt\n",
    "import seaborn as sns\n",
    "%matplotlib inline\n",
    "import numpy as np\n",
    "import keras\n",
    "from keras.models import Sequential\n",
    "from keras.layers import Dense, Dropout\n",
    "from keras.optimizers import *\n",
    "from keras.utils import np_utils\n",
    "from sklearn.utils import shuffle\n",
    "from sklearn.preprocessing import StandardScaler\n",
    "from sklearn.preprocessing import MinMaxScaler\n",
    "from sklearn.utils import resample\n",
    "from tensorflow.keras import initializers\n",
    "from tensorflow.keras import optimizers\n",
    "from tensorflow.keras.optimizers import SGD\n",
    "from collections import Counter\n",
    "from matplotlib import pyplot\n",
    "from numpy import where\n",
    "from sklearn.metrics import accuracy_score\n",
    "import warnings\n",
    "warnings.filterwarnings('ignore')\n",
    "from sklearn import metrics\n",
    "from sklearn.metrics import confusion_matrix\n",
    "from sklearn.model_selection import train_test_split\n",
    "from sklearn.preprocessing import LabelBinarizer\n",
    "from sklearn.metrics import classification_report\n",
    "from sklearn.ensemble import RandomForestClassifier\n",
    "from sklearn.metrics import classification_report\n",
    "from keras.constraints import maxnorm\n",
    "from pandas_profiling import ProfileReport\n",
    "\n",
    "from tensorflow.keras.wrappers.scikit_learn import KerasClassifier\n",
    "from sklearn.model_selection import GridSearchCV, RandomizedSearchCV"
   ]
  },
  {
   "cell_type": "code",
   "execution_count": null,
   "id": "ZRVoyhCj3ns_",
   "metadata": {
    "id": "ZRVoyhCj3ns_"
   },
   "outputs": [],
   "source": []
  },
  {
   "cell_type": "code",
   "execution_count": 38,
   "id": "bc6f4fcd",
   "metadata": {
    "id": "bc6f4fcd"
   },
   "outputs": [],
   "source": [
    "primary_df = pd.read_csv('./sepsis_survival_primary_cohort.csv')\n",
    "test_df = pd.read_csv('./sepsis_survival_study_cohort.csv')\n",
    "val_df = pd.read_csv('./sepsis_survival_validation_cohort.csv')"
   ]
  },
  {
   "cell_type": "code",
   "execution_count": 39,
   "id": "W67ArnNcZ8wM",
   "metadata": {
    "colab": {
     "base_uri": "https://localhost:8080/"
    },
    "id": "W67ArnNcZ8wM",
    "outputId": "80cf7ebd-a5a4-448a-e630-46d2c1ede0e5"
   },
   "outputs": [
    {
     "name": "stdout",
     "output_type": "stream",
     "text": [
      "<class 'pandas.core.frame.DataFrame'>\n",
      "RangeIndex: 110204 entries, 0 to 110203\n",
      "Data columns (total 4 columns):\n",
      " #   Column                         Non-Null Count   Dtype\n",
      "---  ------                         --------------   -----\n",
      " 0   age_years                      110204 non-null  int64\n",
      " 1   sex_0male_1female              110204 non-null  int64\n",
      " 2   episode_number                 110204 non-null  int64\n",
      " 3   hospital_outcome_1alive_0dead  110204 non-null  int64\n",
      "dtypes: int64(4)\n",
      "memory usage: 3.4 MB\n"
     ]
    }
   ],
   "source": [
    "primary_df.info()"
   ]
  },
  {
   "cell_type": "code",
   "execution_count": 40,
   "id": "uJbCSyqNZ9Og",
   "metadata": {
    "colab": {
     "base_uri": "https://localhost:8080/"
    },
    "id": "uJbCSyqNZ9Og",
    "outputId": "68bc3fd9-1f7c-4f15-9a5c-ead40dfa251b"
   },
   "outputs": [
    {
     "name": "stdout",
     "output_type": "stream",
     "text": [
      "<class 'pandas.core.frame.DataFrame'>\n",
      "RangeIndex: 19051 entries, 0 to 19050\n",
      "Data columns (total 4 columns):\n",
      " #   Column                         Non-Null Count  Dtype\n",
      "---  ------                         --------------  -----\n",
      " 0   age_years                      19051 non-null  int64\n",
      " 1   sex_0male_1female              19051 non-null  int64\n",
      " 2   episode_number                 19051 non-null  int64\n",
      " 3   hospital_outcome_1alive_0dead  19051 non-null  int64\n",
      "dtypes: int64(4)\n",
      "memory usage: 595.5 KB\n"
     ]
    }
   ],
   "source": [
    "test_df.info()"
   ]
  },
  {
   "cell_type": "code",
   "execution_count": 41,
   "id": "z5A_bcnxZ9h5",
   "metadata": {
    "colab": {
     "base_uri": "https://localhost:8080/"
    },
    "id": "z5A_bcnxZ9h5",
    "outputId": "a058faec-859c-41cc-82cb-09a7aa605e6b"
   },
   "outputs": [
    {
     "name": "stdout",
     "output_type": "stream",
     "text": [
      "<class 'pandas.core.frame.DataFrame'>\n",
      "RangeIndex: 137 entries, 0 to 136\n",
      "Data columns (total 4 columns):\n",
      " #   Column                         Non-Null Count  Dtype\n",
      "---  ------                         --------------  -----\n",
      " 0   age_years                      137 non-null    int64\n",
      " 1   sex_0male_1female              137 non-null    int64\n",
      " 2   episode_number                 137 non-null    int64\n",
      " 3   hospital_outcome_1alive_0dead  137 non-null    int64\n",
      "dtypes: int64(4)\n",
      "memory usage: 4.4 KB\n"
     ]
    }
   ],
   "source": [
    "val_df.info()"
   ]
  },
  {
   "cell_type": "code",
   "execution_count": 42,
   "id": "8rGSldSaZ9xX",
   "metadata": {
    "id": "8rGSldSaZ9xX"
   },
   "outputs": [],
   "source": [
    "#concatenating the 3 data frames together\n",
    "primary_df = pd.concat([primary_df, test_df,val_df ], axis=0)\n",
    "primary_df = primary_df.reset_index()"
   ]
  },
  {
   "cell_type": "code",
   "execution_count": 43,
   "id": "owR4pxQ4aV6T",
   "metadata": {
    "colab": {
     "base_uri": "https://localhost:8080/"
    },
    "id": "owR4pxQ4aV6T",
    "outputId": "4fa2e756-1eff-49b6-f5bb-bd6c71643aab"
   },
   "outputs": [
    {
     "name": "stdout",
     "output_type": "stream",
     "text": [
      "<class 'pandas.core.frame.DataFrame'>\n",
      "RangeIndex: 129392 entries, 0 to 129391\n",
      "Data columns (total 5 columns):\n",
      " #   Column                         Non-Null Count   Dtype\n",
      "---  ------                         --------------   -----\n",
      " 0   index                          129392 non-null  int64\n",
      " 1   age_years                      129392 non-null  int64\n",
      " 2   sex_0male_1female              129392 non-null  int64\n",
      " 3   episode_number                 129392 non-null  int64\n",
      " 4   hospital_outcome_1alive_0dead  129392 non-null  int64\n",
      "dtypes: int64(5)\n",
      "memory usage: 4.9 MB\n"
     ]
    }
   ],
   "source": [
    "primary_df.info()"
   ]
  },
  {
   "cell_type": "code",
   "execution_count": 44,
   "id": "PaYfiDnVahWo",
   "metadata": {
    "id": "PaYfiDnVahWo"
   },
   "outputs": [],
   "source": [
    "del primary_df['index']"
   ]
  },
  {
   "cell_type": "code",
   "execution_count": null,
   "id": "FHz9TtPSHjYD",
   "metadata": {
    "id": "FHz9TtPSHjYD"
   },
   "outputs": [],
   "source": []
  },
  {
   "cell_type": "markdown",
   "id": "e5aac58a",
   "metadata": {
    "id": "e5aac58a"
   },
   "source": [
    "# Initial Exploratory Data Analysis\n",
    "\n"
   ]
  },
  {
   "cell_type": "code",
   "execution_count": 45,
   "id": "5b4402b5",
   "metadata": {
    "id": "5b4402b5"
   },
   "outputs": [
    {
     "data": {
      "text/html": [
       "<div>\n",
       "<style scoped>\n",
       "    .dataframe tbody tr th:only-of-type {\n",
       "        vertical-align: middle;\n",
       "    }\n",
       "\n",
       "    .dataframe tbody tr th {\n",
       "        vertical-align: top;\n",
       "    }\n",
       "\n",
       "    .dataframe thead th {\n",
       "        text-align: right;\n",
       "    }\n",
       "</style>\n",
       "<table border=\"1\" class=\"dataframe\">\n",
       "  <thead>\n",
       "    <tr style=\"text-align: right;\">\n",
       "      <th></th>\n",
       "      <th>age_years</th>\n",
       "      <th>sex_0male_1female</th>\n",
       "      <th>episode_number</th>\n",
       "      <th>hospital_outcome_1alive_0dead</th>\n",
       "    </tr>\n",
       "  </thead>\n",
       "  <tbody>\n",
       "    <tr>\n",
       "      <th>0</th>\n",
       "      <td>21</td>\n",
       "      <td>1</td>\n",
       "      <td>1</td>\n",
       "      <td>1</td>\n",
       "    </tr>\n",
       "    <tr>\n",
       "      <th>1</th>\n",
       "      <td>20</td>\n",
       "      <td>1</td>\n",
       "      <td>1</td>\n",
       "      <td>1</td>\n",
       "    </tr>\n",
       "    <tr>\n",
       "      <th>2</th>\n",
       "      <td>21</td>\n",
       "      <td>1</td>\n",
       "      <td>1</td>\n",
       "      <td>1</td>\n",
       "    </tr>\n",
       "  </tbody>\n",
       "</table>\n",
       "</div>"
      ],
      "text/plain": [
       "   age_years  sex_0male_1female  episode_number  hospital_outcome_1alive_0dead\n",
       "0         21                  1               1                              1\n",
       "1         20                  1               1                              1\n",
       "2         21                  1               1                              1"
      ]
     },
     "execution_count": 45,
     "metadata": {},
     "output_type": "execute_result"
    }
   ],
   "source": [
    "primary_df.head(3)"
   ]
  },
  {
   "cell_type": "code",
   "execution_count": 46,
   "id": "48a891fe",
   "metadata": {
    "id": "48a891fe"
   },
   "outputs": [
    {
     "data": {
      "text/plain": [
       "117657"
      ]
     },
     "execution_count": 46,
     "metadata": {},
     "output_type": "execute_result"
    }
   ],
   "source": [
    "len(primary_df[primary_df['hospital_outcome_1alive_0dead']==1])"
   ]
  },
  {
   "cell_type": "code",
   "execution_count": 47,
   "id": "e2fbd823",
   "metadata": {
    "id": "e2fbd823"
   },
   "outputs": [
    {
     "data": {
      "text/plain": [
       "11735"
      ]
     },
     "execution_count": 47,
     "metadata": {},
     "output_type": "execute_result"
    }
   ],
   "source": [
    "len(primary_df[primary_df['hospital_outcome_1alive_0dead']==0])"
   ]
  },
  {
   "cell_type": "code",
   "execution_count": 48,
   "id": "3c1ac66f",
   "metadata": {
    "id": "3c1ac66f"
   },
   "outputs": [
    {
     "name": "stdout",
     "output_type": "stream",
     "text": [
      "<class 'pandas.core.frame.DataFrame'>\n",
      "RangeIndex: 129392 entries, 0 to 129391\n",
      "Data columns (total 4 columns):\n",
      " #   Column                         Non-Null Count   Dtype\n",
      "---  ------                         --------------   -----\n",
      " 0   age_years                      129392 non-null  int64\n",
      " 1   sex_0male_1female              129392 non-null  int64\n",
      " 2   episode_number                 129392 non-null  int64\n",
      " 3   hospital_outcome_1alive_0dead  129392 non-null  int64\n",
      "dtypes: int64(4)\n",
      "memory usage: 3.9 MB\n"
     ]
    }
   ],
   "source": [
    "primary_df.info()"
   ]
  },
  {
   "cell_type": "code",
   "execution_count": 49,
   "id": "d8b1600d",
   "metadata": {
    "id": "d8b1600d"
   },
   "outputs": [
    {
     "data": {
      "text/plain": [
       "age_years                        0\n",
       "sex_0male_1female                0\n",
       "episode_number                   0\n",
       "hospital_outcome_1alive_0dead    0\n",
       "dtype: int64"
      ]
     },
     "execution_count": 49,
     "metadata": {},
     "output_type": "execute_result"
    }
   ],
   "source": [
    "primary_df.isnull().sum()"
   ]
  },
  {
   "cell_type": "code",
   "execution_count": null,
   "id": "b8647a13",
   "metadata": {
    "id": "b8647a13"
   },
   "outputs": [],
   "source": []
  },
  {
   "cell_type": "markdown",
   "id": "c1b5f5b3",
   "metadata": {
    "id": "c1b5f5b3"
   },
   "source": [
    "### I am going to check to see the distribution of hospital outcome to see the number of dead and alive"
   ]
  },
  {
   "cell_type": "code",
   "execution_count": 50,
   "id": "11ee717e",
   "metadata": {
    "colab": {
     "base_uri": "https://localhost:8080/",
     "height": 696
    },
    "id": "11ee717e",
    "outputId": "d4dc3307-ef3b-4cdb-ab3c-e081598f0320"
   },
   "outputs": [
    {
     "data": {
      "image/png": "[encoded data removed]",
      "text/plain": [
       "<Figure size 576x576 with 1 Axes>"
      ]
     },
     "metadata": {
      "needs_background": "light"
     },
     "output_type": "display_data"
    }
   ],
   "source": [
    "plt.figure(figsize= (8,8))\n",
    "episodes = sns.countplot(primary_df['hospital_outcome_1alive_0dead'])\n",
    "plt.xlabel('Mortality Count')\n",
    "plt.ylabel('Counts')\n",
    "for p in episodes.patches:\n",
    "   episodes.annotate('{:.0f}'.format(p.get_height()), (p.get_x()+0.35, p.get_height()+0.05))\n",
    "plt.show()"
   ]
  },
  {
   "cell_type": "code",
   "execution_count": 51,
   "id": "ee2e18fc",
   "metadata": {
    "id": "ee2e18fc"
   },
   "outputs": [],
   "source": [
    "#this tells us that this  there will be an uneven balanced set and there is a high chance of overfitting\n"
   ]
  },
  {
   "cell_type": "code",
   "execution_count": null,
   "id": "39bee946",
   "metadata": {
    "id": "39bee946"
   },
   "outputs": [],
   "source": []
  },
  {
   "cell_type": "markdown",
   "id": "c9d0ec5c",
   "metadata": {
    "id": "c9d0ec5c"
   },
   "source": [
    "### checking the distribution sepsis by Number of episodes"
   ]
  },
  {
   "cell_type": "code",
   "execution_count": 52,
   "id": "286334ca",
   "metadata": {
    "colab": {
     "base_uri": "https://localhost:8080/",
     "height": 696
    },
    "id": "286334ca",
    "outputId": "1f07130c-dbf1-4914-a545-023077ca9137"
   },
   "outputs": [
    {
     "data": {
      "image/png": "[encoded data removed]",
      "text/plain": [
       "<Figure size 576x576 with 1 Axes>"
      ]
     },
     "metadata": {
      "needs_background": "light"
     },
     "output_type": "display_data"
    }
   ],
   "source": [
    "plt.figure(figsize= (8,8))\n",
    "episodes = sns.countplot(primary_df['episode_number'])\n",
    "plt.xlabel('Number of Sepsis Episodes')\n",
    "plt.ylabel('Counts')\n",
    "for p in episodes.patches:\n",
    "   episodes.annotate('{:.0f}'.format(p.get_height()), (p.get_x()+0.35, p.get_height()+0.05))\n",
    "plt.show()"
   ]
  },
  {
   "cell_type": "markdown",
   "id": "10b2ef68",
   "metadata": {
    "id": "10b2ef68"
   },
   "source": [
    "### checking for correlations"
   ]
  },
  {
   "cell_type": "code",
   "execution_count": 53,
   "id": "c63491af",
   "metadata": {
    "colab": {
     "base_uri": "https://localhost:8080/",
     "height": 174
    },
    "id": "c63491af",
    "outputId": "7f30c375-d875-4496-b50a-182e3eee067f"
   },
   "outputs": [
    {
     "data": {
      "text/html": [
       "<div>\n",
       "<style scoped>\n",
       "    .dataframe tbody tr th:only-of-type {\n",
       "        vertical-align: middle;\n",
       "    }\n",
       "\n",
       "    .dataframe tbody tr th {\n",
       "        vertical-align: top;\n",
       "    }\n",
       "\n",
       "    .dataframe thead th {\n",
       "        text-align: right;\n",
       "    }\n",
       "</style>\n",
       "<table border=\"1\" class=\"dataframe\">\n",
       "  <thead>\n",
       "    <tr style=\"text-align: right;\">\n",
       "      <th></th>\n",
       "      <th>age_years</th>\n",
       "      <th>sex_0male_1female</th>\n",
       "      <th>episode_number</th>\n",
       "      <th>hospital_outcome_1alive_0dead</th>\n",
       "    </tr>\n",
       "  </thead>\n",
       "  <tbody>\n",
       "    <tr>\n",
       "      <th>age_years</th>\n",
       "      <td>1.000000</td>\n",
       "      <td>-0.014777</td>\n",
       "      <td>0.024309</td>\n",
       "      <td>-0.175198</td>\n",
       "    </tr>\n",
       "    <tr>\n",
       "      <th>sex_0male_1female</th>\n",
       "      <td>-0.014777</td>\n",
       "      <td>1.000000</td>\n",
       "      <td>-0.040984</td>\n",
       "      <td>0.021047</td>\n",
       "    </tr>\n",
       "    <tr>\n",
       "      <th>episode_number</th>\n",
       "      <td>0.024309</td>\n",
       "      <td>-0.040984</td>\n",
       "      <td>1.000000</td>\n",
       "      <td>-0.003963</td>\n",
       "    </tr>\n",
       "    <tr>\n",
       "      <th>hospital_outcome_1alive_0dead</th>\n",
       "      <td>-0.175198</td>\n",
       "      <td>0.021047</td>\n",
       "      <td>-0.003963</td>\n",
       "      <td>1.000000</td>\n",
       "    </tr>\n",
       "  </tbody>\n",
       "</table>\n",
       "</div>"
      ],
      "text/plain": [
       "                               age_years  sex_0male_1female  episode_number  \\\n",
       "age_years                       1.000000          -0.014777        0.024309   \n",
       "sex_0male_1female              -0.014777           1.000000       -0.040984   \n",
       "episode_number                  0.024309          -0.040984        1.000000   \n",
       "hospital_outcome_1alive_0dead  -0.175198           0.021047       -0.003963   \n",
       "\n",
       "                               hospital_outcome_1alive_0dead  \n",
       "age_years                                          -0.175198  \n",
       "sex_0male_1female                                   0.021047  \n",
       "episode_number                                     -0.003963  \n",
       "hospital_outcome_1alive_0dead                       1.000000  "
      ]
     },
     "execution_count": 53,
     "metadata": {},
     "output_type": "execute_result"
    }
   ],
   "source": [
    "corrs = primary_df.corr()\n",
    "corrs"
   ]
  },
  {
   "cell_type": "code",
   "execution_count": 54,
   "id": "20f0a5ca",
   "metadata": {
    "id": "20f0a5ca"
   },
   "outputs": [],
   "source": [
    "# there is very little correlations amongst variables which is a good thing for the model to make it difficult for learning and optimisation"
   ]
  },
  {
   "cell_type": "code",
   "execution_count": 55,
   "id": "fb631a6e",
   "metadata": {
    "colab": {
     "base_uri": "https://localhost:8080/",
     "height": 662
    },
    "id": "fb631a6e",
    "outputId": "6f24acab-e927-4afd-83b9-e665f347cc02"
   },
   "outputs": [
    {
     "data": {
      "text/plain": [
       "<AxesSubplot:>"
      ]
     },
     "execution_count": 55,
     "metadata": {},
     "output_type": "execute_result"
    },
    {
     "data": {
      "image/png": "[encoded data removed]",
      "text/plain": [
       "<Figure size 432x288 with 2 Axes>"
      ]
     },
     "metadata": {
      "needs_background": "light"
     },
     "output_type": "display_data"
    }
   ],
   "source": [
    "sns.heatmap(corrs, linewidth = 1, annot = True)"
   ]
  },
  {
   "cell_type": "markdown",
   "id": "9fe1e3b9",
   "metadata": {
    "id": "9fe1e3b9"
   },
   "source": [
    "### we build an age pyramid"
   ]
  },
  {
   "cell_type": "code",
   "execution_count": 56,
   "id": "24dbcdc1",
   "metadata": {
    "id": "24dbcdc1"
   },
   "outputs": [],
   "source": [
    "# Creating an age pyramid\n",
    "\n",
    "def age_group(age): # function to create Age Groups\n",
    "    if age <= 4:\n",
    "        return \"0-4\"\n",
    "    elif age <= 9:\n",
    "        return  \"5-9\"\n",
    "    elif age <=14:\n",
    "        return \"10-14\"\n",
    "    elif age <19:\n",
    "        return \"15-19\"\n",
    "    elif age <=24:\n",
    "        return \"20-24\"\n",
    "    elif age <=29:\n",
    "        return \"25-29\"\n",
    "    elif age <=34:\n",
    "        return \"30-34\"\n",
    "    elif age <= 39:\n",
    "        return \"35-39\"\n",
    "    elif age <=44:\n",
    "        return \"40-44\"\n",
    "    elif age <=49:\n",
    "        return \"45-49\"\n",
    "    elif age <= 54:\n",
    "        return \"50-54\"\n",
    "    elif age <=59:\n",
    "        return \"55-59\"\n",
    "    elif age <=64:\n",
    "        return \"60-64\"\n",
    "    elif age <= 69:\n",
    "        return \"65-69\"\n",
    "    elif age <=74:\n",
    "        return \"70-74\"\n",
    "    elif age<=79:\n",
    "        return \"75-79\"\n",
    "    elif age <= 84:\n",
    "        return \"80-84\"\n",
    "    elif age <=89:\n",
    "        return \"85-89\"\n",
    "    elif age <=94:\n",
    "        return \"90-94\"\n",
    "    elif age <=99:\n",
    "        return \"95-99\"\n",
    "    elif age > 99:\n",
    "        return \"100+\""
   ]
  },
  {
   "cell_type": "code",
   "execution_count": 57,
   "id": "e6d3578e",
   "metadata": {
    "id": "e6d3578e"
   },
   "outputs": [],
   "source": [
    "primary_df['Age Group']= primary_df['age_years'].apply(age_group)"
   ]
  },
  {
   "cell_type": "code",
   "execution_count": 58,
   "id": "61bca01a",
   "metadata": {
    "id": "61bca01a"
   },
   "outputs": [],
   "source": [
    "female =primary_df[primary_df['sex_0male_1female']== 1]"
   ]
  },
  {
   "cell_type": "code",
   "execution_count": 59,
   "id": "78eeb281",
   "metadata": {
    "id": "78eeb281"
   },
   "outputs": [],
   "source": [
    "male = primary_df[primary_df['sex_0male_1female']== 0]"
   ]
  },
  {
   "cell_type": "code",
   "execution_count": 60,
   "id": "4d305cda",
   "metadata": {
    "id": "4d305cda"
   },
   "outputs": [],
   "source": [
    "f= female['Age Group'].value_counts() "
   ]
  },
  {
   "cell_type": "code",
   "execution_count": 61,
   "id": "b693c948",
   "metadata": {
    "id": "b693c948"
   },
   "outputs": [],
   "source": [
    "\n",
    "m= male['Age Group'].value_counts() "
   ]
  },
  {
   "cell_type": "code",
   "execution_count": 62,
   "id": "0ee7bfbe",
   "metadata": {
    "colab": {
     "base_uri": "https://localhost:8080/"
    },
    "id": "0ee7bfbe",
    "outputId": "608af7e4-13e7-4b0e-bbb2-a24705d843ba"
   },
   "outputs": [
    {
     "data": {
      "text/plain": [
       "80-84    8726\n",
       "75-79    7647\n",
       "65-69    7543\n",
       "85-89    7175\n",
       "70-74    7001\n",
       "60-64    5765\n",
       "55-59    3966\n",
       "90-94    3486\n",
       "50-54    3005\n",
       "0-4      2733\n",
       "45-49    2343\n",
       "40-44    2094\n",
       "35-39    1562\n",
       "30-34    1165\n",
       "20-24    1137\n",
       "25-29     983\n",
       "15-19     616\n",
       "5-9       580\n",
       "95-99     536\n",
       "10-14     457\n",
       "100+       48\n",
       "Name: Age Group, dtype: int64"
      ]
     },
     "execution_count": 62,
     "metadata": {},
     "output_type": "execute_result"
    }
   ],
   "source": [
    "m"
   ]
  },
  {
   "cell_type": "code",
   "execution_count": 63,
   "id": "205c2ef6",
   "metadata": {
    "colab": {
     "base_uri": "https://localhost:8080/"
    },
    "id": "205c2ef6",
    "outputId": "382816b5-6139-41d2-fa90-aac1ba435b9d"
   },
   "outputs": [
    {
     "data": {
      "text/plain": [
       "Index(['80-84', '75-79', '65-69', '85-89', '70-74', '60-64', '55-59', '90-94',\n",
       "       '50-54', '0-4', '45-49', '40-44', '35-39', '30-34', '20-24', '25-29',\n",
       "       '15-19', '5-9', '95-99', '10-14', '100+'],\n",
       "      dtype='object')"
      ]
     },
     "execution_count": 63,
     "metadata": {},
     "output_type": "execute_result"
    }
   ],
   "source": [
    "m.index"
   ]
  },
  {
   "cell_type": "code",
   "execution_count": 64,
   "id": "f605f096",
   "metadata": {
    "colab": {
     "base_uri": "https://localhost:8080/"
    },
    "id": "f605f096",
    "outputId": "e3e86fa7-db4d-4611-ee74-da829d1a1637"
   },
   "outputs": [
    {
     "data": {
      "text/plain": [
       "array([8726, 7647, 7543, 7175, 7001, 5765, 3966, 3486, 3005, 2733, 2343,\n",
       "       2094, 1562, 1165, 1137,  983,  616,  580,  536,  457,   48],\n",
       "      dtype=int64)"
      ]
     },
     "execution_count": 64,
     "metadata": {},
     "output_type": "execute_result"
    }
   ],
   "source": [
    "m.values"
   ]
  },
  {
   "cell_type": "code",
   "execution_count": 65,
   "id": "7597fc1a",
   "metadata": {
    "colab": {
     "base_uri": "https://localhost:8080/"
    },
    "id": "7597fc1a",
    "outputId": "5c1738b9-c17e-46ae-b763-a2c782e3ad2e"
   },
   "outputs": [
    {
     "data": {
      "text/plain": [
       "Index(['85-89', '80-84', '75-79', '65-69', '70-74', '90-94', '60-64', '55-59',\n",
       "       '50-54', '0-4', '45-49', '40-44', '35-39', '20-24', '30-34', '25-29',\n",
       "       '95-99', '15-19', '5-9', '10-14', '100+'],\n",
       "      dtype='object')"
      ]
     },
     "execution_count": 65,
     "metadata": {},
     "output_type": "execute_result"
    }
   ],
   "source": [
    "f.index"
   ]
  },
  {
   "cell_type": "code",
   "execution_count": 66,
   "id": "0a4aa74d",
   "metadata": {
    "colab": {
     "base_uri": "https://localhost:8080/"
    },
    "id": "0a4aa74d",
    "outputId": "7a12008d-831d-43ee-f61f-2bf38c1357a3"
   },
   "outputs": [
    {
     "data": {
      "text/plain": [
       "array([7268, 7248, 5490, 5284, 5127, 4675, 4050, 3260, 2468, 2408, 2006,\n",
       "       1869, 1737, 1693, 1547, 1478, 1131,  790,  701,  461,  133],\n",
       "      dtype=int64)"
      ]
     },
     "execution_count": 66,
     "metadata": {},
     "output_type": "execute_result"
    }
   ],
   "source": [
    "f.values"
   ]
  },
  {
   "cell_type": "code",
   "execution_count": 67,
   "id": "8c5c08b7",
   "metadata": {
    "id": "8c5c08b7"
   },
   "outputs": [],
   "source": [
    "m= m*-1"
   ]
  },
  {
   "cell_type": "code",
   "execution_count": 68,
   "id": "a0a5913f",
   "metadata": {
    "id": "a0a5913f"
   },
   "outputs": [],
   "source": [
    "age_Class=['100+','95-99', '90-94','85-89','80-84','75-79','70-74','65-69','60-64','55-59', '50-54', '45-49','40-44','35-39','30-34','25-29', '20-24', '15-19','10-14','5-9','0-4' ]"
   ]
  },
  {
   "cell_type": "code",
   "execution_count": 69,
   "id": "9fe1507c",
   "metadata": {
    "colab": {
     "base_uri": "https://localhost:8080/",
     "height": 895
    },
    "id": "9fe1507c",
    "outputId": "d6858d15-f967-4b89-a3e0-66047a0eaf1e"
   },
   "outputs": [
    {
     "data": {
      "text/plain": [
       "Text(0.5, 1.0, 'Age Pyramid')"
      ]
     },
     "execution_count": 69,
     "metadata": {},
     "output_type": "execute_result"
    },
    {
     "data": {
      "image/png": "[encoded data removed]",
      "text/plain": [
       "<Figure size 720x720 with 1 Axes>"
      ]
     },
     "metadata": {
      "needs_background": "light"
     },
     "output_type": "display_data"
    }
   ],
   "source": [
    "font = {'family': 'Arial',\n",
    "        'color':  'black',\n",
    "        'weight': 'semibold',\n",
    "        'size': 14,\n",
    "        }\n",
    "plt.figure(figsize= (10,10))\n",
    "age_pyramid = sns.barplot(x= m.values, y= m.index, order= age_Class, color= ('mediumblue'), label = 'Male')\n",
    "age_pyramid = sns.barplot(x= f.values, y = f.index, order= age_Class, color = ('darkorange'), label = 'Female')\n",
    "plt.xlabel('Population Count for Male and Female', fontdict = font)\n",
    "plt.ylabel('Age Group', fontdict = font)\n",
    "age_pyramid.legend()\n",
    "plt.title('Age Pyramid', fontdict = font)"
   ]
  },
  {
   "cell_type": "code",
   "execution_count": null,
   "id": "038cc33f",
   "metadata": {
    "id": "038cc33f"
   },
   "outputs": [],
   "source": []
  },
  {
   "cell_type": "code",
   "execution_count": 70,
   "id": "205ef97d",
   "metadata": {
    "id": "205ef97d"
   },
   "outputs": [],
   "source": [
    "did_not_survive = primary_df[primary_df['hospital_outcome_1alive_0dead']==0] # we want ot check the distribution of non- survivors across different age groups"
   ]
  },
  {
   "cell_type": "code",
   "execution_count": 71,
   "id": "4dc62b07",
   "metadata": {
    "colab": {
     "base_uri": "https://localhost:8080/",
     "height": 423
    },
    "id": "4dc62b07",
    "outputId": "83b72d44-4316-46e6-dda1-029e609d18bc"
   },
   "outputs": [
    {
     "data": {
      "text/html": [
       "<div>\n",
       "<style scoped>\n",
       "    .dataframe tbody tr th:only-of-type {\n",
       "        vertical-align: middle;\n",
       "    }\n",
       "\n",
       "    .dataframe tbody tr th {\n",
       "        vertical-align: top;\n",
       "    }\n",
       "\n",
       "    .dataframe thead th {\n",
       "        text-align: right;\n",
       "    }\n",
       "</style>\n",
       "<table border=\"1\" class=\"dataframe\">\n",
       "  <thead>\n",
       "    <tr style=\"text-align: right;\">\n",
       "      <th></th>\n",
       "      <th>age_years</th>\n",
       "      <th>sex_0male_1female</th>\n",
       "      <th>episode_number</th>\n",
       "      <th>hospital_outcome_1alive_0dead</th>\n",
       "      <th>Age Group</th>\n",
       "    </tr>\n",
       "  </thead>\n",
       "  <tbody>\n",
       "    <tr>\n",
       "      <th>16</th>\n",
       "      <td>72</td>\n",
       "      <td>0</td>\n",
       "      <td>1</td>\n",
       "      <td>0</td>\n",
       "      <td>70-74</td>\n",
       "    </tr>\n",
       "    <tr>\n",
       "      <th>45</th>\n",
       "      <td>63</td>\n",
       "      <td>0</td>\n",
       "      <td>1</td>\n",
       "      <td>0</td>\n",
       "      <td>60-64</td>\n",
       "    </tr>\n",
       "    <tr>\n",
       "      <th>49</th>\n",
       "      <td>89</td>\n",
       "      <td>1</td>\n",
       "      <td>2</td>\n",
       "      <td>0</td>\n",
       "      <td>85-89</td>\n",
       "    </tr>\n",
       "    <tr>\n",
       "      <th>61</th>\n",
       "      <td>80</td>\n",
       "      <td>0</td>\n",
       "      <td>3</td>\n",
       "      <td>0</td>\n",
       "      <td>80-84</td>\n",
       "    </tr>\n",
       "    <tr>\n",
       "      <th>64</th>\n",
       "      <td>62</td>\n",
       "      <td>1</td>\n",
       "      <td>3</td>\n",
       "      <td>0</td>\n",
       "      <td>60-64</td>\n",
       "    </tr>\n",
       "    <tr>\n",
       "      <th>...</th>\n",
       "      <td>...</td>\n",
       "      <td>...</td>\n",
       "      <td>...</td>\n",
       "      <td>...</td>\n",
       "      <td>...</td>\n",
       "    </tr>\n",
       "    <tr>\n",
       "      <th>129379</th>\n",
       "      <td>71</td>\n",
       "      <td>0</td>\n",
       "      <td>1</td>\n",
       "      <td>0</td>\n",
       "      <td>70-74</td>\n",
       "    </tr>\n",
       "    <tr>\n",
       "      <th>129381</th>\n",
       "      <td>69</td>\n",
       "      <td>0</td>\n",
       "      <td>1</td>\n",
       "      <td>0</td>\n",
       "      <td>65-69</td>\n",
       "    </tr>\n",
       "    <tr>\n",
       "      <th>129385</th>\n",
       "      <td>50</td>\n",
       "      <td>0</td>\n",
       "      <td>1</td>\n",
       "      <td>0</td>\n",
       "      <td>50-54</td>\n",
       "    </tr>\n",
       "    <tr>\n",
       "      <th>129388</th>\n",
       "      <td>50</td>\n",
       "      <td>0</td>\n",
       "      <td>1</td>\n",
       "      <td>0</td>\n",
       "      <td>50-54</td>\n",
       "    </tr>\n",
       "    <tr>\n",
       "      <th>129390</th>\n",
       "      <td>58</td>\n",
       "      <td>0</td>\n",
       "      <td>1</td>\n",
       "      <td>0</td>\n",
       "      <td>55-59</td>\n",
       "    </tr>\n",
       "  </tbody>\n",
       "</table>\n",
       "<p>11735 rows × 5 columns</p>\n",
       "</div>"
      ],
      "text/plain": [
       "        age_years  sex_0male_1female  episode_number  \\\n",
       "16             72                  0               1   \n",
       "45             63                  0               1   \n",
       "49             89                  1               2   \n",
       "61             80                  0               3   \n",
       "64             62                  1               3   \n",
       "...           ...                ...             ...   \n",
       "129379         71                  0               1   \n",
       "129381         69                  0               1   \n",
       "129385         50                  0               1   \n",
       "129388         50                  0               1   \n",
       "129390         58                  0               1   \n",
       "\n",
       "        hospital_outcome_1alive_0dead Age Group  \n",
       "16                                  0     70-74  \n",
       "45                                  0     60-64  \n",
       "49                                  0     85-89  \n",
       "61                                  0     80-84  \n",
       "64                                  0     60-64  \n",
       "...                               ...       ...  \n",
       "129379                              0     70-74  \n",
       "129381                              0     65-69  \n",
       "129385                              0     50-54  \n",
       "129388                              0     50-54  \n",
       "129390                              0     55-59  \n",
       "\n",
       "[11735 rows x 5 columns]"
      ]
     },
     "execution_count": 71,
     "metadata": {},
     "output_type": "execute_result"
    }
   ],
   "source": [
    "did_not_survive"
   ]
  },
  {
   "cell_type": "code",
   "execution_count": 72,
   "id": "090026b3",
   "metadata": {
    "colab": {
     "base_uri": "https://localhost:8080/",
     "height": 720
    },
    "id": "090026b3",
    "outputId": "98d19550-6169-4d68-c1e6-cd4e5f33ddf1"
   },
   "outputs": [
    {
     "data": {
      "image/png": "[encoded data removed]",
      "text/plain": [
       "<Figure size 576x576 with 1 Axes>"
      ]
     },
     "metadata": {
      "needs_background": "light"
     },
     "output_type": "display_data"
    }
   ],
   "source": [
    "plt.figure(figsize= (8,8))\n",
    "episodes = sns.countplot(did_not_survive['Age Group'],  hue = did_not_survive['sex_0male_1female'], order= age_Class)\n",
    "plt.xlabel('Death by Age Group')\n",
    "plt.ylabel('Counts')\n",
    "for p in episodes.patches:\n",
    "   episodes.annotate('{:.0f}'.format(p.get_height()), (p.get_x()+0.10, p.get_height()+0.05))\n",
    "plt.gca().invert_xaxis()\n",
    "plt.xticks(rotation = 45)\n",
    "plt.show()\n",
    "\n"
   ]
  },
  {
   "cell_type": "code",
   "execution_count": null,
   "id": "0J_8LMI-01xF",
   "metadata": {
    "id": "0J_8LMI-01xF"
   },
   "outputs": [],
   "source": []
  },
  {
   "cell_type": "markdown",
   "id": "1e502a9a",
   "metadata": {
    "id": "1e502a9a"
   },
   "source": [
    "# Data Preprocessing"
   ]
  },
  {
   "cell_type": "markdown",
   "id": "5f0f5c65",
   "metadata": {
    "id": "5f0f5c65"
   },
   "source": [
    "#### # Split the data to input and output variables and then convert the data to np.array"
   ]
  },
  {
   "cell_type": "code",
   "execution_count": 73,
   "id": "1d16ff97",
   "metadata": {
    "id": "1d16ff97"
   },
   "outputs": [],
   "source": [
    "x =np.array(primary_df[['age_years','sex_0male_1female','episode_number']])\n",
    "y =np.array( primary_df[['hospital_outcome_1alive_0dead']])"
   ]
  },
  {
   "cell_type": "code",
   "execution_count": 74,
   "id": "84b0ac67",
   "metadata": {
    "colab": {
     "base_uri": "https://localhost:8080/"
    },
    "id": "84b0ac67",
    "outputId": "e173e11d-0b22-4db6-b6b2-1206dee97798"
   },
   "outputs": [
    {
     "data": {
      "text/plain": [
       "array([[21,  1,  1],\n",
       "       [20,  1,  1],\n",
       "       [21,  1,  1],\n",
       "       ...,\n",
       "       [62,  0,  1],\n",
       "       [58,  0,  1],\n",
       "       [55,  1,  1]], dtype=int64)"
      ]
     },
     "execution_count": 74,
     "metadata": {},
     "output_type": "execute_result"
    }
   ],
   "source": [
    "x"
   ]
  },
  {
   "cell_type": "code",
   "execution_count": 75,
   "id": "1b6b0baa",
   "metadata": {
    "colab": {
     "base_uri": "https://localhost:8080/"
    },
    "id": "1b6b0baa",
    "outputId": "222e0755-cbe2-428d-a473-b026cce1a01b"
   },
   "outputs": [
    {
     "data": {
      "text/plain": [
       "array([[1],\n",
       "       [1],\n",
       "       [1],\n",
       "       ...,\n",
       "       [1],\n",
       "       [0],\n",
       "       [1]], dtype=int64)"
      ]
     },
     "execution_count": 75,
     "metadata": {},
     "output_type": "execute_result"
    }
   ],
   "source": [
    "y"
   ]
  },
  {
   "cell_type": "markdown",
   "id": "05a5c499",
   "metadata": {
    "id": "05a5c499"
   },
   "source": [
    "#### Rescale the data to the bounds of the activation function (sigmoid) I am going to use"
   ]
  },
  {
   "cell_type": "code",
   "execution_count": 76,
   "id": "fdcb13a4",
   "metadata": {
    "id": "fdcb13a4"
   },
   "outputs": [],
   "source": [
    "scaler = MinMaxScaler(feature_range=(0, 1))"
   ]
  },
  {
   "cell_type": "code",
   "execution_count": 77,
   "id": "91a833b2",
   "metadata": {
    "colab": {
     "base_uri": "https://localhost:8080/"
    },
    "id": "91a833b2",
    "outputId": "daf53cb1-cb22-444a-d38c-fab726aae7da"
   },
   "outputs": [
    {
     "data": {
      "text/plain": [
       "array([[0.21, 1.  , 0.  ],\n",
       "       [0.2 , 1.  , 0.  ],\n",
       "       [0.21, 1.  , 0.  ],\n",
       "       ...,\n",
       "       [0.62, 0.  , 0.  ],\n",
       "       [0.58, 0.  , 0.  ],\n",
       "       [0.55, 1.  , 0.  ]])"
      ]
     },
     "execution_count": 77,
     "metadata": {},
     "output_type": "execute_result"
    }
   ],
   "source": [
    "X = scaler.fit_transform(x)\n",
    "X"
   ]
  },
  {
   "cell_type": "code",
   "execution_count": 42,
   "id": "hQGsPXqH1pIj",
   "metadata": {
    "id": "hQGsPXqH1pIj"
   },
   "outputs": [],
   "source": []
  },
  {
   "cell_type": "code",
   "execution_count": null,
   "id": "55fSEhbo1pk4",
   "metadata": {
    "id": "55fSEhbo1pk4"
   },
   "outputs": [],
   "source": []
  },
  {
   "cell_type": "markdown",
   "id": "96bfd5d6",
   "metadata": {
    "id": "96bfd5d6"
   },
   "source": [
    "# We then work on building our initial baseline model"
   ]
  },
  {
   "cell_type": "code",
   "execution_count": 43,
   "id": "089715a4",
   "metadata": {
    "id": "089715a4"
   },
   "outputs": [],
   "source": [
    "model = Sequential()\n",
    "model.add(Dense(units= 3, activation='relu', input_shape=(3,)))\n",
    "\n",
    "model.add(Dense(1, activation='sigmoid'))"
   ]
  },
  {
   "cell_type": "code",
   "execution_count": 44,
   "id": "5910491d",
   "metadata": {
    "colab": {
     "base_uri": "https://localhost:8080/"
    },
    "id": "5910491d",
    "outputId": "1bfcec78-bbbe-4c3e-867b-52442ed3b330"
   },
   "outputs": [
    {
     "name": "stdout",
     "output_type": "stream",
     "text": [
      "Model: \"sequential\"\n",
      "_________________________________________________________________\n",
      " Layer (type)                Output Shape              Param #   \n",
      "=================================================================\n",
      " dense (Dense)               (None, 3)                 12        \n",
      "                                                                 \n",
      " dense_1 (Dense)             (None, 1)                 4         \n",
      "                                                                 \n",
      "=================================================================\n",
      "Total params: 16\n",
      "Trainable params: 16\n",
      "Non-trainable params: 0\n",
      "_________________________________________________________________\n"
     ]
    }
   ],
   "source": [
    "model.summary()"
   ]
  },
  {
   "cell_type": "code",
   "execution_count": 45,
   "id": "3f018eb4",
   "metadata": {
    "id": "3f018eb4"
   },
   "outputs": [],
   "source": [
    "model.compile(loss='binary_crossentropy',\n",
    " optimizer='adam',\n",
    " metrics=['accuracy'])"
   ]
  },
  {
   "cell_type": "markdown",
   "id": "bb7c156f",
   "metadata": {
    "id": "bb7c156f"
   },
   "source": [
    "# We then split our data"
   ]
  },
  {
   "cell_type": "code",
   "execution_count": null,
   "id": "naxXqcuT76E1",
   "metadata": {
    "id": "naxXqcuT76E1"
   },
   "outputs": [],
   "source": []
  },
  {
   "cell_type": "code",
   "execution_count": 46,
   "id": "5a3c5538",
   "metadata": {
    "id": "5a3c5538"
   },
   "outputs": [],
   "source": [
    "\n",
    "x_train, x_test, y_train, y_test = train_test_split(X, y, shuffle= True, test_size=0.20, random_state=42)"
   ]
  },
  {
   "cell_type": "code",
   "execution_count": 47,
   "id": "dd23e0c8",
   "metadata": {
    "colab": {
     "base_uri": "https://localhost:8080/"
    },
    "id": "dd23e0c8",
    "outputId": "a3c62f0d-26d2-4ba3-bccf-0e932dd0bafd"
   },
   "outputs": [
    {
     "name": "stdout",
     "output_type": "stream",
     "text": [
      "Epoch 1/20\n",
      "809/809 [==============================] - 3s 3ms/step - loss: 0.5628 - accuracy: 0.9074 - val_loss: 0.4625 - val_accuracy: 0.9096\n",
      "Epoch 2/20\n",
      "809/809 [==============================] - 2s 2ms/step - loss: 0.4066 - accuracy: 0.9092 - val_loss: 0.3640 - val_accuracy: 0.9096\n",
      "Epoch 3/20\n",
      "809/809 [==============================] - 2s 2ms/step - loss: 0.3413 - accuracy: 0.9092 - val_loss: 0.3238 - val_accuracy: 0.9096\n",
      "Epoch 4/20\n",
      "809/809 [==============================] - 2s 2ms/step - loss: 0.3158 - accuracy: 0.9092 - val_loss: 0.3091 - val_accuracy: 0.9096\n",
      "Epoch 5/20\n",
      "809/809 [==============================] - 2s 2ms/step - loss: 0.3071 - accuracy: 0.9092 - val_loss: 0.3046 - val_accuracy: 0.9096\n",
      "Epoch 6/20\n",
      "809/809 [==============================] - 2s 2ms/step - loss: 0.3047 - accuracy: 0.9092 - val_loss: 0.3036 - val_accuracy: 0.9096\n",
      "Epoch 7/20\n",
      "809/809 [==============================] - 2s 2ms/step - loss: 0.3043 - accuracy: 0.9092 - val_loss: 0.3035 - val_accuracy: 0.9096\n",
      "Epoch 8/20\n",
      "809/809 [==============================] - 2s 2ms/step - loss: 0.3043 - accuracy: 0.9092 - val_loss: 0.3035 - val_accuracy: 0.9096\n",
      "Epoch 9/20\n",
      "809/809 [==============================] - 2s 2ms/step - loss: 0.3043 - accuracy: 0.9092 - val_loss: 0.3035 - val_accuracy: 0.9096\n",
      "Epoch 10/20\n",
      "809/809 [==============================] - 2s 2ms/step - loss: 0.3043 - accuracy: 0.9092 - val_loss: 0.3035 - val_accuracy: 0.9096\n",
      "Epoch 11/20\n",
      "809/809 [==============================] - 1s 2ms/step - loss: 0.3043 - accuracy: 0.9092 - val_loss: 0.3035 - val_accuracy: 0.9096\n",
      "Epoch 12/20\n",
      "809/809 [==============================] - 2s 3ms/step - loss: 0.3043 - accuracy: 0.9092 - val_loss: 0.3035 - val_accuracy: 0.9096\n",
      "Epoch 13/20\n",
      "809/809 [==============================] - 2s 3ms/step - loss: 0.3043 - accuracy: 0.9092 - val_loss: 0.3035 - val_accuracy: 0.9096\n",
      "Epoch 14/20\n",
      "809/809 [==============================] - 2s 3ms/step - loss: 0.3043 - accuracy: 0.9092 - val_loss: 0.3035 - val_accuracy: 0.9096\n",
      "Epoch 15/20\n",
      "809/809 [==============================] - 2s 3ms/step - loss: 0.3043 - accuracy: 0.9092 - val_loss: 0.3035 - val_accuracy: 0.9096\n",
      "Epoch 16/20\n",
      "809/809 [==============================] - 2s 3ms/step - loss: 0.3043 - accuracy: 0.9092 - val_loss: 0.3035 - val_accuracy: 0.9096\n",
      "Epoch 17/20\n",
      "809/809 [==============================] - 2s 2ms/step - loss: 0.3043 - accuracy: 0.9092 - val_loss: 0.3035 - val_accuracy: 0.9096\n",
      "Epoch 18/20\n",
      "809/809 [==============================] - 2s 2ms/step - loss: 0.3043 - accuracy: 0.9092 - val_loss: 0.3035 - val_accuracy: 0.9096\n",
      "Epoch 19/20\n",
      "809/809 [==============================] - 2s 2ms/step - loss: 0.3043 - accuracy: 0.9092 - val_loss: 0.3035 - val_accuracy: 0.9096\n",
      "Epoch 20/20\n",
      "809/809 [==============================] - 2s 2ms/step - loss: 0.3043 - accuracy: 0.9092 - val_loss: 0.3035 - val_accuracy: 0.9096\n",
      "809/809 [==============================] - 1s 1ms/step - loss: 0.3035 - accuracy: 0.9096\n",
      "Wall time: 38.2 s\n"
     ]
    }
   ],
   "source": [
    "%%time\n",
    "history = model.fit(x_train, y_train,\n",
    "                    batch_size = 128,\n",
    "                    epochs= 20,\n",
    "                    verbose=1,\n",
    "                    validation_data=(x_test, y_test))\n",
    "score = model.evaluate(x_test, y_test, verbose=1)"
   ]
  },
  {
   "cell_type": "code",
   "execution_count": 48,
   "id": "190511b7",
   "metadata": {
    "colab": {
     "base_uri": "https://localhost:8080/"
    },
    "id": "190511b7",
    "outputId": "a7a18a3e-3ad5-45de-d9c3-abe371fdeb41"
   },
   "outputs": [
    {
     "name": "stdout",
     "output_type": "stream",
     "text": [
      "Test loss: 0.303511381149292\n",
      "Test accuracy: 0.9095792174339294\n"
     ]
    }
   ],
   "source": [
    "# model started at a high accuracy but failed to improve, strongly denoting that it did not learn much\n",
    "print('Test loss:', score[0])\n",
    "print('Test accuracy:', score[1])"
   ]
  },
  {
   "cell_type": "code",
   "execution_count": 49,
   "id": "ce4bbaee",
   "metadata": {
    "id": "ce4bbaee"
   },
   "outputs": [],
   "source": [
    "acc = history.history['accuracy']\n",
    "val_acc = history.history['val_accuracy']\n",
    "loss = history.history['loss']\n",
    "val_loss = history.history['val_loss']\n",
    "epochs = 20\n",
    "\n",
    "epochs_range = range(epochs)"
   ]
  },
  {
   "cell_type": "code",
   "execution_count": 50,
   "id": "d5c81b66",
   "metadata": {
    "colab": {
     "base_uri": "https://localhost:8080/",
     "height": 499
    },
    "id": "d5c81b66",
    "outputId": "8ffe1f45-fdbd-4765-b255-9e811b8526fb"
   },
   "outputs": [
    {
     "data": {
      "image/png": "[encoded data removed]",
      "text/plain": [
       "<Figure size 576x576 with 1 Axes>"
      ]
     },
     "metadata": {
      "needs_background": "light"
     },
     "output_type": "display_data"
    }
   ],
   "source": [
    "%matplotlib inline\n",
    "plt.figure(figsize=(8, 8))\n",
    "plt.plot(epochs_range, acc, label='Training Accuracy')\n",
    "plt.plot(epochs_range, val_acc, label='Validation Accuracy')\n",
    "plt.legend(loc='upper left')\n",
    "plt.title('Training and Validation Accuracy')\n",
    "\n",
    "plt.plot(epochs_range, loss, label='Training Loss')\n",
    "plt.plot(epochs_range, val_loss, label='Validation Loss')\n",
    "plt.legend(loc='upper right')\n",
    "plt.title('Training and Validation Loss')\n",
    "plt.savefig(\"initial_model.pdf\", dpi=100)\n",
    "plt.show()"
   ]
  },
  {
   "cell_type": "code",
   "execution_count": 51,
   "id": "VLXg339KEGxy",
   "metadata": {
    "colab": {
     "base_uri": "https://localhost:8080/"
    },
    "id": "VLXg339KEGxy",
    "outputId": "dccceb4f-5fab-4e51-a07c-ec75e96e7be5"
   },
   "outputs": [
    {
     "data": {
      "text/plain": [
       "array([[1.],\n",
       "       [1.],\n",
       "       [1.],\n",
       "       ...,\n",
       "       [1.],\n",
       "       [1.],\n",
       "       [1.]], dtype=float32)"
      ]
     },
     "execution_count": 51,
     "metadata": {},
     "output_type": "execute_result"
    }
   ],
   "source": [
    "prediction_test = model.predict(x_test)\n",
    "prediction_test = np.rint(prediction_test)\n",
    "prediction_test"
   ]
  },
  {
   "cell_type": "code",
   "execution_count": 52,
   "id": "QkTpPfodEHN5",
   "metadata": {
    "colab": {
     "base_uri": "https://localhost:8080/"
    },
    "id": "QkTpPfodEHN5",
    "outputId": "a7098bd5-1fce-4743-f1d3-91812b9fea35"
   },
   "outputs": [
    {
     "name": "stdout",
     "output_type": "stream",
     "text": [
      "              precision    recall  f1-score   support\n",
      "\n",
      "           0       0.00      0.00      0.00      2340\n",
      "           1       0.91      1.00      0.95     23539\n",
      "\n",
      "    accuracy                           0.91     25879\n",
      "   macro avg       0.45      0.50      0.48     25879\n",
      "weighted avg       0.83      0.91      0.87     25879\n",
      "\n"
     ]
    }
   ],
   "source": [
    "print(classification_report(y_test, prediction_test))"
   ]
  },
  {
   "cell_type": "code",
   "execution_count": 53,
   "id": "POQdGijxEHTU",
   "metadata": {
    "colab": {
     "base_uri": "https://localhost:8080/"
    },
    "id": "POQdGijxEHTU",
    "outputId": "a6b736b6-b601-4c9e-c71f-3026c7b71dfc"
   },
   "outputs": [
    {
     "data": {
      "text/plain": [
       "array([[    0,  2340],\n",
       "       [    0, 23539]], dtype=int64)"
      ]
     },
     "execution_count": 53,
     "metadata": {},
     "output_type": "execute_result"
    }
   ],
   "source": [
    "confusion_matrix(y_test, prediction_test ) # unfortunately model did not learn anything!"
   ]
  },
  {
   "cell_type": "code",
   "execution_count": 54,
   "id": "B8wqaFi8EHfl",
   "metadata": {
    "id": "B8wqaFi8EHfl"
   },
   "outputs": [],
   "source": [
    "model.save('./unbalanced.h5')"
   ]
  },
  {
   "cell_type": "code",
   "execution_count": null,
   "id": "RtdW97inEHmU",
   "metadata": {
    "id": "RtdW97inEHmU"
   },
   "outputs": [],
   "source": []
  },
  {
   "cell_type": "markdown",
   "id": "23649c91",
   "metadata": {
    "id": "23649c91"
   },
   "source": [
    "# Data Augumentation using SMOTE method\n"
   ]
  },
  {
   "cell_type": "code",
   "execution_count": 78,
   "id": "62050291",
   "metadata": {
    "colab": {
     "base_uri": "https://localhost:8080/"
    },
    "id": "62050291",
    "outputId": "06846287-1d4a-4088-8316-5409a401952d"
   },
   "outputs": [
    {
     "name": "stdout",
     "output_type": "stream",
     "text": [
      "Before OverSampling, counts of label '1': [117657]\n",
      "Before OverSampling, counts of label '0': [11735] \n",
      "\n"
     ]
    }
   ],
   "source": [
    "print(\"Before OverSampling, counts of label '1': {}\".format(sum(y == 1)))\n",
    "print(\"Before OverSampling, counts of label '0': {} \\n\".format(sum(y == 0)))"
   ]
  },
  {
   "cell_type": "code",
   "execution_count": 79,
   "id": "456281fd",
   "metadata": {
    "id": "456281fd"
   },
   "outputs": [],
   "source": [
    "from collections import Counter\n",
    "from sklearn.svm import LinearSVC\n",
    "from imblearn.pipeline import make_pipeline\n",
    "from imblearn.base import BaseSampler\n",
    "from imblearn.over_sampling import (SMOTE, RandomOverSampler)\n",
    "#!pip install imbalanced-learn\n",
    "import imblearn\n",
    "from imblearn.over_sampling import SMOTE"
   ]
  },
  {
   "cell_type": "code",
   "execution_count": 80,
   "id": "c815ecb0",
   "metadata": {
    "id": "c815ecb0"
   },
   "outputs": [],
   "source": [
    "smeen = SMOTE(random_state= 2)"
   ]
  },
  {
   "cell_type": "code",
   "execution_count": 81,
   "id": "36900f69",
   "metadata": {
    "id": "36900f69"
   },
   "outputs": [],
   "source": [
    "Xtrain_een, ytrain_een = smeen.fit_resample(X, y,)"
   ]
  },
  {
   "cell_type": "code",
   "execution_count": 82,
   "id": "f4528f08",
   "metadata": {
    "colab": {
     "base_uri": "https://localhost:8080/"
    },
    "id": "f4528f08",
    "outputId": "9dd99a24-902b-44ca-9830-0a253a7e3c4a"
   },
   "outputs": [
    {
     "name": "stdout",
     "output_type": "stream",
     "text": [
      "After OverSampling, the shape of train_X: (235314, 3)\n",
      "After OverSampling, the shape of train_y: (235314,) \n",
      "\n"
     ]
    }
   ],
   "source": [
    "print('After OverSampling, the shape of train_X: {}'.format(Xtrain_een.shape))\n",
    "print('After OverSampling, the shape of train_y: {} \\n'.format(ytrain_een.shape))"
   ]
  },
  {
   "cell_type": "code",
   "execution_count": 60,
   "id": "O2npcDTC6z5s",
   "metadata": {
    "colab": {
     "base_uri": "https://localhost:8080/"
    },
    "id": "O2npcDTC6z5s",
    "outputId": "7a7c0966-951c-449f-ad8a-83a2eec10c4f"
   },
   "outputs": [
    {
     "name": "stdout",
     "output_type": "stream",
     "text": [
      "Before OverSampling, counts of label '1': 117657\n",
      "Before OverSampling, counts of label '0': 117657 \n",
      "\n"
     ]
    }
   ],
   "source": [
    "print(\"Before OverSampling, counts of label '1': {}\".format(sum(ytrain_een == 1)))\n",
    "print(\"Before OverSampling, counts of label '0': {} \\n\".format(sum(ytrain_een == 0)))"
   ]
  },
  {
   "cell_type": "code",
   "execution_count": 61,
   "id": "01801728",
   "metadata": {
    "id": "01801728"
   },
   "outputs": [],
   "source": [
    "#### Test on the same model again"
   ]
  },
  {
   "cell_type": "code",
   "execution_count": 62,
   "id": "2233a0f4",
   "metadata": {
    "id": "2233a0f4"
   },
   "outputs": [],
   "source": [
    "model = Sequential()\n",
    "model.add(Dense(units= 3, activation='relu', input_shape=(3,)))\n",
    "\n",
    "model.add(Dense(1, activation='sigmoid'))"
   ]
  },
  {
   "cell_type": "code",
   "execution_count": 63,
   "id": "14f46f4d",
   "metadata": {
    "id": "14f46f4d"
   },
   "outputs": [],
   "source": [
    "model.compile(loss='binary_crossentropy',\n",
    " optimizer='adam',\n",
    " metrics=['accuracy'])"
   ]
  },
  {
   "cell_type": "code",
   "execution_count": 64,
   "id": "3c2692e1",
   "metadata": {
    "id": "3c2692e1"
   },
   "outputs": [],
   "source": [
    "#### split the data again"
   ]
  },
  {
   "cell_type": "code",
   "execution_count": 65,
   "id": "825589af",
   "metadata": {
    "id": "825589af"
   },
   "outputs": [],
   "source": [
    "xx_train, xx_test, yy_train, yy_test = train_test_split(Xtrain_een, ytrain_een, shuffle= True, test_size=0.20, random_state=42)"
   ]
  },
  {
   "cell_type": "code",
   "execution_count": 66,
   "id": "eb4f62af",
   "metadata": {
    "colab": {
     "base_uri": "https://localhost:8080/"
    },
    "id": "eb4f62af",
    "outputId": "de1f7408-38b6-4bbb-aebe-081de47383ea"
   },
   "outputs": [
    {
     "name": "stdout",
     "output_type": "stream",
     "text": [
      "Epoch 1/20\n",
      "1471/1471 [==============================] - 3s 2ms/step - loss: 0.6690 - accuracy: 0.6046 - val_loss: 0.6499 - val_accuracy: 0.6359\n",
      "Epoch 2/20\n",
      "1471/1471 [==============================] - 3s 2ms/step - loss: 0.6411 - accuracy: 0.6355 - val_loss: 0.6314 - val_accuracy: 0.6423\n",
      "Epoch 3/20\n",
      "1471/1471 [==============================] - 3s 2ms/step - loss: 0.6313 - accuracy: 0.6368 - val_loss: 0.6261 - val_accuracy: 0.6445\n",
      "Epoch 4/20\n",
      "1471/1471 [==============================] - 3s 2ms/step - loss: 0.6287 - accuracy: 0.6361 - val_loss: 0.6252 - val_accuracy: 0.6403\n",
      "Epoch 5/20\n",
      "1471/1471 [==============================] - 3s 2ms/step - loss: 0.6278 - accuracy: 0.6360 - val_loss: 0.6240 - val_accuracy: 0.6435\n",
      "Epoch 6/20\n",
      "1471/1471 [==============================] - 3s 2ms/step - loss: 0.6273 - accuracy: 0.6357 - val_loss: 0.6235 - val_accuracy: 0.6449\n",
      "Epoch 7/20\n",
      "1471/1471 [==============================] - 3s 2ms/step - loss: 0.6271 - accuracy: 0.6356 - val_loss: 0.6242 - val_accuracy: 0.6390\n",
      "Epoch 8/20\n",
      "1471/1471 [==============================] - 3s 2ms/step - loss: 0.6269 - accuracy: 0.6357 - val_loss: 0.6234 - val_accuracy: 0.6417\n",
      "Epoch 9/20\n",
      "1471/1471 [==============================] - 3s 2ms/step - loss: 0.6268 - accuracy: 0.6357 - val_loss: 0.6231 - val_accuracy: 0.6436\n",
      "Epoch 10/20\n",
      "1471/1471 [==============================] - 3s 2ms/step - loss: 0.6267 - accuracy: 0.6355 - val_loss: 0.6231 - val_accuracy: 0.6412\n",
      "Epoch 11/20\n",
      "1471/1471 [==============================] - 3s 2ms/step - loss: 0.6266 - accuracy: 0.6359 - val_loss: 0.6229 - val_accuracy: 0.6436\n",
      "Epoch 12/20\n",
      "1471/1471 [==============================] - 3s 2ms/step - loss: 0.6265 - accuracy: 0.6355 - val_loss: 0.6231 - val_accuracy: 0.6408\n",
      "Epoch 13/20\n",
      "1471/1471 [==============================] - 3s 2ms/step - loss: 0.6265 - accuracy: 0.6359 - val_loss: 0.6228 - val_accuracy: 0.6443\n",
      "Epoch 14/20\n",
      "1471/1471 [==============================] - 3s 2ms/step - loss: 0.6265 - accuracy: 0.6357 - val_loss: 0.6228 - val_accuracy: 0.6424\n",
      "Epoch 15/20\n",
      "1471/1471 [==============================] - 3s 2ms/step - loss: 0.6264 - accuracy: 0.6361 - val_loss: 0.6229 - val_accuracy: 0.6420\n",
      "Epoch 16/20\n",
      "1471/1471 [==============================] - 3s 2ms/step - loss: 0.6264 - accuracy: 0.6356 - val_loss: 0.6229 - val_accuracy: 0.6414\n",
      "Epoch 17/20\n",
      "1471/1471 [==============================] - 3s 2ms/step - loss: 0.6264 - accuracy: 0.6355 - val_loss: 0.6228 - val_accuracy: 0.6425\n",
      "Epoch 18/20\n",
      "1471/1471 [==============================] - 3s 2ms/step - loss: 0.6264 - accuracy: 0.6357 - val_loss: 0.6228 - val_accuracy: 0.6430\n",
      "Epoch 19/20\n",
      "1471/1471 [==============================] - 3s 2ms/step - loss: 0.6264 - accuracy: 0.6358 - val_loss: 0.6227 - val_accuracy: 0.6425\n",
      "Epoch 20/20\n",
      "1471/1471 [==============================] - 3s 2ms/step - loss: 0.6264 - accuracy: 0.6358 - val_loss: 0.6226 - val_accuracy: 0.6428\n",
      "1471/1471 [==============================] - 2s 1ms/step - loss: 0.6226 - accuracy: 0.6428\n",
      "Wall time: 1min 1s\n"
     ]
    }
   ],
   "source": [
    "%%time\n",
    "history = model.fit(xx_train, yy_train,\n",
    "                    batch_size = 128,\n",
    "                    epochs= 20,\n",
    "                    verbose=1,\n",
    "                    validation_data=(xx_test, yy_test))\n",
    "score = model.evaluate(xx_test, yy_test, verbose=1)"
   ]
  },
  {
   "cell_type": "code",
   "execution_count": 67,
   "id": "1ed04a7b",
   "metadata": {
    "colab": {
     "base_uri": "https://localhost:8080/"
    },
    "id": "1ed04a7b",
    "outputId": "7175f456-9e7e-468f-d5d6-50c681c4465d"
   },
   "outputs": [
    {
     "name": "stdout",
     "output_type": "stream",
     "text": [
      "Test loss: 0.6226463317871094\n",
      "Test accuracy: 0.6427767276763916\n"
     ]
    }
   ],
   "source": [
    "# model started at a high accuracy but failed improve, strongly denoting that it did not learn much\n",
    "print('Test loss:', score[0])\n",
    "print('Test accuracy:', score[1])"
   ]
  },
  {
   "cell_type": "code",
   "execution_count": 68,
   "id": "c4f74d6a",
   "metadata": {
    "id": "c4f74d6a"
   },
   "outputs": [],
   "source": [
    "acc = history.history['accuracy']\n",
    "val_acc = history.history['val_accuracy']\n",
    "loss = history.history['loss']\n",
    "val_loss = history.history['val_loss']\n",
    "epochs = 20\n",
    "\n",
    "epochs_range = range(epochs)"
   ]
  },
  {
   "cell_type": "code",
   "execution_count": 69,
   "id": "5779b8ea",
   "metadata": {
    "colab": {
     "base_uri": "https://localhost:8080/",
     "height": 499
    },
    "id": "5779b8ea",
    "outputId": "1a1aa650-b118-4cfd-dbfd-c7dd3e24d029"
   },
   "outputs": [
    {
     "data": {
      "image/png": "[encoded data removed]",
      "text/plain": [
       "<Figure size 576x576 with 1 Axes>"
      ]
     },
     "metadata": {
      "needs_background": "light"
     },
     "output_type": "display_data"
    }
   ],
   "source": [
    "plt.figure(figsize=(8, 8))\n",
    "plt.plot(epochs_range, acc, label='Training Accuracy')\n",
    "plt.plot(epochs_range, val_acc, label='Validation Accuracy')\n",
    "plt.legend(loc='upper left')\n",
    "plt.title('Training and Validation Accuracy')\n",
    "\n",
    "plt.plot(epochs_range, loss, label='Training Loss')\n",
    "plt.plot(epochs_range, val_loss, label='Validation Loss')\n",
    "plt.legend(loc='upper right')\n",
    "plt.title('Training and Validation Loss')\n",
    "plt.savefig(\"plot after smote.pdf\", dpi=100)\n",
    "plt.show()"
   ]
  },
  {
   "cell_type": "code",
   "execution_count": 70,
   "id": "28fcd363",
   "metadata": {
    "colab": {
     "base_uri": "https://localhost:8080/"
    },
    "id": "28fcd363",
    "outputId": "cd85a0fb-aa8b-484e-954b-c9c02f0dee84"
   },
   "outputs": [
    {
     "data": {
      "text/plain": [
       "array([[0.],\n",
       "       [1.],\n",
       "       [0.],\n",
       "       ...,\n",
       "       [0.],\n",
       "       [0.],\n",
       "       [0.]], dtype=float32)"
      ]
     },
     "execution_count": 70,
     "metadata": {},
     "output_type": "execute_result"
    }
   ],
   "source": [
    "prediction_test = model.predict(xx_test)\n",
    "prediction_test = np.rint(prediction_test)\n",
    "prediction_test"
   ]
  },
  {
   "cell_type": "code",
   "execution_count": 71,
   "id": "2nX4V7r1JZWn",
   "metadata": {
    "colab": {
     "base_uri": "https://localhost:8080/"
    },
    "id": "2nX4V7r1JZWn",
    "outputId": "c7165572-3719-4901-d044-e709825e8f15"
   },
   "outputs": [
    {
     "name": "stdout",
     "output_type": "stream",
     "text": [
      "              precision    recall  f1-score   support\n",
      "\n",
      "           0       0.63      0.72      0.67     23686\n",
      "           1       0.67      0.56      0.61     23377\n",
      "\n",
      "    accuracy                           0.64     47063\n",
      "   macro avg       0.65      0.64      0.64     47063\n",
      "weighted avg       0.65      0.64      0.64     47063\n",
      "\n"
     ]
    }
   ],
   "source": [
    "print(classification_report(yy_test, prediction_test))"
   ]
  },
  {
   "cell_type": "code",
   "execution_count": 72,
   "id": "US8f5sy8GJrB",
   "metadata": {
    "colab": {
     "base_uri": "https://localhost:8080/"
    },
    "id": "US8f5sy8GJrB",
    "outputId": "b0e8e511-511e-41c9-97ce-151982ffe1a1"
   },
   "outputs": [
    {
     "data": {
      "text/plain": [
       "array([[17118,  6568],\n",
       "       [10244, 13133]], dtype=int64)"
      ]
     },
     "execution_count": 72,
     "metadata": {},
     "output_type": "execute_result"
    }
   ],
   "source": [
    "confusion_matrix(yy_test, prediction_test ) # there is improvement as seen on the output of the confusion matrix"
   ]
  },
  {
   "cell_type": "code",
   "execution_count": 73,
   "id": "-Y8bLlSp7Q36",
   "metadata": {
    "id": "-Y8bLlSp7Q36"
   },
   "outputs": [],
   "source": [
    "model.save('./smote_model.h5')"
   ]
  },
  {
   "cell_type": "markdown",
   "id": "fd4aefdd",
   "metadata": {
    "id": "rNBgJtNX7Q7C"
   },
   "source": [
    "### lets experiment with a label binarizer\n",
    "### convert the labels from integers to vectors\n"
   ]
  },
  {
   "cell_type": "code",
   "execution_count": 75,
   "id": "E1WWEmwi7Q95",
   "metadata": {
    "id": "E1WWEmwi7Q95"
   },
   "outputs": [],
   "source": [
    "model = Sequential()\n",
    "model.add(Dense(units= 3, activation='relu', input_shape=(3,)))\n",
    "\n",
    "model.add(Dense(1, activation='sigmoid'))"
   ]
  },
  {
   "cell_type": "code",
   "execution_count": 76,
   "id": "dOe0aHmC7RAe",
   "metadata": {
    "colab": {
     "base_uri": "https://localhost:8080/"
    },
    "id": "dOe0aHmC7RAe",
    "outputId": "391c67e2-54b3-4df0-f8fe-fdf50ad7e2f1"
   },
   "outputs": [
    {
     "name": "stdout",
     "output_type": "stream",
     "text": [
      "Model: \"sequential_2\"\n",
      "_________________________________________________________________\n",
      " Layer (type)                Output Shape              Param #   \n",
      "=================================================================\n",
      " dense_4 (Dense)             (None, 3)                 12        \n",
      "                                                                 \n",
      " dense_5 (Dense)             (None, 1)                 4         \n",
      "                                                                 \n",
      "=================================================================\n",
      "Total params: 16\n",
      "Trainable params: 16\n",
      "Non-trainable params: 0\n",
      "_________________________________________________________________\n"
     ]
    }
   ],
   "source": [
    "model.summary()"
   ]
  },
  {
   "cell_type": "code",
   "execution_count": 77,
   "id": "Z3oO0MMm7RDm",
   "metadata": {
    "id": "Z3oO0MMm7RDm"
   },
   "outputs": [],
   "source": [
    "larning_rate = 0.01\n",
    "epoch = 20\n",
    "momentums = 0.8\n",
    "\n",
    "model.compile(loss='binary_crossentropy',\n",
    " optimizer='adam',\n",
    " metrics=['accuracy'])"
   ]
  },
  {
   "cell_type": "code",
   "execution_count": 78,
   "id": "5OAxgMcE7RGG",
   "metadata": {
    "id": "5OAxgMcE7RGG"
   },
   "outputs": [],
   "source": [
    "xx_train, xx_test, yy_train, yy_test = train_test_split(Xtrain_een, ytrain_een, shuffle= True, test_size=0.20, random_state=42)"
   ]
  },
  {
   "cell_type": "code",
   "execution_count": 79,
   "id": "TTuVkOFK7RJT",
   "metadata": {
    "id": "TTuVkOFK7RJT"
   },
   "outputs": [],
   "source": [
    "lb = LabelBinarizer()\n",
    "trainYb = lb.fit_transform(yy_train)\n",
    "testYb = lb.transform(yy_test)"
   ]
  },
  {
   "cell_type": "code",
   "execution_count": 80,
   "id": "I2sZ22kY7RZ-",
   "metadata": {
    "colab": {
     "base_uri": "https://localhost:8080/"
    },
    "id": "I2sZ22kY7RZ-",
    "outputId": "3a9e9223-2e6a-4441-ca23-3bcb975a8187"
   },
   "outputs": [
    {
     "name": "stdout",
     "output_type": "stream",
     "text": [
      "Epoch 1/20\n",
      "1471/1471 [==============================] - 4s 2ms/step - loss: 0.6852 - accuracy: 0.5503 - val_loss: 0.6660 - val_accuracy: 0.6252\n",
      "Epoch 2/20\n",
      "1471/1471 [==============================] - 3s 2ms/step - loss: 0.6500 - accuracy: 0.6311 - val_loss: 0.6354 - val_accuracy: 0.6421\n",
      "Epoch 3/20\n",
      "1471/1471 [==============================] - 3s 2ms/step - loss: 0.6316 - accuracy: 0.6374 - val_loss: 0.6254 - val_accuracy: 0.6439\n",
      "Epoch 4/20\n",
      "1471/1471 [==============================] - 3s 2ms/step - loss: 0.6277 - accuracy: 0.6366 - val_loss: 0.6237 - val_accuracy: 0.6437\n",
      "Epoch 5/20\n",
      "1471/1471 [==============================] - 3s 2ms/step - loss: 0.6270 - accuracy: 0.6365 - val_loss: 0.6232 - val_accuracy: 0.6442\n",
      "Epoch 6/20\n",
      "1471/1471 [==============================] - 3s 2ms/step - loss: 0.6269 - accuracy: 0.6363 - val_loss: 0.6233 - val_accuracy: 0.6417\n",
      "Epoch 7/20\n",
      "1471/1471 [==============================] - 3s 2ms/step - loss: 0.6268 - accuracy: 0.6363 - val_loss: 0.6231 - val_accuracy: 0.6443\n",
      "Epoch 8/20\n",
      "1471/1471 [==============================] - 3s 2ms/step - loss: 0.6268 - accuracy: 0.6364 - val_loss: 0.6230 - val_accuracy: 0.6446\n",
      "Epoch 9/20\n",
      "1471/1471 [==============================] - 3s 2ms/step - loss: 0.6268 - accuracy: 0.6361 - val_loss: 0.6231 - val_accuracy: 0.6446\n",
      "Epoch 10/20\n",
      "1471/1471 [==============================] - 3s 2ms/step - loss: 0.6268 - accuracy: 0.6359 - val_loss: 0.6230 - val_accuracy: 0.6430\n",
      "Epoch 11/20\n",
      "1471/1471 [==============================] - 3s 2ms/step - loss: 0.6268 - accuracy: 0.6362 - val_loss: 0.6230 - val_accuracy: 0.6442\n",
      "Epoch 12/20\n",
      "1471/1471 [==============================] - 3s 2ms/step - loss: 0.6268 - accuracy: 0.6361 - val_loss: 0.6234 - val_accuracy: 0.6411\n",
      "Epoch 13/20\n",
      "1471/1471 [==============================] - 3s 2ms/step - loss: 0.6268 - accuracy: 0.6356 - val_loss: 0.6233 - val_accuracy: 0.6412\n",
      "Epoch 14/20\n",
      "1471/1471 [==============================] - 3s 2ms/step - loss: 0.6268 - accuracy: 0.6361 - val_loss: 0.6230 - val_accuracy: 0.6450\n",
      "Epoch 15/20\n",
      "1471/1471 [==============================] - 3s 2ms/step - loss: 0.6268 - accuracy: 0.6360 - val_loss: 0.6230 - val_accuracy: 0.6422\n",
      "Epoch 16/20\n",
      "1471/1471 [==============================] - 3s 2ms/step - loss: 0.6268 - accuracy: 0.6361 - val_loss: 0.6230 - val_accuracy: 0.6428\n",
      "Epoch 17/20\n",
      "1471/1471 [==============================] - 3s 2ms/step - loss: 0.6268 - accuracy: 0.6362 - val_loss: 0.6230 - val_accuracy: 0.6427\n",
      "Epoch 18/20\n",
      "1471/1471 [==============================] - 3s 2ms/step - loss: 0.6268 - accuracy: 0.6363 - val_loss: 0.6230 - val_accuracy: 0.6440\n",
      "Epoch 19/20\n",
      "1471/1471 [==============================] - 3s 2ms/step - loss: 0.6268 - accuracy: 0.6358 - val_loss: 0.6231 - val_accuracy: 0.6412\n",
      "Epoch 20/20\n",
      "1471/1471 [==============================] - 3s 2ms/step - loss: 0.6268 - accuracy: 0.6360 - val_loss: 0.6229 - val_accuracy: 0.6441\n",
      "1471/1471 [==============================] - 2s 1ms/step - loss: 0.6229 - accuracy: 0.6441\n",
      "Wall time: 59.6 s\n"
     ]
    }
   ],
   "source": [
    "%%time\n",
    "history = model.fit(xx_train, trainYb,\n",
    "                    batch_size = 128,\n",
    "                    epochs= epoch,\n",
    "                    verbose=1,\n",
    "                    validation_data=(xx_test, testYb))\n",
    "score = model.evaluate(xx_test,testYb, verbose=1)"
   ]
  },
  {
   "cell_type": "code",
   "execution_count": 81,
   "id": "rM5f8VGi7Rcq",
   "metadata": {
    "colab": {
     "base_uri": "https://localhost:8080/"
    },
    "id": "rM5f8VGi7Rcq",
    "outputId": "dc047bcd-52a1-40e6-fbaa-3786e672e3a1"
   },
   "outputs": [
    {
     "name": "stdout",
     "output_type": "stream",
     "text": [
      "Test loss: 0.6229113936424255\n",
      "Test accuracy: 0.6440728306770325\n"
     ]
    }
   ],
   "source": [
    "print('Test loss:', score[0])\n",
    "print('Test accuracy:', score[1])"
   ]
  },
  {
   "cell_type": "code",
   "execution_count": 82,
   "id": "geJgunpZ7Rfk",
   "metadata": {
    "id": "geJgunpZ7Rfk"
   },
   "outputs": [],
   "source": [
    "acc = history.history['accuracy']\n",
    "val_acc = history.history['val_accuracy']\n",
    "loss = history.history['loss']\n",
    "val_loss = history.history['val_loss']\n",
    "epochs = 20\n",
    "\n",
    "epochs_range = range(epochs)"
   ]
  },
  {
   "cell_type": "code",
   "execution_count": 83,
   "id": "L4ME9NEb7Rh8",
   "metadata": {
    "colab": {
     "base_uri": "https://localhost:8080/",
     "height": 499
    },
    "id": "L4ME9NEb7Rh8",
    "outputId": "dfe84d37-556f-4bcb-f8cb-289b67ca81b1"
   },
   "outputs": [
    {
     "data": {
      "image/png": "[encoded data removed]",
      "text/plain": [
       "<Figure size 576x576 with 1 Axes>"
      ]
     },
     "metadata": {
      "needs_background": "light"
     },
     "output_type": "display_data"
    }
   ],
   "source": [
    "plt.figure(figsize=(8, 8))\n",
    "plt.plot(epochs_range, acc, label='Training Accuracy')\n",
    "plt.plot(epochs_range, val_acc, label='Validation Accuracy')\n",
    "plt.legend(loc='upper left')\n",
    "plt.title('Training and Validation Accuracy')\n",
    "\n",
    "plt.plot(epochs_range, loss, label='Training Loss')\n",
    "plt.plot(epochs_range, val_loss, label='Validation Loss')\n",
    "plt.legend(loc='upper right')\n",
    "plt.title('Training and Validation Loss')\n",
    "plt.savefig(\"plot after smote.pdf\", dpi=100)\n",
    "plt.show()"
   ]
  },
  {
   "cell_type": "code",
   "execution_count": 84,
   "id": "8PyVHgyZJ77w",
   "metadata": {
    "colab": {
     "base_uri": "https://localhost:8080/"
    },
    "id": "8PyVHgyZJ77w",
    "outputId": "0688a95f-fbbe-4575-8751-d475169942e1"
   },
   "outputs": [
    {
     "data": {
      "text/plain": [
       "array([[0.],\n",
       "       [1.],\n",
       "       [0.],\n",
       "       ...,\n",
       "       [0.],\n",
       "       [0.],\n",
       "       [0.]], dtype=float32)"
      ]
     },
     "execution_count": 84,
     "metadata": {},
     "output_type": "execute_result"
    }
   ],
   "source": [
    "prediction_test = model.predict(xx_test)\n",
    "prediction_test = np.rint(prediction_test)\n",
    "prediction_test"
   ]
  },
  {
   "cell_type": "code",
   "execution_count": 85,
   "id": "93s-jY1d7RkR",
   "metadata": {
    "colab": {
     "base_uri": "https://localhost:8080/"
    },
    "id": "93s-jY1d7RkR",
    "outputId": "ded2bd3b-cfde-4e22-c3fc-f0894cb279c1"
   },
   "outputs": [
    {
     "name": "stdout",
     "output_type": "stream",
     "text": [
      "              precision    recall  f1-score   support\n",
      "\n",
      "           0       0.62      0.74      0.68     23686\n",
      "           1       0.67      0.55      0.61     23377\n",
      "\n",
      "    accuracy                           0.64     47063\n",
      "   macro avg       0.65      0.64      0.64     47063\n",
      "weighted avg       0.65      0.64      0.64     47063\n",
      "\n"
     ]
    }
   ],
   "source": [
    "print(classification_report(testYb, prediction_test))"
   ]
  },
  {
   "cell_type": "code",
   "execution_count": 86,
   "id": "df51e8ed",
   "metadata": {},
   "outputs": [],
   "source": [
    "model.save('./binarizer.h5')"
   ]
  },
  {
   "cell_type": "markdown",
   "id": "da752a9f",
   "metadata": {
    "id": "stFQ79ZM7Rmi"
   },
   "source": [
    "### We experiment using SGD to test using 30% and 20% respectively to try and harmonize the test znd training accuracy"
   ]
  },
  {
   "cell_type": "code",
   "execution_count": 88,
   "id": "SerSaLgSOgY7",
   "metadata": {
    "colab": {
     "base_uri": "https://localhost:8080/"
    },
    "id": "SerSaLgSOgY7",
    "outputId": "6edcaa7a-ccc8-40fd-95c5-a24d8bbe791b"
   },
   "outputs": [
    {
     "name": "stdout",
     "output_type": "stream",
     "text": [
      "Model: \"sequential_3\"\n",
      "_________________________________________________________________\n",
      " Layer (type)                Output Shape              Param #   \n",
      "=================================================================\n",
      " dense_6 (Dense)             (None, 3)                 12        \n",
      "                                                                 \n",
      " dense_7 (Dense)             (None, 1)                 4         \n",
      "                                                                 \n",
      "=================================================================\n",
      "Total params: 16\n",
      "Trainable params: 16\n",
      "Non-trainable params: 0\n",
      "_________________________________________________________________\n"
     ]
    }
   ],
   "source": [
    "model = Sequential()\n",
    "model.add(Dense(units= 3, activation='relu', input_shape=(3,)))\n",
    "\n",
    "\n",
    "model.add(Dense(1, activation='sigmoid'))\n",
    "\n",
    "model.summary()"
   ]
  },
  {
   "cell_type": "code",
   "execution_count": 89,
   "id": "RLeEhQdvOgc0",
   "metadata": {
    "id": "RLeEhQdvOgc0"
   },
   "outputs": [],
   "source": [
    "model.compile(loss='binary_crossentropy',\n",
    " optimizer='SGD',\n",
    " metrics=['accuracy'])"
   ]
  },
  {
   "cell_type": "code",
   "execution_count": 90,
   "id": "b5TkDT1tOgju",
   "metadata": {
    "id": "b5TkDT1tOgju"
   },
   "outputs": [],
   "source": [
    "xx_train, xx_test, yy_train, yy_test = train_test_split(Xtrain_een, ytrain_een, shuffle= True, test_size=0.30, random_state=42)"
   ]
  },
  {
   "cell_type": "code",
   "execution_count": 91,
   "id": "u42Ql-OZOgq_",
   "metadata": {
    "colab": {
     "base_uri": "https://localhost:8080/"
    },
    "id": "u42Ql-OZOgq_",
    "outputId": "456d2097-2b2f-4328-afe7-96aeb0ff35ba"
   },
   "outputs": [
    {
     "name": "stdout",
     "output_type": "stream",
     "text": [
      "Epoch 1/20\n",
      "1287/1287 [==============================] - 4s 2ms/step - loss: 0.6881 - accuracy: 0.5717 - val_loss: 0.6727 - val_accuracy: 0.6030\n",
      "Epoch 2/20\n",
      "1287/1287 [==============================] - 3s 2ms/step - loss: 0.6679 - accuracy: 0.6091 - val_loss: 0.6621 - val_accuracy: 0.6188\n",
      "Epoch 3/20\n",
      "1287/1287 [==============================] - 3s 3ms/step - loss: 0.6587 - accuracy: 0.6192 - val_loss: 0.6542 - val_accuracy: 0.6232\n",
      "Epoch 4/20\n",
      "1287/1287 [==============================] - 3s 3ms/step - loss: 0.6513 - accuracy: 0.6237 - val_loss: 0.6474 - val_accuracy: 0.6278\n",
      "Epoch 5/20\n",
      "1287/1287 [==============================] - 3s 2ms/step - loss: 0.6450 - accuracy: 0.6288 - val_loss: 0.6413 - val_accuracy: 0.6320\n",
      "Epoch 6/20\n",
      "1287/1287 [==============================] - 4s 3ms/step - loss: 0.6397 - accuracy: 0.6333 - val_loss: 0.6365 - val_accuracy: 0.6365\n",
      "Epoch 7/20\n",
      "1287/1287 [==============================] - 3s 2ms/step - loss: 0.6356 - accuracy: 0.6354 - val_loss: 0.6330 - val_accuracy: 0.6373\n",
      "Epoch 8/20\n",
      "1287/1287 [==============================] - 2s 2ms/step - loss: 0.6327 - accuracy: 0.6365 - val_loss: 0.6304 - val_accuracy: 0.6375\n",
      "Epoch 9/20\n",
      "1287/1287 [==============================] - 2s 2ms/step - loss: 0.6306 - accuracy: 0.6368 - val_loss: 0.6287 - val_accuracy: 0.6397\n",
      "Epoch 10/20\n",
      "1287/1287 [==============================] - 2s 2ms/step - loss: 0.6292 - accuracy: 0.6375 - val_loss: 0.6275 - val_accuracy: 0.6392\n",
      "Epoch 11/20\n",
      "1287/1287 [==============================] - 2s 2ms/step - loss: 0.6283 - accuracy: 0.6372 - val_loss: 0.6268 - val_accuracy: 0.6391\n",
      "Epoch 12/20\n",
      "1287/1287 [==============================] - 2s 2ms/step - loss: 0.6278 - accuracy: 0.6371 - val_loss: 0.6263 - val_accuracy: 0.6389\n",
      "Epoch 13/20\n",
      "1287/1287 [==============================] - 2s 2ms/step - loss: 0.6274 - accuracy: 0.6367 - val_loss: 0.6261 - val_accuracy: 0.6392\n",
      "Epoch 14/20\n",
      "1287/1287 [==============================] - 2s 2ms/step - loss: 0.6272 - accuracy: 0.6372 - val_loss: 0.6258 - val_accuracy: 0.6388\n",
      "Epoch 15/20\n",
      "1287/1287 [==============================] - 2s 2ms/step - loss: 0.6270 - accuracy: 0.6368 - val_loss: 0.6256 - val_accuracy: 0.6402\n",
      "Epoch 16/20\n",
      "1287/1287 [==============================] - 3s 2ms/step - loss: 0.6269 - accuracy: 0.6370 - val_loss: 0.6256 - val_accuracy: 0.6400\n",
      "Epoch 17/20\n",
      "1287/1287 [==============================] - 2s 2ms/step - loss: 0.6268 - accuracy: 0.6367 - val_loss: 0.6255 - val_accuracy: 0.6400\n",
      "Epoch 18/20\n",
      "1287/1287 [==============================] - 3s 2ms/step - loss: 0.6268 - accuracy: 0.6369 - val_loss: 0.6254 - val_accuracy: 0.6399\n",
      "Epoch 19/20\n",
      "1287/1287 [==============================] - 3s 2ms/step - loss: 0.6267 - accuracy: 0.6369 - val_loss: 0.6253 - val_accuracy: 0.6398\n",
      "Epoch 20/20\n",
      "1287/1287 [==============================] - 3s 2ms/step - loss: 0.6267 - accuracy: 0.6370 - val_loss: 0.6253 - val_accuracy: 0.6400\n",
      "2207/2207 [==============================] - 3s 1ms/step - loss: 0.6253 - accuracy: 0.6400\n",
      "Wall time: 59 s\n"
     ]
    }
   ],
   "source": [
    "%%time\n",
    "history = model.fit(xx_train, yy_train,\n",
    "                    batch_size = 128,\n",
    "                    epochs= 20,\n",
    "                    verbose=1,\n",
    "                    validation_data=(xx_test, yy_test))\n",
    "score = model.evaluate(xx_test, yy_test, verbose=1)"
   ]
  },
  {
   "cell_type": "code",
   "execution_count": 92,
   "id": "wIEKDP-eOgvA",
   "metadata": {
    "colab": {
     "base_uri": "https://localhost:8080/"
    },
    "id": "wIEKDP-eOgvA",
    "outputId": "81c575c0-941b-47ba-cb65-83820fdf1f89"
   },
   "outputs": [
    {
     "name": "stdout",
     "output_type": "stream",
     "text": [
      "Test loss: 0.6252886652946472\n",
      "Test accuracy: 0.6399886608123779\n"
     ]
    }
   ],
   "source": [
    "print('Test loss:', score[0])\n",
    "print('Test accuracy:', score[1])"
   ]
  },
  {
   "cell_type": "code",
   "execution_count": 93,
   "id": "aPXnGJ1rOgyi",
   "metadata": {
    "id": "aPXnGJ1rOgyi"
   },
   "outputs": [],
   "source": [
    "acc = history.history['accuracy']\n",
    "val_acc = history.history['val_accuracy']\n",
    "loss = history.history['loss']\n",
    "val_loss = history.history['val_loss']\n",
    "epochs = 20\n",
    "\n",
    "epochs_range = range(epochs)"
   ]
  },
  {
   "cell_type": "code",
   "execution_count": 94,
   "id": "SIhpFLx67Rpm",
   "metadata": {
    "colab": {
     "base_uri": "https://localhost:8080/",
     "height": 499
    },
    "id": "SIhpFLx67Rpm",
    "outputId": "1fbbaebc-101c-4e99-e799-88a3a20b00a9"
   },
   "outputs": [
    {
     "data": {
      "image/png": "[encoded data removed]",
      "text/plain": [
       "<Figure size 576x576 with 1 Axes>"
      ]
     },
     "metadata": {
      "needs_background": "light"
     },
     "output_type": "display_data"
    }
   ],
   "source": [
    "plt.figure(figsize=(8, 8))\n",
    "plt.plot(epochs_range, acc, label='Training Accuracy')\n",
    "plt.plot(epochs_range, val_acc, label='Validation Accuracy')\n",
    "plt.legend(loc='upper left')\n",
    "plt.title('Training and Validation Accuracy')\n",
    "\n",
    "plt.plot(epochs_range, loss, label='Training Loss')\n",
    "plt.plot(epochs_range, val_loss, label='Validation Loss')\n",
    "plt.legend(loc='upper right')\n",
    "plt.title('Training and Validation Loss')\n",
    "plt.savefig(\"plot after smote.pdf\", dpi=100)\n",
    "plt.show()"
   ]
  },
  {
   "cell_type": "code",
   "execution_count": 95,
   "id": "J15TgMyUMOZa",
   "metadata": {
    "colab": {
     "base_uri": "https://localhost:8080/"
    },
    "id": "J15TgMyUMOZa",
    "outputId": "6851f956-f796-4c43-f867-b69838806027"
   },
   "outputs": [
    {
     "data": {
      "text/plain": [
       "array([[0.],\n",
       "       [1.],\n",
       "       [0.],\n",
       "       ...,\n",
       "       [0.],\n",
       "       [0.],\n",
       "       [0.]], dtype=float32)"
      ]
     },
     "execution_count": 95,
     "metadata": {},
     "output_type": "execute_result"
    }
   ],
   "source": [
    "prediction_test = model.predict(xx_test)\n",
    "prediction_test = np.rint(prediction_test)\n",
    "prediction_test"
   ]
  },
  {
   "cell_type": "code",
   "execution_count": 96,
   "id": "d4VhVygoMQKy",
   "metadata": {
    "colab": {
     "base_uri": "https://localhost:8080/"
    },
    "id": "d4VhVygoMQKy",
    "outputId": "f2ace913-48fa-4255-a345-f7fa9f3f37fd"
   },
   "outputs": [
    {
     "name": "stdout",
     "output_type": "stream",
     "text": [
      "              precision    recall  f1-score   support\n",
      "\n",
      "           0       0.62      0.74      0.67     35423\n",
      "           1       0.67      0.54      0.60     35172\n",
      "\n",
      "    accuracy                           0.64     70595\n",
      "   macro avg       0.65      0.64      0.64     70595\n",
      "weighted avg       0.64      0.64      0.64     70595\n",
      "\n"
     ]
    }
   ],
   "source": [
    "print(classification_report(yy_test, prediction_test))"
   ]
  },
  {
   "cell_type": "code",
   "execution_count": 97,
   "id": "v0RNdpD1qzQu",
   "metadata": {
    "colab": {
     "base_uri": "https://localhost:8080/"
    },
    "id": "v0RNdpD1qzQu",
    "outputId": "deef3b6c-2a28-4a96-e215-7ca0db99cc74"
   },
   "outputs": [
    {
     "data": {
      "text/plain": [
       "array([[26064,  9359],\n",
       "       [16056, 19116]], dtype=int64)"
      ]
     },
     "execution_count": 97,
     "metadata": {},
     "output_type": "execute_result"
    }
   ],
   "source": [
    "confusion_matrix(yy_test, prediction_test )"
   ]
  },
  {
   "cell_type": "code",
   "execution_count": 98,
   "id": "AxdrYfcHZ0XN",
   "metadata": {
    "id": "AxdrYfcHZ0XN"
   },
   "outputs": [],
   "source": [
    "model.save('./SGD30.h5')"
   ]
  },
  {
   "cell_type": "code",
   "execution_count": 99,
   "id": "8bqRoLN47Rs6",
   "metadata": {
    "colab": {
     "base_uri": "https://localhost:8080/"
    },
    "id": "8bqRoLN47Rs6",
    "outputId": "66a272ef-8827-41f0-ae6c-df54e019caa2"
   },
   "outputs": [
    {
     "name": "stdout",
     "output_type": "stream",
     "text": [
      "Model: \"sequential_4\"\n",
      "_________________________________________________________________\n",
      " Layer (type)                Output Shape              Param #   \n",
      "=================================================================\n",
      " dense_8 (Dense)             (None, 3)                 12        \n",
      "                                                                 \n",
      " dense_9 (Dense)             (None, 1)                 4         \n",
      "                                                                 \n",
      "=================================================================\n",
      "Total params: 16\n",
      "Trainable params: 16\n",
      "Non-trainable params: 0\n",
      "_________________________________________________________________\n"
     ]
    }
   ],
   "source": [
    "model = Sequential() # we  experiment using SGD the same exact model but change the test size to 20\n",
    "model.add(Dense(units= 3, activation='relu', input_shape=(3,)))\n",
    "\n",
    "\n",
    "model.add(Dense(1, activation='sigmoid'))\n",
    "\n",
    "model.summary()"
   ]
  },
  {
   "cell_type": "code",
   "execution_count": 100,
   "id": "MnVmnE1RfgYE",
   "metadata": {
    "id": "MnVmnE1RfgYE"
   },
   "outputs": [],
   "source": [
    "model.compile(loss='binary_crossentropy',\n",
    " optimizer='SGD',\n",
    " metrics=['accuracy'])"
   ]
  },
  {
   "cell_type": "code",
   "execution_count": 101,
   "id": "HBuPKAmQfgbM",
   "metadata": {
    "id": "HBuPKAmQfgbM"
   },
   "outputs": [],
   "source": [
    "xx_train, xx_test, yy_train, yy_test = train_test_split(Xtrain_een, ytrain_een, shuffle= True, test_size=0.20, random_state=42)"
   ]
  },
  {
   "cell_type": "code",
   "execution_count": 102,
   "id": "ZNoTp3pegV9h",
   "metadata": {
    "colab": {
     "base_uri": "https://localhost:8080/"
    },
    "id": "ZNoTp3pegV9h",
    "outputId": "90dd40d9-a141-4a57-c936-1e61cad7f289"
   },
   "outputs": [
    {
     "name": "stdout",
     "output_type": "stream",
     "text": [
      "Epoch 1/20\n",
      "1471/1471 [==============================] - 5s 3ms/step - loss: 0.6823 - accuracy: 0.5838 - val_loss: 0.6769 - val_accuracy: 0.6031\n",
      "Epoch 2/20\n",
      "1471/1471 [==============================] - 2s 2ms/step - loss: 0.6724 - accuracy: 0.6084 - val_loss: 0.6664 - val_accuracy: 0.6186\n",
      "Epoch 3/20\n",
      "1471/1471 [==============================] - 3s 2ms/step - loss: 0.6620 - accuracy: 0.6235 - val_loss: 0.6555 - val_accuracy: 0.6311\n",
      "Epoch 4/20\n",
      "1471/1471 [==============================] - 3s 2ms/step - loss: 0.6519 - accuracy: 0.6304 - val_loss: 0.6454 - val_accuracy: 0.6377\n",
      "Epoch 5/20\n",
      "1471/1471 [==============================] - 2s 2ms/step - loss: 0.6433 - accuracy: 0.6360 - val_loss: 0.6375 - val_accuracy: 0.6433\n",
      "Epoch 6/20\n",
      "1471/1471 [==============================] - 2s 2ms/step - loss: 0.6369 - accuracy: 0.6377 - val_loss: 0.6318 - val_accuracy: 0.6446\n",
      "Epoch 7/20\n",
      "1471/1471 [==============================] - 2s 2ms/step - loss: 0.6326 - accuracy: 0.6386 - val_loss: 0.6280 - val_accuracy: 0.6460\n",
      "Epoch 8/20\n",
      "1471/1471 [==============================] - 2s 2ms/step - loss: 0.6297 - accuracy: 0.6386 - val_loss: 0.6256 - val_accuracy: 0.6436\n",
      "Epoch 9/20\n",
      "1471/1471 [==============================] - 2s 2ms/step - loss: 0.6278 - accuracy: 0.6377 - val_loss: 0.6238 - val_accuracy: 0.6434\n",
      "Epoch 10/20\n",
      "1471/1471 [==============================] - 3s 2ms/step - loss: 0.6267 - accuracy: 0.6378 - val_loss: 0.6229 - val_accuracy: 0.6442\n",
      "Epoch 11/20\n",
      "1471/1471 [==============================] - 5s 3ms/step - loss: 0.6263 - accuracy: 0.6377 - val_loss: 0.6226 - val_accuracy: 0.6442 loss: 0.6270 - accuracy - ETA: 1s -\n",
      "Epoch 12/20\n",
      "1471/1471 [==============================] - 3s 2ms/step - loss: 0.6262 - accuracy: 0.6377 - val_loss: 0.6224 - val_accuracy: 0.6441\n",
      "Epoch 13/20\n",
      "1471/1471 [==============================] - 3s 2ms/step - loss: 0.6261 - accuracy: 0.6377 - val_loss: 0.6226 - val_accuracy: 0.6434\n",
      "Epoch 14/20\n",
      "1471/1471 [==============================] - 3s 2ms/step - loss: 0.6261 - accuracy: 0.6377 - val_loss: 0.6226 - val_accuracy: 0.6433\n",
      "Epoch 15/20\n",
      "1471/1471 [==============================] - 3s 2ms/step - loss: 0.6261 - accuracy: 0.6375 - val_loss: 0.6223 - val_accuracy: 0.6446\n",
      "Epoch 16/20\n",
      "1471/1471 [==============================] - 3s 2ms/step - loss: 0.6260 - accuracy: 0.6373 - val_loss: 0.6223 - val_accuracy: 0.6445\n",
      "Epoch 17/20\n",
      "1471/1471 [==============================] - 3s 2ms/step - loss: 0.6260 - accuracy: 0.6375 - val_loss: 0.6222 - val_accuracy: 0.6441\n",
      "Epoch 18/20\n",
      "1471/1471 [==============================] - 3s 2ms/step - loss: 0.6260 - accuracy: 0.6375 - val_loss: 0.6221 - val_accuracy: 0.6447\n",
      "Epoch 19/20\n",
      "1471/1471 [==============================] - 3s 2ms/step - loss: 0.6260 - accuracy: 0.6374 - val_loss: 0.6222 - val_accuracy: 0.6451\n",
      "Epoch 20/20\n",
      "1471/1471 [==============================] - 3s 2ms/step - loss: 0.6260 - accuracy: 0.6378 - val_loss: 0.6221 - val_accuracy: 0.6447\n",
      "1471/1471 [==============================] - 2s 2ms/step - loss: 0.6221 - accuracy: 0.6447\n",
      "Wall time: 1min 1s\n"
     ]
    }
   ],
   "source": [
    "%%time\n",
    "history = model.fit(xx_train, yy_train,\n",
    "                    batch_size = 128,\n",
    "                    epochs= 20,\n",
    "                    verbose=1,\n",
    "                    validation_data=(xx_test, yy_test))\n",
    "score = model.evaluate(xx_test, yy_test, verbose=1)"
   ]
  },
  {
   "cell_type": "code",
   "execution_count": 103,
   "id": "71w2HY4qgWER",
   "metadata": {
    "colab": {
     "base_uri": "https://localhost:8080/"
    },
    "id": "71w2HY4qgWER",
    "outputId": "61d08efe-cf55-465e-81e4-771fbb75bd4e"
   },
   "outputs": [
    {
     "name": "stdout",
     "output_type": "stream",
     "text": [
      "Test loss: 0.6220648884773254\n",
      "Test accuracy: 0.6446890234947205\n"
     ]
    }
   ],
   "source": [
    "print('Test loss:', score[0])\n",
    "print('Test accuracy:', score[1])"
   ]
  },
  {
   "cell_type": "code",
   "execution_count": 104,
   "id": "PZshB43-b_XL",
   "metadata": {
    "colab": {
     "base_uri": "https://localhost:8080/",
     "height": 312
    },
    "id": "PZshB43-b_XL",
    "outputId": "e60eebd6-3776-4137-b2b0-e8d54fdb7a35"
   },
   "outputs": [
    {
     "name": "stdout",
     "output_type": "stream",
     "text": [
      "('You must install pydot (`pip install pydot`) and install graphviz (see instructions at https://graphviz.gitlab.io/download/) ', 'for plot_model/model_to_dot to work.')\n"
     ]
    }
   ],
   "source": [
    "from keras.utils.vis_utils import plot_model\n",
    "plot_model(model, to_file='main_model_plot.png', show_shapes=True, show_layer_names=True) # model architecture"
   ]
  },
  {
   "cell_type": "code",
   "execution_count": 105,
   "id": "IpfcM9Aqg22I",
   "metadata": {
    "id": "IpfcM9Aqg22I"
   },
   "outputs": [],
   "source": [
    "acc = history.history['accuracy']\n",
    "val_acc = history.history['val_accuracy']\n",
    "loss = history.history['loss']\n",
    "val_loss = history.history['val_loss']\n",
    "epochs = 20\n",
    "\n",
    "epochs_range = range(epochs)"
   ]
  },
  {
   "cell_type": "code",
   "execution_count": 106,
   "id": "3_erKFiYgWPq",
   "metadata": {
    "colab": {
     "base_uri": "https://localhost:8080/",
     "height": 499
    },
    "id": "3_erKFiYgWPq",
    "outputId": "5249eab5-1293-46d7-f55d-787d2216876d"
   },
   "outputs": [
    {
     "data": {
      "image/png": "[encoded data removed]",
      "text/plain": [
       "<Figure size 576x576 with 1 Axes>"
      ]
     },
     "metadata": {
      "needs_background": "light"
     },
     "output_type": "display_data"
    }
   ],
   "source": [
    "plt.figure(figsize=(8, 8))\n",
    "plt.plot(epochs_range, acc, label='Training Accuracy')\n",
    "plt.plot(epochs_range, val_acc, label='Validation Accuracy')\n",
    "plt.legend(loc='upper left')\n",
    "plt.title('Training and Validation Accuracy')\n",
    "\n",
    "plt.plot(epochs_range, loss, label='Training Loss')\n",
    "plt.plot(epochs_range, val_loss, label='Validation Loss')\n",
    "plt.legend(loc='upper right')\n",
    "plt.title('Training and Validation Loss')\n",
    "plt.savefig(\"plot after smote.pdf\", dpi=100)\n",
    "plt.show()"
   ]
  },
  {
   "cell_type": "code",
   "execution_count": 107,
   "id": "Z4UwKu5Cfgd3",
   "metadata": {
    "colab": {
     "base_uri": "https://localhost:8080/"
    },
    "id": "Z4UwKu5Cfgd3",
    "outputId": "1a92fcb5-eda4-475e-b5cc-06b6078aa352"
   },
   "outputs": [
    {
     "data": {
      "text/plain": [
       "array([[0.],\n",
       "       [1.],\n",
       "       [0.],\n",
       "       ...,\n",
       "       [0.],\n",
       "       [0.],\n",
       "       [0.]], dtype=float32)"
      ]
     },
     "execution_count": 107,
     "metadata": {},
     "output_type": "execute_result"
    }
   ],
   "source": [
    "prediction_test = model.predict(xx_test)\n",
    "prediction_test = np.rint(prediction_test)\n",
    "prediction_test"
   ]
  },
  {
   "cell_type": "code",
   "execution_count": 108,
   "id": "_TKOLMGVM0Ie",
   "metadata": {
    "colab": {
     "base_uri": "https://localhost:8080/"
    },
    "id": "_TKOLMGVM0Ie",
    "outputId": "0b155ff9-b1c1-4309-d5b7-34772dbfc94a"
   },
   "outputs": [
    {
     "name": "stdout",
     "output_type": "stream",
     "text": [
      "              precision    recall  f1-score   support\n",
      "\n",
      "           0       0.62      0.75      0.68     23686\n",
      "           1       0.68      0.54      0.60     23377\n",
      "\n",
      "    accuracy                           0.64     47063\n",
      "   macro avg       0.65      0.64      0.64     47063\n",
      "weighted avg       0.65      0.64      0.64     47063\n",
      "\n"
     ]
    }
   ],
   "source": [
    "print(classification_report(yy_test, prediction_test))"
   ]
  },
  {
   "cell_type": "code",
   "execution_count": 109,
   "id": "NjvtBDd1fggg",
   "metadata": {
    "colab": {
     "base_uri": "https://localhost:8080/"
    },
    "id": "NjvtBDd1fggg",
    "outputId": "2a86f6b7-4725-4939-8adf-f3da089532b4"
   },
   "outputs": [
    {
     "data": {
      "text/plain": [
       "array([[17724,  5962],\n",
       "       [10760, 12617]], dtype=int64)"
      ]
     },
     "execution_count": 109,
     "metadata": {},
     "output_type": "execute_result"
    }
   ],
   "source": [
    "confusion_matrix(yy_test, prediction_test ) # there is improvement as seen on the output of the confusion matrix"
   ]
  },
  {
   "cell_type": "code",
   "execution_count": 110,
   "id": "SAzyfjvofgjL",
   "metadata": {
    "id": "SAzyfjvofgjL"
   },
   "outputs": [],
   "source": [
    "model.save('./SGD20.h5')"
   ]
  },
  {
   "cell_type": "code",
   "execution_count": null,
   "id": "W-W0wVFffgln",
   "metadata": {
    "id": "W-W0wVFffgln"
   },
   "outputs": [],
   "source": []
  },
  {
   "cell_type": "code",
   "execution_count": null,
   "id": "T0pSYO1dfgpO",
   "metadata": {
    "id": "T0pSYO1dfgpO"
   },
   "outputs": [],
   "source": []
  },
  {
   "cell_type": "code",
   "execution_count": null,
   "id": "F4kgg-Rifg4p",
   "metadata": {
    "id": "F4kgg-Rifg4p"
   },
   "outputs": [],
   "source": []
  },
  {
   "cell_type": "code",
   "execution_count": null,
   "id": "IgJGt_3Mfg7a",
   "metadata": {
    "id": "IgJGt_3Mfg7a"
   },
   "outputs": [],
   "source": []
  },
  {
   "cell_type": "code",
   "execution_count": null,
   "id": "xjD3PveLfg_A",
   "metadata": {
    "id": "xjD3PveLfg_A"
   },
   "outputs": [],
   "source": []
  },
  {
   "cell_type": "markdown",
   "id": "e856dd8d",
   "metadata": {
    "id": "e856dd8d"
   },
   "source": [
    "## we test to use a hybrid of both oversampling and undersampling"
   ]
  },
  {
   "cell_type": "code",
   "execution_count": 111,
   "id": "818df230",
   "metadata": {
    "id": "818df230"
   },
   "outputs": [],
   "source": [
    "from imblearn.over_sampling import RandomOverSampler\n",
    "from imblearn.under_sampling import RandomUnderSampler"
   ]
  },
  {
   "cell_type": "code",
   "execution_count": 112,
   "id": "5ce1b2b6",
   "metadata": {
    "id": "5ce1b2b6"
   },
   "outputs": [],
   "source": [
    "# define oversampling strategy\n",
    "over = RandomOverSampler(sampling_strategy=0.89)\n",
    "# fit and apply the transform\n",
    "X_o, y_o = over.fit_resample(X, y)\n",
    "\n",
    "# define undersampling strategy\n",
    "under = RandomUnderSampler(sampling_strategy=0.9)\n",
    "# fit and apply the transform\n",
    "Xu, yu = under.fit_resample(X_o, y_o)\n"
   ]
  },
  {
   "cell_type": "code",
   "execution_count": 113,
   "id": "e4a2b64b",
   "metadata": {
    "colab": {
     "base_uri": "https://localhost:8080/",
     "height": 497
    },
    "id": "e4a2b64b",
    "outputId": "70588362-52a0-4219-fe61-144dd9c8bb48"
   },
   "outputs": [
    {
     "data": {
      "image/png": "[encoded data removed]",
      "text/plain": [
       "<Figure size 576x576 with 1 Axes>"
      ]
     },
     "metadata": {
      "needs_background": "light"
     },
     "output_type": "display_data"
    }
   ],
   "source": [
    "%matplotlib inline\n",
    "plt.figure(figsize= (8,8))\n",
    "labelss = sns.countplot(y_o)\n",
    "plt.xlabel('Mortality Count')\n",
    "plt.ylabel('Counts')\n",
    "for p in labelss.patches:\n",
    "   labelss.annotate('{:.0f}'.format(p.get_height()), (p.get_x()+0.35, p.get_height()+0.05))\n",
    "plt.show()"
   ]
  },
  {
   "cell_type": "code",
   "execution_count": 114,
   "id": "a_u1IyMKhl_D",
   "metadata": {
    "id": "a_u1IyMKhl_D"
   },
   "outputs": [],
   "source": [
    "# We retest the simple model using the hybrid over-sampling and under-sampling\n",
    "model = Sequential()\n",
    "model.add(Dense(units= 3, activation='relu', input_shape=(3,)))\n",
    "\n",
    "model.add(Dense(1, activation='sigmoid'))"
   ]
  },
  {
   "cell_type": "code",
   "execution_count": 115,
   "id": "-t_jB6FJhmcu",
   "metadata": {
    "colab": {
     "base_uri": "https://localhost:8080/"
    },
    "id": "-t_jB6FJhmcu",
    "outputId": "e0f42fec-2330-410a-e3a9-146d9250f61d"
   },
   "outputs": [
    {
     "name": "stdout",
     "output_type": "stream",
     "text": [
      "Model: \"sequential_5\"\n",
      "_________________________________________________________________\n",
      " Layer (type)                Output Shape              Param #   \n",
      "=================================================================\n",
      " dense_10 (Dense)            (None, 3)                 12        \n",
      "                                                                 \n",
      " dense_11 (Dense)            (None, 1)                 4         \n",
      "                                                                 \n",
      "=================================================================\n",
      "Total params: 16\n",
      "Trainable params: 16\n",
      "Non-trainable params: 0\n",
      "_________________________________________________________________\n"
     ]
    }
   ],
   "source": [
    "model.summary()"
   ]
  },
  {
   "cell_type": "code",
   "execution_count": 116,
   "id": "c5vQvFzrhmX4",
   "metadata": {
    "id": "c5vQvFzrhmX4"
   },
   "outputs": [],
   "source": [
    "model.compile(loss='binary_crossentropy',\n",
    " optimizer='adam',\n",
    " metrics=['accuracy'])"
   ]
  },
  {
   "cell_type": "code",
   "execution_count": 117,
   "id": "PGz7fUk1hmiT",
   "metadata": {
    "id": "PGz7fUk1hmiT"
   },
   "outputs": [],
   "source": [
    "xu_train, xu_test, yu_train, yu_test = train_test_split(Xu, yu, shuffle= True, test_size=0.20, random_state=42,)"
   ]
  },
  {
   "cell_type": "code",
   "execution_count": 118,
   "id": "jSqH1u_shmmm",
   "metadata": {
    "colab": {
     "base_uri": "https://localhost:8080/"
    },
    "id": "jSqH1u_shmmm",
    "outputId": "e669ff5a-45b3-4c80-89b6-814460bd1fab"
   },
   "outputs": [
    {
     "name": "stdout",
     "output_type": "stream",
     "text": [
      "Epoch 1/20\n",
      "1382/1382 [==============================] - 3s 2ms/step - loss: 0.6721 - accuracy: 0.6108 - val_loss: 0.6527 - val_accuracy: 0.6283\n",
      "Epoch 2/20\n",
      "1382/1382 [==============================] - 2s 2ms/step - loss: 0.6399 - accuracy: 0.6346 - val_loss: 0.6343 - val_accuracy: 0.6321\n",
      "Epoch 3/20\n",
      "1382/1382 [==============================] - 3s 2ms/step - loss: 0.6293 - accuracy: 0.6346 - val_loss: 0.6293 - val_accuracy: 0.6321\n",
      "Epoch 4/20\n",
      "1382/1382 [==============================] - 3s 2ms/step - loss: 0.6263 - accuracy: 0.6352 - val_loss: 0.6277 - val_accuracy: 0.6316\n",
      "Epoch 5/20\n",
      "1382/1382 [==============================] - 3s 2ms/step - loss: 0.6252 - accuracy: 0.6351 - val_loss: 0.6270 - val_accuracy: 0.6311\n",
      "Epoch 6/20\n",
      "1382/1382 [==============================] - 3s 2ms/step - loss: 0.6247 - accuracy: 0.6350 - val_loss: 0.6266 - val_accuracy: 0.6314\n",
      "Epoch 7/20\n",
      "1382/1382 [==============================] - 2s 2ms/step - loss: 0.6245 - accuracy: 0.6348 - val_loss: 0.6270 - val_accuracy: 0.6307\n",
      "Epoch 8/20\n",
      "1382/1382 [==============================] - 2s 2ms/step - loss: 0.6243 - accuracy: 0.6348 - val_loss: 0.6274 - val_accuracy: 0.6308\n",
      "Epoch 9/20\n",
      "1382/1382 [==============================] - 2s 2ms/step - loss: 0.6241 - accuracy: 0.6349 - val_loss: 0.6262 - val_accuracy: 0.6314\n",
      "Epoch 10/20\n",
      "1382/1382 [==============================] - 2s 2ms/step - loss: 0.6241 - accuracy: 0.6347 - val_loss: 0.6266 - val_accuracy: 0.6306\n",
      "Epoch 11/20\n",
      "1382/1382 [==============================] - 3s 2ms/step - loss: 0.6239 - accuracy: 0.6352 - val_loss: 0.6263 - val_accuracy: 0.6311\n",
      "Epoch 12/20\n",
      "1382/1382 [==============================] - 3s 2ms/step - loss: 0.6239 - accuracy: 0.6346 - val_loss: 0.6262 - val_accuracy: 0.6320\n",
      "Epoch 13/20\n",
      "1382/1382 [==============================] - 3s 2ms/step - loss: 0.6238 - accuracy: 0.6352 - val_loss: 0.6261 - val_accuracy: 0.6316\n",
      "Epoch 14/20\n",
      "1382/1382 [==============================] - 3s 2ms/step - loss: 0.6238 - accuracy: 0.6349 - val_loss: 0.6260 - val_accuracy: 0.6317\n",
      "Epoch 15/20\n",
      "1382/1382 [==============================] - 2s 2ms/step - loss: 0.6238 - accuracy: 0.6349 - val_loss: 0.6261 - val_accuracy: 0.6320\n",
      "Epoch 16/20\n",
      "1382/1382 [==============================] - 2s 2ms/step - loss: 0.6238 - accuracy: 0.6350 - val_loss: 0.6263 - val_accuracy: 0.6313\n",
      "Epoch 17/20\n",
      "1382/1382 [==============================] - 2s 2ms/step - loss: 0.6237 - accuracy: 0.6348 - val_loss: 0.6261 - val_accuracy: 0.6317\n",
      "Epoch 18/20\n",
      "1382/1382 [==============================] - 3s 2ms/step - loss: 0.6237 - accuracy: 0.6348 - val_loss: 0.6260 - val_accuracy: 0.6323\n",
      "Epoch 19/20\n",
      "1382/1382 [==============================] - 2s 2ms/step - loss: 0.6237 - accuracy: 0.6348 - val_loss: 0.6261 - val_accuracy: 0.6313\n",
      "Epoch 20/20\n",
      "1382/1382 [==============================] - 2s 2ms/step - loss: 0.6238 - accuracy: 0.6350 - val_loss: 0.6265 - val_accuracy: 0.6313\n",
      "1382/1382 [==============================] - 2s 1ms/step - loss: 0.6265 - accuracy: 0.6313\n",
      "Wall time: 54.2 s\n"
     ]
    }
   ],
   "source": [
    "%%time\n",
    "history = model.fit(xu_train, yu_train,\n",
    "                    batch_size = 128,\n",
    "                    epochs= 20,\n",
    "                    verbose=1,\n",
    "                    validation_data=(xu_test, yu_test))\n",
    "score = model.evaluate(xu_test, yu_test, verbose=1)"
   ]
  },
  {
   "cell_type": "code",
   "execution_count": 119,
   "id": "Iic9wzdfhmsR",
   "metadata": {
    "colab": {
     "base_uri": "https://localhost:8080/"
    },
    "id": "Iic9wzdfhmsR",
    "outputId": "9edfdd13-02ce-4063-c46f-2c9199f8e9ee"
   },
   "outputs": [
    {
     "name": "stdout",
     "output_type": "stream",
     "text": [
      "Test loss: 0.6265044212341309\n",
      "Test accuracy: 0.6312848925590515\n"
     ]
    }
   ],
   "source": [
    "# model is begining to learn\n",
    "print('Test loss:', score[0])\n",
    "print('Test accuracy:', score[1])"
   ]
  },
  {
   "cell_type": "code",
   "execution_count": 120,
   "id": "CYhnSBvqhmzq",
   "metadata": {
    "id": "CYhnSBvqhmzq"
   },
   "outputs": [],
   "source": [
    "acc = history.history['accuracy']\n",
    "val_acc = history.history['val_accuracy']\n",
    "loss = history.history['loss']\n",
    "val_loss = history.history['val_loss']\n",
    "epochs = 20\n",
    "\n",
    "epochs_range = range(epochs)"
   ]
  },
  {
   "cell_type": "code",
   "execution_count": 121,
   "id": "-SEESSqZiq1q",
   "metadata": {
    "colab": {
     "base_uri": "https://localhost:8080/",
     "height": 499
    },
    "id": "-SEESSqZiq1q",
    "outputId": "705728a6-b125-4466-95a4-7ebecd0fccea"
   },
   "outputs": [
    {
     "data": {
      "image/png": "[encoded data removed]",
      "text/plain": [
       "<Figure size 576x576 with 1 Axes>"
      ]
     },
     "metadata": {
      "needs_background": "light"
     },
     "output_type": "display_data"
    }
   ],
   "source": [
    "plt.figure(figsize=(8, 8))\n",
    "plt.plot(epochs_range, acc, label='Training Accuracy')\n",
    "plt.plot(epochs_range, val_acc, label='Validation Accuracy')\n",
    "plt.legend(loc='upper left')\n",
    "plt.title('Training and Validation Accuracy')\n",
    "\n",
    "plt.plot(epochs_range, loss, label='Training Loss')\n",
    "plt.plot(epochs_range, val_loss, label='Validation Loss')\n",
    "plt.legend(loc='upper right')\n",
    "plt.title('Training and Validation Loss')\n",
    "plt.savefig(\"hybrid_smote.pdf\", dpi=100)\n",
    "plt.show()"
   ]
  },
  {
   "cell_type": "code",
   "execution_count": 122,
   "id": "rMSrEM3wiq6D",
   "metadata": {
    "colab": {
     "base_uri": "https://localhost:8080/"
    },
    "id": "rMSrEM3wiq6D",
    "outputId": "e88ea7bf-7631-404a-fd7b-5c7ef035fd23"
   },
   "outputs": [
    {
     "data": {
      "text/plain": [
       "array([[0.],\n",
       "       [0.],\n",
       "       [0.],\n",
       "       ...,\n",
       "       [0.],\n",
       "       [1.],\n",
       "       [1.]], dtype=float32)"
      ]
     },
     "execution_count": 122,
     "metadata": {},
     "output_type": "execute_result"
    }
   ],
   "source": [
    "prediction_test = model.predict(xu_test)\n",
    "prediction_test = np.rint(prediction_test)\n",
    "prediction_test"
   ]
  },
  {
   "cell_type": "code",
   "execution_count": 123,
   "id": "_GCA07_8NRUo",
   "metadata": {
    "colab": {
     "base_uri": "https://localhost:8080/"
    },
    "id": "_GCA07_8NRUo",
    "outputId": "550ab0ab-398a-4e96-e4d3-99652f384ae6"
   },
   "outputs": [
    {
     "name": "stdout",
     "output_type": "stream",
     "text": [
      "              precision    recall  f1-score   support\n",
      "\n",
      "           0       0.59      0.69      0.64     20756\n",
      "           1       0.68      0.58      0.62     23457\n",
      "\n",
      "    accuracy                           0.63     44213\n",
      "   macro avg       0.64      0.63      0.63     44213\n",
      "weighted avg       0.64      0.63      0.63     44213\n",
      "\n"
     ]
    }
   ],
   "source": [
    "print(classification_report(yu_test, prediction_test))"
   ]
  },
  {
   "cell_type": "code",
   "execution_count": 124,
   "id": "gQyS3F1yiq-O",
   "metadata": {
    "colab": {
     "base_uri": "https://localhost:8080/"
    },
    "id": "gQyS3F1yiq-O",
    "outputId": "76912ff3-8602-460c-b378-aedd7b748bce"
   },
   "outputs": [
    {
     "data": {
      "text/plain": [
       "array([[14370,  6386],\n",
       "       [ 9916, 13541]], dtype=int64)"
      ]
     },
     "execution_count": 124,
     "metadata": {},
     "output_type": "execute_result"
    }
   ],
   "source": [
    "confusion_matrix(yu_test, prediction_test ) #with this techique the model does learn something!"
   ]
  },
  {
   "cell_type": "code",
   "execution_count": 125,
   "id": "GZ9adokoirGe",
   "metadata": {
    "id": "GZ9adokoirGe"
   },
   "outputs": [],
   "source": [
    "model.save('./Hybrid_oversample.h5')"
   ]
  },
  {
   "cell_type": "markdown",
   "id": "EJbKn0QtWdIf",
   "metadata": {
    "id": "EJbKn0QtWdIf"
   },
   "source": [
    "## We experiment another Sampling method using Sklearn to Resample"
   ]
  },
  {
   "cell_type": "code",
   "execution_count": 126,
   "id": "-8npG4nHXLeq",
   "metadata": {
    "colab": {
     "base_uri": "https://localhost:8080/"
    },
    "id": "-8npG4nHXLeq",
    "outputId": "b0057083-f597-440a-c29a-70cca0cd9878"
   },
   "outputs": [
    {
     "name": "stdout",
     "output_type": "stream",
     "text": [
      "1    117657\n",
      "0     11735\n",
      "Name: hospital_outcome_1alive_0dead, dtype: int64\n"
     ]
    }
   ],
   "source": [
    "del primary_df['Age Group']\n",
    "print (primary_df['hospital_outcome_1alive_0dead'].value_counts())"
   ]
  },
  {
   "cell_type": "code",
   "execution_count": 127,
   "id": "EatJk5rWSyoM",
   "metadata": {
    "id": "EatJk5rWSyoM"
   },
   "outputs": [],
   "source": [
    "# we attempt to upsample the minority and majority classes seperately\n",
    "df_major = primary_df[primary_df['hospital_outcome_1alive_0dead']==1]\n",
    "df_minor = primary_df[primary_df['hospital_outcome_1alive_0dead']==0]"
   ]
  },
  {
   "cell_type": "code",
   "execution_count": 128,
   "id": "mc3eap_2Sy3L",
   "metadata": {
    "id": "mc3eap_2Sy3L"
   },
   "outputs": [],
   "source": [
    "df_min_upsampled = resample(df_minor, replace= True, n_samples = 117657, random_state= 42)"
   ]
  },
  {
   "cell_type": "code",
   "execution_count": 129,
   "id": "bCho-w9YQuvI",
   "metadata": {
    "colab": {
     "base_uri": "https://localhost:8080/"
    },
    "id": "bCho-w9YQuvI",
    "outputId": "859ca399-5ce4-4876-9b5e-76a2bd5a468d"
   },
   "outputs": [
    {
     "name": "stdout",
     "output_type": "stream",
     "text": [
      "1    117657\n",
      "0    117657\n",
      "Name: hospital_outcome_1alive_0dead, dtype: int64\n"
     ]
    }
   ],
   "source": [
    "# both dataframes again\n",
    "df_up = pd.concat([df_major, df_min_upsampled])\n",
    "print(df_up['hospital_outcome_1alive_0dead'].value_counts())"
   ]
  },
  {
   "cell_type": "code",
   "execution_count": 130,
   "id": "UUalSnu_W-58",
   "metadata": {
    "colab": {
     "base_uri": "https://localhost:8080/"
    },
    "id": "UUalSnu_W-58",
    "outputId": "b4046ce1-c1f8-4731-e14d-4c404e0d642b"
   },
   "outputs": [
    {
     "name": "stdout",
     "output_type": "stream",
     "text": [
      "1    117657\n",
      "0    117657\n",
      "Name: hospital_outcome_1alive_0dead, dtype: int64\n"
     ]
    }
   ],
   "source": [
    "# merge both dataframes again\n",
    "df_up = pd.concat([df_major, df_min_upsampled])\n",
    "print(df_up['hospital_outcome_1alive_0dead'].value_counts())"
   ]
  },
  {
   "cell_type": "code",
   "execution_count": 131,
   "id": "1PpCpf7-YxMF",
   "metadata": {
    "colab": {
     "base_uri": "https://localhost:8080/"
    },
    "id": "1PpCpf7-YxMF",
    "outputId": "8ceb32fd-e35a-4fe4-8dbe-bcf26388888f"
   },
   "outputs": [
    {
     "name": "stdout",
     "output_type": "stream",
     "text": [
      "<class 'pandas.core.frame.DataFrame'>\n",
      "Int64Index: 235314 entries, 0 to 115765\n",
      "Data columns (total 4 columns):\n",
      " #   Column                         Non-Null Count   Dtype\n",
      "---  ------                         --------------   -----\n",
      " 0   age_years                      235314 non-null  int64\n",
      " 1   sex_0male_1female              235314 non-null  int64\n",
      " 2   episode_number                 235314 non-null  int64\n",
      " 3   hospital_outcome_1alive_0dead  235314 non-null  int64\n",
      "dtypes: int64(4)\n",
      "memory usage: 9.0 MB\n"
     ]
    }
   ],
   "source": [
    "df_up.info()"
   ]
  },
  {
   "cell_type": "code",
   "execution_count": 132,
   "id": "paQGqbjAbnK9",
   "metadata": {
    "colab": {
     "base_uri": "https://localhost:8080/",
     "height": 423
    },
    "id": "paQGqbjAbnK9",
    "outputId": "ec6a0b63-6e31-40af-97a3-f6d8e8cc061d"
   },
   "outputs": [
    {
     "data": {
      "text/html": [
       "<div>\n",
       "<style scoped>\n",
       "    .dataframe tbody tr th:only-of-type {\n",
       "        vertical-align: middle;\n",
       "    }\n",
       "\n",
       "    .dataframe tbody tr th {\n",
       "        vertical-align: top;\n",
       "    }\n",
       "\n",
       "    .dataframe thead th {\n",
       "        text-align: right;\n",
       "    }\n",
       "</style>\n",
       "<table border=\"1\" class=\"dataframe\">\n",
       "  <thead>\n",
       "    <tr style=\"text-align: right;\">\n",
       "      <th></th>\n",
       "      <th>age_years</th>\n",
       "      <th>sex_0male_1female</th>\n",
       "      <th>episode_number</th>\n",
       "      <th>hospital_outcome_1alive_0dead</th>\n",
       "    </tr>\n",
       "  </thead>\n",
       "  <tbody>\n",
       "    <tr>\n",
       "      <th>87424</th>\n",
       "      <td>59</td>\n",
       "      <td>0</td>\n",
       "      <td>1</td>\n",
       "      <td>1</td>\n",
       "    </tr>\n",
       "    <tr>\n",
       "      <th>52832</th>\n",
       "      <td>84</td>\n",
       "      <td>1</td>\n",
       "      <td>1</td>\n",
       "      <td>0</td>\n",
       "    </tr>\n",
       "    <tr>\n",
       "      <th>56779</th>\n",
       "      <td>81</td>\n",
       "      <td>1</td>\n",
       "      <td>1</td>\n",
       "      <td>0</td>\n",
       "    </tr>\n",
       "    <tr>\n",
       "      <th>17147</th>\n",
       "      <td>65</td>\n",
       "      <td>1</td>\n",
       "      <td>2</td>\n",
       "      <td>1</td>\n",
       "    </tr>\n",
       "    <tr>\n",
       "      <th>39287</th>\n",
       "      <td>63</td>\n",
       "      <td>0</td>\n",
       "      <td>2</td>\n",
       "      <td>1</td>\n",
       "    </tr>\n",
       "    <tr>\n",
       "      <th>...</th>\n",
       "      <td>...</td>\n",
       "      <td>...</td>\n",
       "      <td>...</td>\n",
       "      <td>...</td>\n",
       "    </tr>\n",
       "    <tr>\n",
       "      <th>26761</th>\n",
       "      <td>80</td>\n",
       "      <td>0</td>\n",
       "      <td>4</td>\n",
       "      <td>0</td>\n",
       "    </tr>\n",
       "    <tr>\n",
       "      <th>66371</th>\n",
       "      <td>94</td>\n",
       "      <td>1</td>\n",
       "      <td>3</td>\n",
       "      <td>0</td>\n",
       "    </tr>\n",
       "    <tr>\n",
       "      <th>83795</th>\n",
       "      <td>54</td>\n",
       "      <td>1</td>\n",
       "      <td>1</td>\n",
       "      <td>1</td>\n",
       "    </tr>\n",
       "    <tr>\n",
       "      <th>38923</th>\n",
       "      <td>79</td>\n",
       "      <td>0</td>\n",
       "      <td>2</td>\n",
       "      <td>0</td>\n",
       "    </tr>\n",
       "    <tr>\n",
       "      <th>53883</th>\n",
       "      <td>84</td>\n",
       "      <td>0</td>\n",
       "      <td>2</td>\n",
       "      <td>1</td>\n",
       "    </tr>\n",
       "  </tbody>\n",
       "</table>\n",
       "<p>235314 rows × 4 columns</p>\n",
       "</div>"
      ],
      "text/plain": [
       "       age_years  sex_0male_1female  episode_number  \\\n",
       "87424         59                  0               1   \n",
       "52832         84                  1               1   \n",
       "56779         81                  1               1   \n",
       "17147         65                  1               2   \n",
       "39287         63                  0               2   \n",
       "...          ...                ...             ...   \n",
       "26761         80                  0               4   \n",
       "66371         94                  1               3   \n",
       "83795         54                  1               1   \n",
       "38923         79                  0               2   \n",
       "53883         84                  0               2   \n",
       "\n",
       "       hospital_outcome_1alive_0dead  \n",
       "87424                              1  \n",
       "52832                              0  \n",
       "56779                              0  \n",
       "17147                              1  \n",
       "39287                              1  \n",
       "...                              ...  \n",
       "26761                              0  \n",
       "66371                              0  \n",
       "83795                              1  \n",
       "38923                              0  \n",
       "53883                              1  \n",
       "\n",
       "[235314 rows x 4 columns]"
      ]
     },
     "execution_count": 132,
     "metadata": {},
     "output_type": "execute_result"
    }
   ],
   "source": [
    "shuffle(df_up)"
   ]
  },
  {
   "cell_type": "code",
   "execution_count": 133,
   "id": "HX3k_JVKW_TA",
   "metadata": {
    "id": "HX3k_JVKW_TA"
   },
   "outputs": [],
   "source": [
    "rx = df_up.drop(labels= ['hospital_outcome_1alive_0dead'], axis = 1)\n",
    "ry = df_up['hospital_outcome_1alive_0dead'].values\n"
   ]
  },
  {
   "cell_type": "code",
   "execution_count": 134,
   "id": "11jaT-FPW_aC",
   "metadata": {
    "colab": {
     "base_uri": "https://localhost:8080/"
    },
    "id": "11jaT-FPW_aC",
    "outputId": "b633d50f-2371-40c1-f9b4-6a1e55f431c9"
   },
   "outputs": [
    {
     "data": {
      "text/plain": [
       "((235314,), (235314, 3))"
      ]
     },
     "execution_count": 134,
     "metadata": {},
     "output_type": "execute_result"
    }
   ],
   "source": [
    "# we then normalise the data again\n",
    "nx = np.array(rx)\n",
    "ny = np.array(ry)\n",
    "ny.shape, nx.shape"
   ]
  },
  {
   "cell_type": "code",
   "execution_count": 135,
   "id": "YOmBQsZlW_fu",
   "metadata": {
    "colab": {
     "base_uri": "https://localhost:8080/"
    },
    "id": "YOmBQsZlW_fu",
    "outputId": "a0a2e423-d049-4359-d8a3-f3936abb27fa"
   },
   "outputs": [
    {
     "data": {
      "text/plain": [
       "(235314, 3)"
      ]
     },
     "execution_count": 135,
     "metadata": {},
     "output_type": "execute_result"
    }
   ],
   "source": [
    "nx = scaler.fit_transform(nx)\n",
    "nx.shape"
   ]
  },
  {
   "cell_type": "code",
   "execution_count": 136,
   "id": "JvYZaYd8W_kr",
   "metadata": {
    "id": "JvYZaYd8W_kr"
   },
   "outputs": [],
   "source": [
    "nx_train, nx_test, ny_train, ny_test = train_test_split(nx, ny, shuffle= True, test_size=0.20, random_state=42,)"
   ]
  },
  {
   "cell_type": "code",
   "execution_count": 137,
   "id": "kVol_7xCW_pe",
   "metadata": {
    "id": "kVol_7xCW_pe"
   },
   "outputs": [],
   "source": [
    "model = Sequential()\n",
    "model.add(Dense(units= 3, activation='relu', input_shape=(3,)))\n",
    "\n",
    "model.add(Dense(1, activation='sigmoid'))"
   ]
  },
  {
   "cell_type": "code",
   "execution_count": 138,
   "id": "uhijvAuHmnQq",
   "metadata": {
    "colab": {
     "base_uri": "https://localhost:8080/"
    },
    "id": "uhijvAuHmnQq",
    "outputId": "068ac04f-0367-4d33-8490-c2ba524284ec"
   },
   "outputs": [
    {
     "name": "stdout",
     "output_type": "stream",
     "text": [
      "Model: \"sequential_6\"\n",
      "_________________________________________________________________\n",
      " Layer (type)                Output Shape              Param #   \n",
      "=================================================================\n",
      " dense_12 (Dense)            (None, 3)                 12        \n",
      "                                                                 \n",
      " dense_13 (Dense)            (None, 1)                 4         \n",
      "                                                                 \n",
      "=================================================================\n",
      "Total params: 16\n",
      "Trainable params: 16\n",
      "Non-trainable params: 0\n",
      "_________________________________________________________________\n"
     ]
    }
   ],
   "source": [
    "model.summary()"
   ]
  },
  {
   "cell_type": "code",
   "execution_count": 139,
   "id": "YtczRzhsW_ur",
   "metadata": {
    "id": "YtczRzhsW_ur"
   },
   "outputs": [],
   "source": []
  },
  {
   "cell_type": "code",
   "execution_count": 140,
   "id": "Rf0FdQx_W_0Z",
   "metadata": {
    "id": "Rf0FdQx_W_0Z"
   },
   "outputs": [],
   "source": [
    "model.compile(loss='binary_crossentropy',\n",
    " optimizer='adam',\n",
    " metrics=['accuracy'])"
   ]
  },
  {
   "cell_type": "code",
   "execution_count": 141,
   "id": "oe0r0O7_W_4s",
   "metadata": {
    "colab": {
     "base_uri": "https://localhost:8080/"
    },
    "id": "oe0r0O7_W_4s",
    "outputId": "c3758450-fe30-46b2-90bd-7c7e77eef792"
   },
   "outputs": [
    {
     "name": "stdout",
     "output_type": "stream",
     "text": [
      "Epoch 1/20\n",
      "1471/1471 [==============================] - 3s 2ms/step - loss: 0.6809 - accuracy: 0.5517 - val_loss: 0.6655 - val_accuracy: 0.5972\n",
      "Epoch 2/20\n",
      "1471/1471 [==============================] - 3s 2ms/step - loss: 0.6480 - accuracy: 0.6158 - val_loss: 0.6320 - val_accuracy: 0.6365\n",
      "Epoch 3/20\n",
      "1471/1471 [==============================] - 3s 2ms/step - loss: 0.6277 - accuracy: 0.6380 - val_loss: 0.6277 - val_accuracy: 0.6373\n",
      "Epoch 4/20\n",
      "1471/1471 [==============================] - 3s 2ms/step - loss: 0.6262 - accuracy: 0.6382 - val_loss: 0.6278 - val_accuracy: 0.6358\n",
      "Epoch 5/20\n",
      "1471/1471 [==============================] - 3s 2ms/step - loss: 0.6261 - accuracy: 0.6385 - val_loss: 0.6276 - val_accuracy: 0.6382\n",
      "Epoch 6/20\n",
      "1471/1471 [==============================] - 2s 2ms/step - loss: 0.6260 - accuracy: 0.6382 - val_loss: 0.6282 - val_accuracy: 0.6366\n",
      "Epoch 7/20\n",
      "1471/1471 [==============================] - 2s 2ms/step - loss: 0.6261 - accuracy: 0.6382 - val_loss: 0.6276 - val_accuracy: 0.6379\n",
      "Epoch 8/20\n",
      "1471/1471 [==============================] - 3s 2ms/step - loss: 0.6260 - accuracy: 0.6382 - val_loss: 0.6278 - val_accuracy: 0.6365\n",
      "Epoch 9/20\n",
      "1471/1471 [==============================] - 2s 2ms/step - loss: 0.6260 - accuracy: 0.6380 - val_loss: 0.6277 - val_accuracy: 0.6362\n",
      "Epoch 10/20\n",
      "1471/1471 [==============================] - 3s 2ms/step - loss: 0.6260 - accuracy: 0.6381 - val_loss: 0.6277 - val_accuracy: 0.6370\n",
      "Epoch 11/20\n",
      "1471/1471 [==============================] - 3s 2ms/step - loss: 0.6260 - accuracy: 0.6382 - val_loss: 0.6277 - val_accuracy: 0.6365\n",
      "Epoch 12/20\n",
      "1471/1471 [==============================] - 3s 2ms/step - loss: 0.6260 - accuracy: 0.6385 - val_loss: 0.6277 - val_accuracy: 0.6370\n",
      "Epoch 13/20\n",
      "1471/1471 [==============================] - 2s 2ms/step - loss: 0.6260 - accuracy: 0.6382 - val_loss: 0.6278 - val_accuracy: 0.6359\n",
      "Epoch 14/20\n",
      "1471/1471 [==============================] - 2s 2ms/step - loss: 0.6260 - accuracy: 0.6387 - val_loss: 0.6278 - val_accuracy: 0.6358\n",
      "Epoch 15/20\n",
      "1471/1471 [==============================] - 3s 2ms/step - loss: 0.6260 - accuracy: 0.6383 - val_loss: 0.6279 - val_accuracy: 0.6365\n",
      "Epoch 16/20\n",
      "1471/1471 [==============================] - 3s 2ms/step - loss: 0.6261 - accuracy: 0.6383 - val_loss: 0.6276 - val_accuracy: 0.6375\n",
      "Epoch 17/20\n",
      "1471/1471 [==============================] - 2s 2ms/step - loss: 0.6260 - accuracy: 0.6381 - val_loss: 0.6276 - val_accuracy: 0.6379\n",
      "Epoch 18/20\n",
      "1471/1471 [==============================] - 2s 2ms/step - loss: 0.6260 - accuracy: 0.6383 - val_loss: 0.6278 - val_accuracy: 0.6366\n",
      "Epoch 19/20\n",
      "1471/1471 [==============================] - 2s 2ms/step - loss: 0.6260 - accuracy: 0.6381 - val_loss: 0.6276 - val_accuracy: 0.6371\n",
      "Epoch 20/20\n",
      "1471/1471 [==============================] - 2s 2ms/step - loss: 0.6260 - accuracy: 0.6383 - val_loss: 0.6277 - val_accuracy: 0.6366\n",
      "1471/1471 [==============================] - 2s 1ms/step - loss: 0.6277 - accuracy: 0.6366\n",
      "Wall time: 53.1 s\n"
     ]
    }
   ],
   "source": [
    "%%time\n",
    "history = model.fit(nx_train, ny_train,\n",
    "                    batch_size = 128,\n",
    "                    epochs= 20,\n",
    "                    verbose=1,\n",
    "                    validation_data=(nx_test, ny_test))\n",
    "score = model.evaluate(nx_test, ny_test, verbose=1)"
   ]
  },
  {
   "cell_type": "code",
   "execution_count": 142,
   "id": "O9j65hYdm0Gl",
   "metadata": {
    "colab": {
     "base_uri": "https://localhost:8080/"
    },
    "id": "O9j65hYdm0Gl",
    "outputId": "1f238316-c67c-4020-b908-50deda601e86"
   },
   "outputs": [
    {
     "name": "stdout",
     "output_type": "stream",
     "text": [
      "Test loss: 0.6277168989181519\n",
      "Test accuracy: 0.636551022529602\n"
     ]
    }
   ],
   "source": [
    "print('Test loss:', score[0])\n",
    "print('Test accuracy:', score[1])"
   ]
  },
  {
   "cell_type": "code",
   "execution_count": 143,
   "id": "OwjIeo9Mm0Kb",
   "metadata": {
    "id": "OwjIeo9Mm0Kb"
   },
   "outputs": [],
   "source": [
    "acc = history.history['accuracy']\n",
    "val_acc = history.history['val_accuracy']\n",
    "loss = history.history['loss']\n",
    "val_loss = history.history['val_loss']\n",
    "epochs = 20\n",
    "\n",
    "epochs_range = range(epochs)"
   ]
  },
  {
   "cell_type": "code",
   "execution_count": 145,
   "id": "kfB6qGmwm0Or",
   "metadata": {
    "colab": {
     "base_uri": "https://localhost:8080/",
     "height": 499
    },
    "id": "kfB6qGmwm0Or",
    "outputId": "93870a6b-b0b4-4384-9d29-19fed42fddf0"
   },
   "outputs": [
    {
     "data": {
      "image/png": "[encoded data removed]",
      "text/plain": [
       "<Figure size 576x576 with 1 Axes>"
      ]
     },
     "metadata": {
      "needs_background": "light"
     },
     "output_type": "display_data"
    }
   ],
   "source": [
    "%matplotlib inline\n",
    "plt.figure(figsize=(8, 8))\n",
    "plt.plot(epochs_range, acc, label='Training Accuracy')\n",
    "plt.plot(epochs_range, val_acc, label='Validation Accuracy')\n",
    "plt.legend(loc='upper left')\n",
    "plt.title('Training and Validation Accuracy')\n",
    "\n",
    "plt.plot(epochs_range, loss, label='Training Loss')\n",
    "plt.plot(epochs_range, val_loss, label='Validation Loss')\n",
    "plt.legend(loc='upper right')\n",
    "plt.title('Training and Validation Loss')\n",
    "plt.savefig(\"initial_model_using_sklearn.pdf\", dpi=100)\n",
    "plt.show()"
   ]
  },
  {
   "cell_type": "code",
   "execution_count": 146,
   "id": "oeRThPuMm0SO",
   "metadata": {
    "colab": {
     "base_uri": "https://localhost:8080/"
    },
    "id": "oeRThPuMm0SO",
    "outputId": "059abcc0-40a0-4cbb-cd13-9434cf06d79b"
   },
   "outputs": [
    {
     "data": {
      "text/plain": [
       "array([[1.],\n",
       "       [1.],\n",
       "       [0.],\n",
       "       ...,\n",
       "       [1.],\n",
       "       [1.],\n",
       "       [0.]], dtype=float32)"
      ]
     },
     "execution_count": 146,
     "metadata": {},
     "output_type": "execute_result"
    }
   ],
   "source": [
    "prediction_test = model.predict(nx_test)\n",
    "prediction_test = np.rint(prediction_test)\n",
    "prediction_test"
   ]
  },
  {
   "cell_type": "code",
   "execution_count": 147,
   "id": "SymXmxv-Nojb",
   "metadata": {
    "colab": {
     "base_uri": "https://localhost:8080/"
    },
    "id": "SymXmxv-Nojb",
    "outputId": "cd3854de-e315-4e05-aaea-5f2d17671d50"
   },
   "outputs": [
    {
     "name": "stdout",
     "output_type": "stream",
     "text": [
      "              precision    recall  f1-score   support\n",
      "\n",
      "           0       0.62      0.73      0.67     23703\n",
      "           1       0.66      0.55      0.60     23360\n",
      "\n",
      "    accuracy                           0.64     47063\n",
      "   macro avg       0.64      0.64      0.63     47063\n",
      "weighted avg       0.64      0.64      0.63     47063\n",
      "\n"
     ]
    }
   ],
   "source": [
    "print(classification_report(ny_test, prediction_test))"
   ]
  },
  {
   "cell_type": "code",
   "execution_count": 148,
   "id": "6jTooOqYm0V4",
   "metadata": {
    "colab": {
     "base_uri": "https://localhost:8080/"
    },
    "id": "6jTooOqYm0V4",
    "outputId": "ceb63762-531d-4b49-ce10-f3f30ef3408c"
   },
   "outputs": [
    {
     "data": {
      "text/plain": [
       "array([[17213,  6490],\n",
       "       [10615, 12745]], dtype=int64)"
      ]
     },
     "execution_count": 148,
     "metadata": {},
     "output_type": "execute_result"
    }
   ],
   "source": [
    "confusion_matrix(ny_test, prediction_test )"
   ]
  },
  {
   "cell_type": "code",
   "execution_count": 149,
   "id": "waMPeep8m0Zd",
   "metadata": {
    "id": "waMPeep8m0Zd"
   },
   "outputs": [],
   "source": [
    "model.save('./Using_sklearn_resample.h5')"
   ]
  },
  {
   "cell_type": "code",
   "execution_count": null,
   "id": "HWKdwpbmm0eu",
   "metadata": {
    "id": "HWKdwpbmm0eu"
   },
   "outputs": [],
   "source": []
  },
  {
   "cell_type": "markdown",
   "id": "IwrTCAjsDxz-",
   "metadata": {
    "id": "IwrTCAjsDxz-"
   },
   "source": [
    "# We further investigate our model using the Hybrid resample for the sake of curiosity"
   ]
  },
  {
   "cell_type": "code",
   "execution_count": 158,
   "id": "t0kQzxzuW_9m",
   "metadata": {
    "id": "t0kQzxzuW_9m"
   },
   "outputs": [],
   "source": [
    "model = Sequential()\n",
    "model.add(Dense(units= 6, activation='relu', input_shape=(3,))) # double the number of neuron\n",
    "\n",
    "model.add(Dense(1, activation='sigmoid'))"
   ]
  },
  {
   "cell_type": "code",
   "execution_count": 159,
   "id": "FvoWbZElJq1e",
   "metadata": {
    "colab": {
     "base_uri": "https://localhost:8080/"
    },
    "id": "FvoWbZElJq1e",
    "outputId": "bc8fac73-4f68-4f72-cd32-6e5e992ce00b"
   },
   "outputs": [
    {
     "name": "stdout",
     "output_type": "stream",
     "text": [
      "Model: \"sequential_8\"\n",
      "_________________________________________________________________\n",
      " Layer (type)                Output Shape              Param #   \n",
      "=================================================================\n",
      " dense_16 (Dense)            (None, 6)                 24        \n",
      "                                                                 \n",
      " dense_17 (Dense)            (None, 1)                 7         \n",
      "                                                                 \n",
      "=================================================================\n",
      "Total params: 31\n",
      "Trainable params: 31\n",
      "Non-trainable params: 0\n",
      "_________________________________________________________________\n"
     ]
    }
   ],
   "source": [
    "model.summary()"
   ]
  },
  {
   "cell_type": "code",
   "execution_count": 160,
   "id": "kJsVSX8JJq5q",
   "metadata": {
    "id": "kJsVSX8JJq5q"
   },
   "outputs": [],
   "source": [
    "model.compile(loss='binary_crossentropy',\n",
    " optimizer= tf.keras.optimizers.Adam(learning_rate=0.0001), # reduced the learning rate\n",
    " metrics=['accuracy'])"
   ]
  },
  {
   "cell_type": "code",
   "execution_count": 161,
   "id": "9AK36KlBJq-H",
   "metadata": {
    "id": "9AK36KlBJq-H"
   },
   "outputs": [],
   "source": [
    "xu_train, xu_test, yu_train, yu_test = train_test_split(Xu, yu, shuffle= True, test_size=0.20, random_state=42)"
   ]
  },
  {
   "cell_type": "code",
   "execution_count": 166,
   "id": "w1F50y0VJrBh",
   "metadata": {
    "colab": {
     "base_uri": "https://localhost:8080/"
    },
    "id": "w1F50y0VJrBh",
    "outputId": "a59915de-7bdc-488a-c72e-d95319895496"
   },
   "outputs": [
    {
     "name": "stdout",
     "output_type": "stream",
     "text": [
      "Epoch 1/100\n",
      "2764/2764 [==============================] - 5s 2ms/step - loss: 0.6348 - accuracy: 0.6346 - val_loss: 0.6345 - val_accuracy: 0.6296\n",
      "Epoch 2/100\n",
      "2764/2764 [==============================] - 5s 2ms/step - loss: 0.6314 - accuracy: 0.6350 - val_loss: 0.6318 - val_accuracy: 0.6302\n",
      "Epoch 3/100\n",
      "2764/2764 [==============================] - 5s 2ms/step - loss: 0.6290 - accuracy: 0.6352 - val_loss: 0.6299 - val_accuracy: 0.6310\n",
      "Epoch 4/100\n",
      "2764/2764 [==============================] - 5s 2ms/step - loss: 0.6272 - accuracy: 0.6355 - val_loss: 0.6285 - val_accuracy: 0.6317\n",
      "Epoch 5/100\n",
      "2764/2764 [==============================] - 5s 2ms/step - loss: 0.6260 - accuracy: 0.6357 - val_loss: 0.6276 - val_accuracy: 0.6313\n",
      "Epoch 6/100\n",
      "2764/2764 [==============================] - 5s 2ms/step - loss: 0.6251 - accuracy: 0.6353 - val_loss: 0.6268 - val_accuracy: 0.6313\n",
      "Epoch 7/100\n",
      "2764/2764 [==============================] - 5s 2ms/step - loss: 0.6245 - accuracy: 0.6354 - val_loss: 0.6264 - val_accuracy: 0.6316\n",
      "Epoch 8/100\n",
      "2764/2764 [==============================] - 5s 2ms/step - loss: 0.6242 - accuracy: 0.6356 - val_loss: 0.6263 - val_accuracy: 0.6319\n",
      "Epoch 9/100\n",
      "2764/2764 [==============================] - 5s 2ms/step - loss: 0.6240 - accuracy: 0.6353 - val_loss: 0.6262 - val_accuracy: 0.6313\n",
      "Epoch 10/100\n",
      "2764/2764 [==============================] - 5s 2ms/step - loss: 0.6239 - accuracy: 0.6353 - val_loss: 0.6261 - val_accuracy: 0.6314\n",
      "Epoch 11/100\n",
      "2764/2764 [==============================] - 5s 2ms/step - loss: 0.6237 - accuracy: 0.6353 - val_loss: 0.6261 - val_accuracy: 0.6312\n",
      "Epoch 12/100\n",
      "2764/2764 [==============================] - 5s 2ms/step - loss: 0.6236 - accuracy: 0.6353 - val_loss: 0.6259 - val_accuracy: 0.6312\n",
      "Epoch 13/100\n",
      "2764/2764 [==============================] - 4s 2ms/step - loss: 0.6235 - accuracy: 0.6351 - val_loss: 0.6258 - val_accuracy: 0.6308\n",
      "Epoch 14/100\n",
      "2764/2764 [==============================] - 4s 2ms/step - loss: 0.6233 - accuracy: 0.6349 - val_loss: 0.6257 - val_accuracy: 0.6309\n",
      "Epoch 15/100\n",
      "2764/2764 [==============================] - 4s 1ms/step - loss: 0.6231 - accuracy: 0.6351 - val_loss: 0.6255 - val_accuracy: 0.6309\n",
      "Epoch 16/100\n",
      "2764/2764 [==============================] - 4s 2ms/step - loss: 0.6230 - accuracy: 0.6353 - val_loss: 0.6253 - val_accuracy: 0.6311\n",
      "Epoch 17/100\n",
      "2764/2764 [==============================] - 4s 2ms/step - loss: 0.6228 - accuracy: 0.6355 - val_loss: 0.6252 - val_accuracy: 0.6314\n",
      "Epoch 18/100\n",
      "2764/2764 [==============================] - 4s 1ms/step - loss: 0.6226 - accuracy: 0.6357 - val_loss: 0.6251 - val_accuracy: 0.6317\n",
      "Epoch 19/100\n",
      "2764/2764 [==============================] - 4s 1ms/step - loss: 0.6225 - accuracy: 0.6359 - val_loss: 0.6250 - val_accuracy: 0.6320\n",
      "Epoch 20/100\n",
      "2764/2764 [==============================] - 4s 1ms/step - loss: 0.6224 - accuracy: 0.6356 - val_loss: 0.6249 - val_accuracy: 0.6326\n",
      "Epoch 21/100\n",
      "2764/2764 [==============================] - 6s 2ms/step - loss: 0.6223 - accuracy: 0.6363 - val_loss: 0.6251 - val_accuracy: 0.6326\n",
      "Epoch 22/100\n",
      "2764/2764 [==============================] - 5s 2ms/step - loss: 0.6223 - accuracy: 0.6361 - val_loss: 0.6249 - val_accuracy: 0.6324\n",
      "Epoch 23/100\n",
      "2764/2764 [==============================] - 5s 2ms/step - loss: 0.6222 - accuracy: 0.6363 - val_loss: 0.6247 - val_accuracy: 0.6335\n",
      "Epoch 24/100\n",
      "2764/2764 [==============================] - 5s 2ms/step - loss: 0.6222 - accuracy: 0.6364 - val_loss: 0.6248 - val_accuracy: 0.6323\n",
      "Epoch 25/100\n",
      "2764/2764 [==============================] - 4s 2ms/step - loss: 0.6221 - accuracy: 0.6363 - val_loss: 0.6247 - val_accuracy: 0.6332 loss: 0\n",
      "Epoch 26/100\n",
      "2764/2764 [==============================] - 6s 2ms/step - loss: 0.6221 - accuracy: 0.6360 - val_loss: 0.6247 - val_accuracy: 0.6331\n",
      "Epoch 27/100\n",
      "2764/2764 [==============================] - 5s 2ms/step - loss: 0.6221 - accuracy: 0.6362 - val_loss: 0.6247 - val_accuracy: 0.6322\n",
      "Epoch 28/100\n",
      "2764/2764 [==============================] - 4s 2ms/step - loss: 0.6220 - accuracy: 0.6358 - val_loss: 0.6246 - val_accuracy: 0.6334\n",
      "Epoch 29/100\n",
      "2764/2764 [==============================] - 5s 2ms/step - loss: 0.6220 - accuracy: 0.6361 - val_loss: 0.6246 - val_accuracy: 0.6323\n",
      "Epoch 30/100\n",
      "2764/2764 [==============================] - 6s 2ms/step - loss: 0.6220 - accuracy: 0.6361 - val_loss: 0.6246 - val_accuracy: 0.6324\n",
      "Epoch 31/100\n",
      "2764/2764 [==============================] - 5s 2ms/step - loss: 0.6220 - accuracy: 0.6358 - val_loss: 0.6247 - val_accuracy: 0.6322\n",
      "Epoch 32/100\n",
      "2764/2764 [==============================] - 6s 2ms/step - loss: 0.6219 - accuracy: 0.6360 - val_loss: 0.6247 - val_accuracy: 0.6320\n",
      "Epoch 33/100\n",
      "2764/2764 [==============================] - 5s 2ms/step - loss: 0.6219 - accuracy: 0.6361 - val_loss: 0.6247 - val_accuracy: 0.6320\n",
      "Epoch 34/100\n",
      "2764/2764 [==============================] - 5s 2ms/step - loss: 0.6219 - accuracy: 0.6359 - val_loss: 0.6246 - val_accuracy: 0.6325\n",
      "Epoch 35/100\n",
      "2764/2764 [==============================] - 6s 2ms/step - loss: 0.6219 - accuracy: 0.6362 - val_loss: 0.6247 - val_accuracy: 0.6322\n",
      "Epoch 36/100\n",
      "2764/2764 [==============================] - 5s 2ms/step - loss: 0.6219 - accuracy: 0.6359 - val_loss: 0.6246 - val_accuracy: 0.6333\n",
      "Epoch 37/100\n",
      "2764/2764 [==============================] - 4s 1ms/step - loss: 0.6219 - accuracy: 0.6362 - val_loss: 0.6246 - val_accuracy: 0.6333\n",
      "Epoch 38/100\n",
      "2764/2764 [==============================] - 4s 2ms/step - loss: 0.6219 - accuracy: 0.6363 - val_loss: 0.6246 - val_accuracy: 0.6323\n",
      "Epoch 39/100\n",
      "2764/2764 [==============================] - 5s 2ms/step - loss: 0.6219 - accuracy: 0.6362 - val_loss: 0.6245 - val_accuracy: 0.6330\n",
      "Epoch 40/100\n",
      "2764/2764 [==============================] - 4s 2ms/step - loss: 0.6219 - accuracy: 0.6360 - val_loss: 0.6246 - val_accuracy: 0.6327\n",
      "Epoch 41/100\n",
      "2764/2764 [==============================] - 4s 2ms/step - loss: 0.6219 - accuracy: 0.6360 - val_loss: 0.6246 - val_accuracy: 0.6333\n",
      "Epoch 42/100\n",
      "2764/2764 [==============================] - 6s 2ms/step - loss: 0.6218 - accuracy: 0.6361 - val_loss: 0.6246 - val_accuracy: 0.6327\n",
      "Epoch 43/100\n",
      "2764/2764 [==============================] - 5s 2ms/step - loss: 0.6218 - accuracy: 0.6360 - val_loss: 0.6246 - val_accuracy: 0.6333\n",
      "Epoch 44/100\n",
      "2764/2764 [==============================] - 10s 4ms/step - loss: 0.6218 - accuracy: 0.6358 - val_loss: 0.6246 - val_accuracy: 0.6333\n",
      "Epoch 45/100\n",
      "2764/2764 [==============================] - 6s 2ms/step - loss: 0.6218 - accuracy: 0.6358 - val_loss: 0.6245 - val_accuracy: 0.6329\n",
      "Epoch 46/100\n",
      "2764/2764 [==============================] - 6s 2ms/step - loss: 0.6218 - accuracy: 0.6361 - val_loss: 0.6245 - val_accuracy: 0.6331\n",
      "Epoch 47/100\n",
      "2764/2764 [==============================] - 7s 3ms/step - loss: 0.6218 - accuracy: 0.6359 - val_loss: 0.6246 - val_accuracy: 0.6333\n",
      "Epoch 48/100\n",
      "2764/2764 [==============================] - 7s 3ms/step - loss: 0.6218 - accuracy: 0.6360 - val_loss: 0.6246 - val_accuracy: 0.6327\n",
      "Epoch 49/100\n",
      "2764/2764 [==============================] - 7s 3ms/step - loss: 0.6218 - accuracy: 0.6362 - val_loss: 0.6246 - val_accuracy: 0.6328\n",
      "Epoch 50/100\n",
      "2764/2764 [==============================] - 7s 2ms/step - loss: 0.6218 - accuracy: 0.6362 - val_loss: 0.6246 - val_accuracy: 0.6328\n",
      "Epoch 51/100\n",
      "2764/2764 [==============================] - 6s 2ms/step - loss: 0.6218 - accuracy: 0.6360 - val_loss: 0.6247 - val_accuracy: 0.6325: 0s - loss: 0.6219 - ac\n",
      "Epoch 52/100\n",
      "2764/2764 [==============================] - 4s 2ms/step - loss: 0.6218 - accuracy: 0.6362 - val_loss: 0.6245 - val_accuracy: 0.6328\n",
      "Epoch 53/100\n",
      "2764/2764 [==============================] - 4s 1ms/step - loss: 0.6218 - accuracy: 0.6364 - val_loss: 0.6246 - val_accuracy: 0.6333\n",
      "Epoch 54/100\n",
      "2764/2764 [==============================] - 5s 2ms/step - loss: 0.6218 - accuracy: 0.6361 - val_loss: 0.6246 - val_accuracy: 0.6328\n",
      "Epoch 55/100\n",
      "2764/2764 [==============================] - 5s 2ms/step - loss: 0.6218 - accuracy: 0.6362 - val_loss: 0.6245 - val_accuracy: 0.6330\n",
      "Epoch 56/100\n",
      "2764/2764 [==============================] - 5s 2ms/step - loss: 0.6218 - accuracy: 0.6359 - val_loss: 0.6245 - val_accuracy: 0.6330\n"
     ]
    },
    {
     "name": "stdout",
     "output_type": "stream",
     "text": [
      "Epoch 57/100\n",
      "2764/2764 [==============================] - 4s 1ms/step - loss: 0.6218 - accuracy: 0.6360 - val_loss: 0.6246 - val_accuracy: 0.6333\n",
      "Epoch 58/100\n",
      "2764/2764 [==============================] - 4s 2ms/step - loss: 0.6218 - accuracy: 0.6361 - val_loss: 0.6246 - val_accuracy: 0.6324\n",
      "Epoch 59/100\n",
      "2764/2764 [==============================] - 4s 1ms/step - loss: 0.6218 - accuracy: 0.6362 - val_loss: 0.6247 - val_accuracy: 0.6324\n",
      "Epoch 60/100\n",
      "2764/2764 [==============================] - 4s 2ms/step - loss: 0.6218 - accuracy: 0.6362 - val_loss: 0.6245 - val_accuracy: 0.6329\n",
      "Epoch 61/100\n",
      "2764/2764 [==============================] - 4s 2ms/step - loss: 0.6218 - accuracy: 0.6362 - val_loss: 0.6245 - val_accuracy: 0.6329\n",
      "Epoch 62/100\n",
      "2764/2764 [==============================] - 5s 2ms/step - loss: 0.6218 - accuracy: 0.6361 - val_loss: 0.6245 - val_accuracy: 0.6329\n",
      "Epoch 63/100\n",
      "2764/2764 [==============================] - 4s 2ms/step - loss: 0.6218 - accuracy: 0.6361 - val_loss: 0.6246 - val_accuracy: 0.6327\n",
      "Epoch 64/100\n",
      "2764/2764 [==============================] - 4s 2ms/step - loss: 0.6218 - accuracy: 0.6362 - val_loss: 0.6245 - val_accuracy: 0.6329\n",
      "Epoch 65/100\n",
      "2764/2764 [==============================] - 5s 2ms/step - loss: 0.6218 - accuracy: 0.6362 - val_loss: 0.6246 - val_accuracy: 0.6333\n",
      "Epoch 66/100\n",
      "2764/2764 [==============================] - 5s 2ms/step - loss: 0.6218 - accuracy: 0.6361 - val_loss: 0.6245 - val_accuracy: 0.6329\n",
      "Epoch 67/100\n",
      "2764/2764 [==============================] - 5s 2ms/step - loss: 0.6218 - accuracy: 0.6362 - val_loss: 0.6245 - val_accuracy: 0.6329\n",
      "Epoch 68/100\n",
      "2764/2764 [==============================] - 4s 1ms/step - loss: 0.6218 - accuracy: 0.6361 - val_loss: 0.6245 - val_accuracy: 0.6331\n",
      "Epoch 69/100\n",
      "2764/2764 [==============================] - 4s 1ms/step - loss: 0.6217 - accuracy: 0.6364 - val_loss: 0.6248 - val_accuracy: 0.6324\n",
      "Epoch 70/100\n",
      "2764/2764 [==============================] - 4s 1ms/step - loss: 0.6218 - accuracy: 0.6364 - val_loss: 0.6246 - val_accuracy: 0.6325\n",
      "Epoch 71/100\n",
      "2764/2764 [==============================] - 4s 1ms/step - loss: 0.6218 - accuracy: 0.6361 - val_loss: 0.6247 - val_accuracy: 0.6324\n",
      "Epoch 72/100\n",
      "2764/2764 [==============================] - 4s 1ms/step - loss: 0.6218 - accuracy: 0.6364 - val_loss: 0.6246 - val_accuracy: 0.6331\n",
      "Epoch 73/100\n",
      "2764/2764 [==============================] - 4s 2ms/step - loss: 0.6218 - accuracy: 0.6361 - val_loss: 0.6245 - val_accuracy: 0.6331\n",
      "Epoch 74/100\n",
      "2764/2764 [==============================] - 4s 1ms/step - loss: 0.6218 - accuracy: 0.6363 - val_loss: 0.6245 - val_accuracy: 0.6329\n",
      "Epoch 75/100\n",
      "2764/2764 [==============================] - 4s 1ms/step - loss: 0.6218 - accuracy: 0.6360 - val_loss: 0.6245 - val_accuracy: 0.6330\n",
      "Epoch 76/100\n",
      "2764/2764 [==============================] - 5s 2ms/step - loss: 0.6218 - accuracy: 0.6362 - val_loss: 0.6245 - val_accuracy: 0.6330\n",
      "Epoch 77/100\n",
      "2764/2764 [==============================] - 5s 2ms/step - loss: 0.6218 - accuracy: 0.6363 - val_loss: 0.6246 - val_accuracy: 0.6323\n",
      "Epoch 78/100\n",
      "2764/2764 [==============================] - 7s 3ms/step - loss: 0.6218 - accuracy: 0.6360 - val_loss: 0.6246 - val_accuracy: 0.6324\n",
      "Epoch 79/100\n",
      "2764/2764 [==============================] - 4s 2ms/step - loss: 0.6218 - accuracy: 0.6361 - val_loss: 0.6245 - val_accuracy: 0.6330\n",
      "Epoch 80/100\n",
      "2764/2764 [==============================] - 4s 2ms/step - loss: 0.6218 - accuracy: 0.6363 - val_loss: 0.6245 - val_accuracy: 0.6330\n",
      "Epoch 81/100\n",
      "2764/2764 [==============================] - 4s 2ms/step - loss: 0.6218 - accuracy: 0.6361 - val_loss: 0.6245 - val_accuracy: 0.6331\n",
      "Epoch 82/100\n",
      "2764/2764 [==============================] - 5s 2ms/step - loss: 0.6218 - accuracy: 0.6362 - val_loss: 0.6245 - val_accuracy: 0.6330\n",
      "Epoch 83/100\n",
      "2764/2764 [==============================] - 5s 2ms/step - loss: 0.6218 - accuracy: 0.6364 - val_loss: 0.6246 - val_accuracy: 0.6324 - loss: 0.6219 - ac\n",
      "Epoch 84/100\n",
      "2764/2764 [==============================] - 5s 2ms/step - loss: 0.6218 - accuracy: 0.6360 - val_loss: 0.6245 - val_accuracy: 0.6330\n",
      "Epoch 85/100\n",
      "2764/2764 [==============================] - 5s 2ms/step - loss: 0.6218 - accuracy: 0.6361 - val_loss: 0.6245 - val_accuracy: 0.6330\n",
      "Epoch 86/100\n",
      "2764/2764 [==============================] - 4s 2ms/step - loss: 0.6217 - accuracy: 0.6360 - val_loss: 0.6245 - val_accuracy: 0.6330\n",
      "Epoch 87/100\n",
      "2764/2764 [==============================] - 5s 2ms/step - loss: 0.6218 - accuracy: 0.6362 - val_loss: 0.6246 - val_accuracy: 0.6322\n",
      "Epoch 88/100\n",
      "2764/2764 [==============================] - 4s 2ms/step - loss: 0.6218 - accuracy: 0.6361 - val_loss: 0.6245 - val_accuracy: 0.6330\n",
      "Epoch 89/100\n",
      "2764/2764 [==============================] - 5s 2ms/step - loss: 0.6217 - accuracy: 0.6364 - val_loss: 0.6246 - val_accuracy: 0.6324\n",
      "Epoch 90/100\n",
      "2764/2764 [==============================] - 4s 2ms/step - loss: 0.6218 - accuracy: 0.6357 - val_loss: 0.6245 - val_accuracy: 0.6324\n",
      "Epoch 91/100\n",
      "2764/2764 [==============================] - 5s 2ms/step - loss: 0.6218 - accuracy: 0.6363 - val_loss: 0.6245 - val_accuracy: 0.6330\n",
      "Epoch 92/100\n",
      "2764/2764 [==============================] - 5s 2ms/step - loss: 0.6217 - accuracy: 0.6361 - val_loss: 0.6246 - val_accuracy: 0.6324\n",
      "Epoch 93/100\n",
      "2764/2764 [==============================] - 7s 2ms/step - loss: 0.6217 - accuracy: 0.6361 - val_loss: 0.6246 - val_accuracy: 0.6324\n",
      "Epoch 94/100\n",
      "2764/2764 [==============================] - 5s 2ms/step - loss: 0.6218 - accuracy: 0.6359 - val_loss: 0.6245 - val_accuracy: 0.6323\n",
      "Epoch 95/100\n",
      "2764/2764 [==============================] - 5s 2ms/step - loss: 0.6217 - accuracy: 0.6360 - val_loss: 0.6246 - val_accuracy: 0.6324\n",
      "Epoch 96/100\n",
      "2764/2764 [==============================] - 5s 2ms/step - loss: 0.6218 - accuracy: 0.6361 - val_loss: 0.6246 - val_accuracy: 0.6320\n",
      "Epoch 97/100\n",
      "2764/2764 [==============================] - 5s 2ms/step - loss: 0.6218 - accuracy: 0.6360 - val_loss: 0.6245 - val_accuracy: 0.6330\n",
      "Epoch 98/100\n",
      "2764/2764 [==============================] - 5s 2ms/step - loss: 0.6217 - accuracy: 0.6358 - val_loss: 0.6245 - val_accuracy: 0.6330\n",
      "Epoch 99/100\n",
      "2764/2764 [==============================] - 4s 2ms/step - loss: 0.6217 - accuracy: 0.6361 - val_loss: 0.6244 - val_accuracy: 0.6330\n",
      "Epoch 100/100\n",
      "2764/2764 [==============================] - 4s 1ms/step - loss: 0.6217 - accuracy: 0.6362 - val_loss: 0.6245 - val_accuracy: 0.6319\n",
      "1382/1382 [==============================] - 2s 1ms/step - loss: 0.6245 - accuracy: 0.6319\n",
      "Wall time: 8min 12s\n"
     ]
    }
   ],
   "source": [
    "%%time\n",
    "history = model.fit(xu_train, yu_train,\n",
    "                    batch_size = 64,\n",
    "                    epochs= 100,\n",
    "                    verbose=1,\n",
    "                    validation_data=(xu_test, yu_test))\n",
    "score = model.evaluate(xu_test, yu_test, verbose=1)#increase the number of epochs to 100"
   ]
  },
  {
   "cell_type": "code",
   "execution_count": 167,
   "id": "qLlMf-3WJrFa",
   "metadata": {
    "colab": {
     "base_uri": "https://localhost:8080/"
    },
    "id": "qLlMf-3WJrFa",
    "outputId": "5f55295e-f4ef-4a00-858b-53ec7f6f8249"
   },
   "outputs": [
    {
     "name": "stdout",
     "output_type": "stream",
     "text": [
      "Test loss: 0.6245425939559937\n",
      "Test accuracy: 0.6318729519844055\n"
     ]
    }
   ],
   "source": [
    "print('Test loss:', score[0])\n",
    "print('Test accuracy:', score[1])"
   ]
  },
  {
   "cell_type": "code",
   "execution_count": 168,
   "id": "6Y2AxwVjJrJo",
   "metadata": {
    "id": "6Y2AxwVjJrJo"
   },
   "outputs": [],
   "source": [
    "acc = history.history['accuracy']\n",
    "val_acc = history.history['val_accuracy']\n",
    "loss = history.history['loss']\n",
    "val_loss = history.history['val_loss']\n",
    "epochs = 100\n",
    "\n",
    "epochs_range = range(epochs)"
   ]
  },
  {
   "cell_type": "code",
   "execution_count": 169,
   "id": "JhwJIZNMJrPd",
   "metadata": {
    "colab": {
     "base_uri": "https://localhost:8080/",
     "height": 499
    },
    "id": "JhwJIZNMJrPd",
    "outputId": "bd29e4a7-59ae-44aa-8d7a-7bb439228b20"
   },
   "outputs": [
    {
     "data": {
      "image/png": "[encoded data removed]",
      "text/plain": [
       "<Figure size 576x576 with 1 Axes>"
      ]
     },
     "metadata": {
      "needs_background": "light"
     },
     "output_type": "display_data"
    }
   ],
   "source": [
    "%matplotlib inline\n",
    "plt.figure(figsize=(8, 8))\n",
    "plt.plot(epochs_range, acc, label='Training Accuracy')\n",
    "plt.plot(epochs_range, val_acc, label='Validation Accuracy')\n",
    "plt.legend(loc='upper left')\n",
    "plt.title('Training and Validation Accuracy')\n",
    "\n",
    "plt.plot(epochs_range, loss, label='Training Loss')\n",
    "plt.plot(epochs_range, val_loss, label='Validation Loss')\n",
    "plt.legend(loc='upper right')\n",
    "plt.title('Training and Validation Loss')\n",
    "plt.savefig(\"2nd_model_using_hybrid.pdf\", dpi=100)\n",
    "plt.show()"
   ]
  },
  {
   "cell_type": "code",
   "execution_count": 170,
   "id": "KosBLn5EJrdi",
   "metadata": {
    "colab": {
     "base_uri": "https://localhost:8080/"
    },
    "id": "KosBLn5EJrdi",
    "outputId": "beff8c9f-9423-4833-f75f-fd5970ad74a1"
   },
   "outputs": [
    {
     "data": {
      "text/plain": [
       "array([[0.],\n",
       "       [0.],\n",
       "       [0.],\n",
       "       ...,\n",
       "       [0.],\n",
       "       [1.],\n",
       "       [1.]], dtype=float32)"
      ]
     },
     "execution_count": 170,
     "metadata": {},
     "output_type": "execute_result"
    }
   ],
   "source": [
    "prediction_test = model.predict(xu_test) # when I reduced the batch size, there was increased variance between the training and accuracy d\n",
    "prediction_test = np.rint(prediction_test)\n",
    "prediction_test"
   ]
  },
  {
   "cell_type": "code",
   "execution_count": 171,
   "id": "dbBD06GaN9Ri",
   "metadata": {
    "colab": {
     "base_uri": "https://localhost:8080/"
    },
    "id": "dbBD06GaN9Ri",
    "outputId": "edbf9359-5749-43ea-bc39-a5fe77713ba5"
   },
   "outputs": [
    {
     "name": "stdout",
     "output_type": "stream",
     "text": [
      "              precision    recall  f1-score   support\n",
      "\n",
      "           0       0.59      0.71      0.64     20756\n",
      "           1       0.69      0.56      0.62     23457\n",
      "\n",
      "    accuracy                           0.63     44213\n",
      "   macro avg       0.64      0.64      0.63     44213\n",
      "weighted avg       0.64      0.63      0.63     44213\n",
      "\n"
     ]
    }
   ],
   "source": [
    "print(classification_report(yu_test, prediction_test))"
   ]
  },
  {
   "cell_type": "code",
   "execution_count": 172,
   "id": "yJQpqcNjJrlY",
   "metadata": {
    "colab": {
     "base_uri": "https://localhost:8080/"
    },
    "id": "yJQpqcNjJrlY",
    "outputId": "b29c7333-aee6-4b22-d6f9-cdb2b2fa950f"
   },
   "outputs": [
    {
     "data": {
      "text/plain": [
       "array([[14731,  6025],\n",
       "       [10251, 13206]], dtype=int64)"
      ]
     },
     "execution_count": 172,
     "metadata": {},
     "output_type": "execute_result"
    }
   ],
   "source": [
    "confusion_matrix(yu_test, prediction_test )"
   ]
  },
  {
   "cell_type": "code",
   "execution_count": 173,
   "id": "SrsFoEOKJrpv",
   "metadata": {
    "id": "SrsFoEOKJrpv"
   },
   "outputs": [],
   "source": [
    "model.save('./Assignment/hybrid2.h5')"
   ]
  },
  {
   "cell_type": "code",
   "execution_count": null,
   "id": "oLvDcinbJrxp",
   "metadata": {
    "id": "oLvDcinbJrxp"
   },
   "outputs": [],
   "source": []
  },
  {
   "cell_type": "markdown",
   "id": "7e931116",
   "metadata": {
    "id": "7e931116"
   },
   "source": [
    "# 4th Architecture"
   ]
  },
  {
   "cell_type": "code",
   "execution_count": 174,
   "id": "b15e5b38",
   "metadata": {
    "id": "b15e5b38"
   },
   "outputs": [],
   "source": [
    "model = Sequential()\n",
    "model.add(Dense(units=3, activation='relu', input_shape=(3,)))\n",
    "\n",
    "\n",
    "model.add(Dense(units= 6, activation= 'relu'))\n",
    "\n",
    "\n",
    "model.add(Dense(1, activation='sigmoid'))"
   ]
  },
  {
   "cell_type": "code",
   "execution_count": 175,
   "id": "4f53afb0",
   "metadata": {
    "id": "4f53afb0"
   },
   "outputs": [],
   "source": [
    "model.compile(loss='binary_crossentropy',\n",
    " optimizer=tf.keras.optimizers.Adam(learning_rate=0.0001),\n",
    " metrics=['accuracy'])"
   ]
  },
  {
   "cell_type": "code",
   "execution_count": 176,
   "id": "LHTHgPPuEX16",
   "metadata": {
    "id": "LHTHgPPuEX16"
   },
   "outputs": [],
   "source": [
    "xu_train, xu_test, yu_train, yu_test = train_test_split(Xu, yu, shuffle= True, test_size=0.10, random_state=42)"
   ]
  },
  {
   "cell_type": "code",
   "execution_count": 177,
   "id": "b877f9f1",
   "metadata": {
    "colab": {
     "base_uri": "https://localhost:8080/"
    },
    "id": "b877f9f1",
    "outputId": "e432374b-d7cb-4578-d8a9-c85e5eed08c2"
   },
   "outputs": [
    {
     "name": "stdout",
     "output_type": "stream",
     "text": [
      "Epoch 1/50\n",
      "778/778 [==============================] - 2s 2ms/step - loss: 0.6892 - accuracy: 0.5460 - val_loss: 0.6874 - val_accuracy: 0.5463\n",
      "Epoch 2/50\n",
      "778/778 [==============================] - 1s 2ms/step - loss: 0.6848 - accuracy: 0.5580 - val_loss: 0.6833 - val_accuracy: 0.5591\n",
      "Epoch 3/50\n",
      "778/778 [==============================] - 1s 2ms/step - loss: 0.6805 - accuracy: 0.5680 - val_loss: 0.6790 - val_accuracy: 0.5692\n",
      "Epoch 4/50\n",
      "778/778 [==============================] - 1s 2ms/step - loss: 0.6761 - accuracy: 0.5756 - val_loss: 0.6748 - val_accuracy: 0.5750\n",
      "Epoch 5/50\n",
      "778/778 [==============================] - 1s 2ms/step - loss: 0.6716 - accuracy: 0.5817 - val_loss: 0.6704 - val_accuracy: 0.5797\n",
      "Epoch 6/50\n",
      "778/778 [==============================] - 1s 2ms/step - loss: 0.6670 - accuracy: 0.5882 - val_loss: 0.6658 - val_accuracy: 0.5847\n",
      "Epoch 7/50\n",
      "778/778 [==============================] - 1s 2ms/step - loss: 0.6622 - accuracy: 0.5951 - val_loss: 0.6611 - val_accuracy: 0.5934\n",
      "Epoch 8/50\n",
      "778/778 [==============================] - 2s 2ms/step - loss: 0.6574 - accuracy: 0.6050 - val_loss: 0.6565 - val_accuracy: 0.6018\n",
      "Epoch 9/50\n",
      "778/778 [==============================] - 1s 2ms/step - loss: 0.6528 - accuracy: 0.6140 - val_loss: 0.6521 - val_accuracy: 0.6089\n",
      "Epoch 10/50\n",
      "778/778 [==============================] - 1s 2ms/step - loss: 0.6484 - accuracy: 0.6221 - val_loss: 0.6479 - val_accuracy: 0.6201\n",
      "Epoch 11/50\n",
      "778/778 [==============================] - 2s 2ms/step - loss: 0.6443 - accuracy: 0.6270 - val_loss: 0.6441 - val_accuracy: 0.6227\n",
      "Epoch 12/50\n",
      "778/778 [==============================] - 1s 2ms/step - loss: 0.6407 - accuracy: 0.6302 - val_loss: 0.6408 - val_accuracy: 0.6268\n",
      "Epoch 13/50\n",
      "778/778 [==============================] - 1s 2ms/step - loss: 0.6375 - accuracy: 0.6323 - val_loss: 0.6379 - val_accuracy: 0.6270\n",
      "Epoch 14/50\n",
      "778/778 [==============================] - 1s 2ms/step - loss: 0.6348 - accuracy: 0.6336 - val_loss: 0.6355 - val_accuracy: 0.6290\n",
      "Epoch 15/50\n",
      "778/778 [==============================] - 1s 2ms/step - loss: 0.6326 - accuracy: 0.6341 - val_loss: 0.6336 - val_accuracy: 0.6304\n",
      "Epoch 16/50\n",
      "778/778 [==============================] - 1s 2ms/step - loss: 0.6308 - accuracy: 0.6343 - val_loss: 0.6320 - val_accuracy: 0.6309\n",
      "Epoch 17/50\n",
      "778/778 [==============================] - 1s 2ms/step - loss: 0.6294 - accuracy: 0.6346 - val_loss: 0.6308 - val_accuracy: 0.6308\n",
      "Epoch 18/50\n",
      "778/778 [==============================] - 2s 2ms/step - loss: 0.6283 - accuracy: 0.6347 - val_loss: 0.6299 - val_accuracy: 0.6307\n",
      "Epoch 19/50\n",
      "778/778 [==============================] - 1s 2ms/step - loss: 0.6275 - accuracy: 0.6349 - val_loss: 0.6292 - val_accuracy: 0.6298\n",
      "Epoch 20/50\n",
      "778/778 [==============================] - 2s 2ms/step - loss: 0.6268 - accuracy: 0.6348 - val_loss: 0.6286 - val_accuracy: 0.6299\n",
      "Epoch 21/50\n",
      "778/778 [==============================] - 1s 2ms/step - loss: 0.6263 - accuracy: 0.6351 - val_loss: 0.6282 - val_accuracy: 0.6301\n",
      "Epoch 22/50\n",
      "778/778 [==============================] - 1s 2ms/step - loss: 0.6259 - accuracy: 0.6349 - val_loss: 0.6279 - val_accuracy: 0.6301\n",
      "Epoch 23/50\n",
      "778/778 [==============================] - 1s 2ms/step - loss: 0.6257 - accuracy: 0.6351 - val_loss: 0.6276 - val_accuracy: 0.6301\n",
      "Epoch 24/50\n",
      "778/778 [==============================] - 1s 2ms/step - loss: 0.6254 - accuracy: 0.6353 - val_loss: 0.6275 - val_accuracy: 0.6304\n",
      "Epoch 25/50\n",
      "778/778 [==============================] - 1s 2ms/step - loss: 0.6253 - accuracy: 0.6351 - val_loss: 0.6273 - val_accuracy: 0.6300\n",
      "Epoch 26/50\n",
      "778/778 [==============================] - 1s 2ms/step - loss: 0.6251 - accuracy: 0.6354 - val_loss: 0.6273 - val_accuracy: 0.6305\n",
      "Epoch 27/50\n",
      "778/778 [==============================] - 1s 2ms/step - loss: 0.6250 - accuracy: 0.6355 - val_loss: 0.6271 - val_accuracy: 0.6299\n",
      "Epoch 28/50\n",
      "778/778 [==============================] - 1s 2ms/step - loss: 0.6249 - accuracy: 0.6352 - val_loss: 0.6270 - val_accuracy: 0.6301\n",
      "Epoch 29/50\n",
      "778/778 [==============================] - 2s 2ms/step - loss: 0.6249 - accuracy: 0.6356 - val_loss: 0.6270 - val_accuracy: 0.6299\n",
      "Epoch 30/50\n",
      "778/778 [==============================] - 1s 2ms/step - loss: 0.6248 - accuracy: 0.6352 - val_loss: 0.6269 - val_accuracy: 0.6299\n",
      "Epoch 31/50\n",
      "778/778 [==============================] - 1s 2ms/step - loss: 0.6248 - accuracy: 0.6355 - val_loss: 0.6269 - val_accuracy: 0.6301\n",
      "Epoch 32/50\n",
      "778/778 [==============================] - 1s 2ms/step - loss: 0.6247 - accuracy: 0.6355 - val_loss: 0.6268 - val_accuracy: 0.6301\n",
      "Epoch 33/50\n",
      "778/778 [==============================] - 1s 2ms/step - loss: 0.6247 - accuracy: 0.6353 - val_loss: 0.6268 - val_accuracy: 0.6300\n",
      "Epoch 34/50\n",
      "778/778 [==============================] - 1s 2ms/step - loss: 0.6247 - accuracy: 0.6355 - val_loss: 0.6268 - val_accuracy: 0.6300\n",
      "Epoch 35/50\n",
      "778/778 [==============================] - 1s 2ms/step - loss: 0.6246 - accuracy: 0.6355 - val_loss: 0.6267 - val_accuracy: 0.6299\n",
      "Epoch 36/50\n",
      "778/778 [==============================] - 2s 2ms/step - loss: 0.6246 - accuracy: 0.6356 - val_loss: 0.6267 - val_accuracy: 0.6300\n",
      "Epoch 37/50\n",
      "778/778 [==============================] - 1s 2ms/step - loss: 0.6246 - accuracy: 0.6353 - val_loss: 0.6267 - val_accuracy: 0.6300\n",
      "Epoch 38/50\n",
      "778/778 [==============================] - 1s 2ms/step - loss: 0.6246 - accuracy: 0.6353 - val_loss: 0.6267 - val_accuracy: 0.6300\n",
      "Epoch 39/50\n",
      "778/778 [==============================] - 1s 2ms/step - loss: 0.6245 - accuracy: 0.6356 - val_loss: 0.6266 - val_accuracy: 0.6305\n",
      "Epoch 40/50\n",
      "778/778 [==============================] - 1s 2ms/step - loss: 0.6245 - accuracy: 0.6353 - val_loss: 0.6266 - val_accuracy: 0.6300\n",
      "Epoch 41/50\n",
      "778/778 [==============================] - 1s 2ms/step - loss: 0.6245 - accuracy: 0.6352 - val_loss: 0.6266 - val_accuracy: 0.6308\n",
      "Epoch 42/50\n",
      "778/778 [==============================] - 2s 2ms/step - loss: 0.6245 - accuracy: 0.6356 - val_loss: 0.6266 - val_accuracy: 0.6307\n",
      "Epoch 43/50\n",
      "778/778 [==============================] - 2s 2ms/step - loss: 0.6245 - accuracy: 0.6356 - val_loss: 0.6266 - val_accuracy: 0.6296\n",
      "Epoch 44/50\n",
      "778/778 [==============================] - 2s 2ms/step - loss: 0.6245 - accuracy: 0.6355 - val_loss: 0.6266 - val_accuracy: 0.6296\n",
      "Epoch 45/50\n",
      "778/778 [==============================] - 1s 2ms/step - loss: 0.6245 - accuracy: 0.6352 - val_loss: 0.6265 - val_accuracy: 0.6300\n",
      "Epoch 46/50\n",
      "778/778 [==============================] - 2s 2ms/step - loss: 0.6245 - accuracy: 0.6353 - val_loss: 0.6265 - val_accuracy: 0.6305\n",
      "Epoch 47/50\n",
      "778/778 [==============================] - 1s 2ms/step - loss: 0.6244 - accuracy: 0.6354 - val_loss: 0.6265 - val_accuracy: 0.6305\n",
      "Epoch 48/50\n",
      "778/778 [==============================] - 1s 2ms/step - loss: 0.6244 - accuracy: 0.6354 - val_loss: 0.6265 - val_accuracy: 0.6300\n",
      "Epoch 49/50\n",
      "778/778 [==============================] - 2s 2ms/step - loss: 0.6244 - accuracy: 0.6354 - val_loss: 0.6265 - val_accuracy: 0.6305\n",
      "Epoch 50/50\n",
      "778/778 [==============================] - 2s 2ms/step - loss: 0.6244 - accuracy: 0.6352 - val_loss: 0.6265 - val_accuracy: 0.6296\n",
      "691/691 [==============================] - 1s 1ms/step - loss: 0.6265 - accuracy: 0.6296\n",
      "Wall time: 1min 14s\n"
     ]
    }
   ],
   "source": [
    "%%time\n",
    "history = model.fit(xu_train, yu_train,\n",
    "                    batch_size = 256,\n",
    "                    epochs= 50,\n",
    "                    verbose=1,\n",
    "                    validation_data=(xu_test, yu_test))\n",
    "score = model.evaluate(xu_test, yu_test, verbose=1)"
   ]
  },
  {
   "cell_type": "code",
   "execution_count": 178,
   "id": "mcpn-ZP70bW-",
   "metadata": {
    "colab": {
     "base_uri": "https://localhost:8080/"
    },
    "id": "mcpn-ZP70bW-",
    "outputId": "a0b85237-be47-4766-bccf-cb79e26f4392"
   },
   "outputs": [
    {
     "name": "stdout",
     "output_type": "stream",
     "text": [
      "691/691 [==============================] - 1s 1ms/step - loss: 0.6265 - accuracy: 0.6296\n"
     ]
    }
   ],
   "source": [
    "score = model.evaluate(xu_test, yu_test, verbose=1)"
   ]
  },
  {
   "cell_type": "code",
   "execution_count": 179,
   "id": "4203d937",
   "metadata": {
    "colab": {
     "base_uri": "https://localhost:8080/"
    },
    "id": "4203d937",
    "outputId": "b0ad8b08-8fbc-4b50-87b6-db3d658cc291"
   },
   "outputs": [
    {
     "name": "stdout",
     "output_type": "stream",
     "text": [
      "Test loss: 0.6264832615852356\n",
      "Test accuracy: 0.6295743584632874\n"
     ]
    }
   ],
   "source": [
    "print('Test loss:', score[0])\n",
    "print('Test accuracy:', score[1])"
   ]
  },
  {
   "cell_type": "code",
   "execution_count": 180,
   "id": "f5f82dac",
   "metadata": {
    "id": "f5f82dac"
   },
   "outputs": [],
   "source": [
    "acc = history.history['accuracy']\n",
    "val_acc = history.history['val_accuracy']\n",
    "loss = history.history['loss']\n",
    "val_loss = history.history['val_loss']\n",
    "epochs = 50\n",
    "\n",
    "epochs_range = range(epochs)"
   ]
  },
  {
   "cell_type": "code",
   "execution_count": 181,
   "id": "35907c38",
   "metadata": {
    "colab": {
     "base_uri": "https://localhost:8080/",
     "height": 499
    },
    "id": "35907c38",
    "outputId": "4af0ba46-f239-4445-c0c6-f9d06457eb23"
   },
   "outputs": [
    {
     "data": {
      "image/png": "[encoded data removed]",
      "text/plain": [
       "<Figure size 576x576 with 1 Axes>"
      ]
     },
     "metadata": {
      "needs_background": "light"
     },
     "output_type": "display_data"
    }
   ],
   "source": [
    "plt.figure(figsize=(8, 8))\n",
    "plt.plot(epochs_range, acc, label='Training Accuracy')\n",
    "plt.plot(epochs_range, val_acc, label='Validation Accuracy')\n",
    "plt.legend(loc='upper left')\n",
    "plt.title('Training and Validation Accuracy')\n",
    "\n",
    "plt.plot(epochs_range, loss, label='Training Loss')\n",
    "plt.plot(epochs_range, val_loss, label='Validation Loss')\n",
    "plt.legend(loc='upper right')\n",
    "plt.title('Training and Validation Loss')\n",
    "plt.savefig(\"4th Architecture\", dpi=100)\n",
    "plt.show()"
   ]
  },
  {
   "cell_type": "code",
   "execution_count": 182,
   "id": "f94e3be2",
   "metadata": {
    "colab": {
     "base_uri": "https://localhost:8080/",
     "height": 422
    },
    "id": "f94e3be2",
    "outputId": "b44ea876-31ac-47cc-c58f-4e33fb31dbb2"
   },
   "outputs": [
    {
     "name": "stdout",
     "output_type": "stream",
     "text": [
      "('You must install pydot (`pip install pydot`) and install graphviz (see instructions at https://graphviz.gitlab.io/download/) ', 'for plot_model/model_to_dot to work.')\n"
     ]
    }
   ],
   "source": [
    "\n",
    "plot_model(model, to_file='2nd_model.png', show_shapes=True, show_layer_names=True) # model architecture"
   ]
  },
  {
   "cell_type": "code",
   "execution_count": 183,
   "id": "VItKJrHlKynT",
   "metadata": {
    "colab": {
     "base_uri": "https://localhost:8080/"
    },
    "id": "VItKJrHlKynT",
    "outputId": "48de120a-7acf-4e2a-cc52-61f633c95369"
   },
   "outputs": [
    {
     "data": {
      "text/plain": [
       "array([[0.],\n",
       "       [0.],\n",
       "       [0.],\n",
       "       ...,\n",
       "       [0.],\n",
       "       [0.],\n",
       "       [1.]], dtype=float32)"
      ]
     },
     "execution_count": 183,
     "metadata": {},
     "output_type": "execute_result"
    }
   ],
   "source": [
    "prediction_test = model.predict(xu_test) # when I reduced the batch size, there was increased variance between the training and accuracy d\n",
    "prediction_test = np.rint(prediction_test)\n",
    "prediction_test"
   ]
  },
  {
   "cell_type": "code",
   "execution_count": 184,
   "id": "kklUMHsHqJqO",
   "metadata": {
    "colab": {
     "base_uri": "https://localhost:8080/"
    },
    "id": "kklUMHsHqJqO",
    "outputId": "00b6c447-8dae-455c-f0b1-75d6866266d8"
   },
   "outputs": [
    {
     "name": "stdout",
     "output_type": "stream",
     "text": [
      "              precision    recall  f1-score   support\n",
      "\n",
      "           0       0.60      0.67      0.63     10488\n",
      "           1       0.67      0.59      0.63     11619\n",
      "\n",
      "    accuracy                           0.63     22107\n",
      "   macro avg       0.63      0.63      0.63     22107\n",
      "weighted avg       0.63      0.63      0.63     22107\n",
      "\n"
     ]
    }
   ],
   "source": [
    "print(classification_report(yu_test, prediction_test))"
   ]
  },
  {
   "cell_type": "code",
   "execution_count": null,
   "id": "560eb083",
   "metadata": {
    "id": "560eb083"
   },
   "outputs": [],
   "source": []
  },
  {
   "cell_type": "code",
   "execution_count": 83,
   "id": "3018f17b",
   "metadata": {
    "id": "3018f17b"
   },
   "outputs": [],
   "source": [
    "np.random.seed(42)"
   ]
  },
  {
   "cell_type": "markdown",
   "id": "df4564c7",
   "metadata": {
    "id": "df4564c7"
   },
   "source": [
    "# Hyperparameter Optimization using Grid Search"
   ]
  },
  {
   "cell_type": "code",
   "execution_count": 84,
   "id": "x9sAd7WnoUUU",
   "metadata": {
    "id": "x9sAd7WnoUUU"
   },
   "outputs": [],
   "source": [
    "x_grid, x_notusedt, y_grid, y_notused = train_test_split(Xtrain_een, ytrain_een, shuffle= True, test_size=0.99, random_state=42)"
   ]
  },
  {
   "cell_type": "code",
   "execution_count": 187,
   "id": "a274c0fd",
   "metadata": {
    "id": "a274c0fd"
   },
   "outputs": [],
   "source": [
    "def opt_model(init_weights = 'uniform', momentum = 0.1, lr_rate = 0.01, neurons = 3 ,neurons1 =6, nclass =1, dpt_rate = 0.0, weight_constraint = 0):\n",
    "  model = Sequential() \n",
    "  model.add(Dense(units= neurons, activation='relu', kernel_initializer= init_weights, input_shape=(3,), kernel_constraint= maxnorm(weight_constraint)))\n",
    "  model.add(Dense(units= neurons1))\n",
    "  model.add(Dropout(dpt_rate))\n",
    "  model.add(Dense(nclass, kernel_initializer= init_weights, activation='sigmoid'))\n",
    "  optimizer = SGD(lr=lr_rate, momentum=momentum)\n",
    "  model.compile(loss='binary_crossentropy', optimizer= optimizer, metrics=['accuracy'])\n",
    "\n",
    "  return model\n",
    "\n",
    "\n"
   ]
  },
  {
   "cell_type": "code",
   "execution_count": 188,
   "id": "cFdUrV5EkjzO",
   "metadata": {
    "id": "cFdUrV5EkjzO"
   },
   "outputs": [],
   "source": [
    "from keras.wrappers.scikit_learn import KerasClassifier\n"
   ]
  },
  {
   "cell_type": "code",
   "execution_count": 189,
   "id": "Tg_pxIKzkj3_",
   "metadata": {
    "id": "Tg_pxIKzkj3_"
   },
   "outputs": [],
   "source": [
    "optk_model = KerasClassifier(build_fn= opt_model,  verbose=1)\n",
    "\n",
    "lr_rate = [0.01, 0.00005, 0.0001, 0.001]\n",
    "momentum = [0.1, 0.3, 0.5]\n",
    "dpt_rate = [0.0, 0.2]\n",
    "optimizer = ['SGD', 'adam']\n",
    "neurons = [3, 6,24]\n",
    "neurons1 = [6,9]\n",
    "init_weights = ['uniform', 'normal', 'he_uniform']\n",
    "weight_constraint = [0,1,2]\n",
    "epochs = [100,200]\n",
    "batch_size = [32,64,128]\n",
    "nclass = [1]\n"
   ]
  },
  {
   "cell_type": "code",
   "execution_count": 190,
   "id": "7ceF7FJPkj82",
   "metadata": {
    "id": "7ceF7FJPkj82"
   },
   "outputs": [],
   "source": [
    "param_grid = dict(lr_rate = lr_rate, momentum= momentum, dpt_rate = dpt_rate, neurons = neurons, neurons1 = neurons1, init_weights = init_weights, weight_constraint = weight_constraint, epochs = epochs, batch_size = batch_size, nclass = nclass)\n",
    "\n",
    "grid = GridSearchCV(estimator=optk_model, param_grid= param_grid, n_jobs= 2, cv=3)"
   ]
  },
  {
   "cell_type": "code",
   "execution_count": 191,
   "id": "UKT-R_CQkkAs",
   "metadata": {
    "id": "UKT-R_CQkkAs"
   },
   "outputs": [
    {
     "name": "stdout",
     "output_type": "stream",
     "text": [
      "Epoch 1/100\n",
      "37/37 [==============================] - 1s 3ms/step - loss: 0.7334 - accuracy: 0.4815\n",
      "Epoch 2/100\n",
      "37/37 [==============================] - 0s 2ms/step - loss: 0.7178 - accuracy: 0.5002\n",
      "Epoch 3/100\n",
      "37/37 [==============================] - 0s 2ms/step - loss: 0.7111 - accuracy: 0.5087\n",
      "Epoch 4/100\n",
      "37/37 [==============================] - 0s 2ms/step - loss: 0.7025 - accuracy: 0.5249\n",
      "Epoch 5/100\n",
      "37/37 [==============================] - 0s 2ms/step - loss: 0.7116 - accuracy: 0.5091\n",
      "Epoch 6/100\n",
      "37/37 [==============================] - 0s 2ms/step - loss: 0.7032 - accuracy: 0.5283\n",
      "Epoch 7/100\n",
      "37/37 [==============================] - 0s 2ms/step - loss: 0.7036 - accuracy: 0.5159\n",
      "Epoch 8/100\n",
      "37/37 [==============================] - 0s 2ms/step - loss: 0.6941 - accuracy: 0.5410\n",
      "Epoch 9/100\n",
      "37/37 [==============================] - 0s 2ms/step - loss: 0.6998 - accuracy: 0.5317\n",
      "Epoch 10/100\n",
      "37/37 [==============================] - 0s 2ms/step - loss: 0.6991 - accuracy: 0.5266\n",
      "Epoch 11/100\n",
      "37/37 [==============================] - 0s 2ms/step - loss: 0.6886 - accuracy: 0.5538\n",
      "Epoch 12/100\n",
      "37/37 [==============================] - 0s 2ms/step - loss: 0.6875 - accuracy: 0.5593\n",
      "Epoch 13/100\n",
      "37/37 [==============================] - 0s 2ms/step - loss: 0.6891 - accuracy: 0.5555\n",
      "Epoch 14/100\n",
      "37/37 [==============================] - 0s 2ms/step - loss: 0.6949 - accuracy: 0.5346\n",
      "Epoch 15/100\n",
      "37/37 [==============================] - 0s 2ms/step - loss: 0.6918 - accuracy: 0.5380\n",
      "Epoch 16/100\n",
      "37/37 [==============================] - 0s 2ms/step - loss: 0.6862 - accuracy: 0.5623\n",
      "Epoch 17/100\n",
      "37/37 [==============================] - 0s 2ms/step - loss: 0.6815 - accuracy: 0.5720\n",
      "Epoch 18/100\n",
      "37/37 [==============================] - 0s 2ms/step - loss: 0.6864 - accuracy: 0.5691\n",
      "Epoch 19/100\n",
      "37/37 [==============================] - 0s 2ms/step - loss: 0.6834 - accuracy: 0.5631\n",
      "Epoch 20/100\n",
      "37/37 [==============================] - 0s 2ms/step - loss: 0.6783 - accuracy: 0.5827\n",
      "Epoch 21/100\n",
      "37/37 [==============================] - 0s 2ms/step - loss: 0.6829 - accuracy: 0.5737\n",
      "Epoch 22/100\n",
      "37/37 [==============================] - 0s 2ms/step - loss: 0.6778 - accuracy: 0.5899\n",
      "Epoch 23/100\n",
      "37/37 [==============================] - 0s 2ms/step - loss: 0.6806 - accuracy: 0.5686\n",
      "Epoch 24/100\n",
      "37/37 [==============================] - 0s 2ms/step - loss: 0.6764 - accuracy: 0.5882\n",
      "Epoch 25/100\n",
      "37/37 [==============================] - 0s 2ms/step - loss: 0.6774 - accuracy: 0.5737\n",
      "Epoch 26/100\n",
      "37/37 [==============================] - 0s 2ms/step - loss: 0.6767 - accuracy: 0.5733\n",
      "Epoch 27/100\n",
      "37/37 [==============================] - 0s 2ms/step - loss: 0.6786 - accuracy: 0.5708\n",
      "Epoch 28/100\n",
      "37/37 [==============================] - 0s 2ms/step - loss: 0.6769 - accuracy: 0.5797\n",
      "Epoch 29/100\n",
      "37/37 [==============================] - 0s 2ms/step - loss: 0.6797 - accuracy: 0.5691\n",
      "Epoch 30/100\n",
      "37/37 [==============================] - 0s 2ms/step - loss: 0.6739 - accuracy: 0.5814\n",
      "Epoch 31/100\n",
      "37/37 [==============================] - 0s 2ms/step - loss: 0.6725 - accuracy: 0.5929\n",
      "Epoch 32/100\n",
      "37/37 [==============================] - 0s 2ms/step - loss: 0.6740 - accuracy: 0.5895\n",
      "Epoch 33/100\n",
      "37/37 [==============================] - 0s 2ms/step - loss: 0.6734 - accuracy: 0.5865\n",
      "Epoch 34/100\n",
      "37/37 [==============================] - 0s 2ms/step - loss: 0.6715 - accuracy: 0.5924\n",
      "Epoch 35/100\n",
      "37/37 [==============================] - 0s 2ms/step - loss: 0.6713 - accuracy: 0.5878\n",
      "Epoch 36/100\n",
      "37/37 [==============================] - 0s 2ms/step - loss: 0.6698 - accuracy: 0.5941\n",
      "Epoch 37/100\n",
      "37/37 [==============================] - 0s 2ms/step - loss: 0.6681 - accuracy: 0.6043\n",
      "Epoch 38/100\n",
      "37/37 [==============================] - 0s 2ms/step - loss: 0.6705 - accuracy: 0.5822\n",
      "Epoch 39/100\n",
      "37/37 [==============================] - 0s 2ms/step - loss: 0.6639 - accuracy: 0.6026\n",
      "Epoch 40/100\n",
      "37/37 [==============================] - 0s 2ms/step - loss: 0.6674 - accuracy: 0.5984\n",
      "Epoch 41/100\n",
      "37/37 [==============================] - 0s 2ms/step - loss: 0.6662 - accuracy: 0.6103\n",
      "Epoch 42/100\n",
      "37/37 [==============================] - 0s 2ms/step - loss: 0.6615 - accuracy: 0.6094\n",
      "Epoch 43/100\n",
      "37/37 [==============================] - 0s 2ms/step - loss: 0.6657 - accuracy: 0.5980\n",
      "Epoch 44/100\n",
      "37/37 [==============================] - 0s 2ms/step - loss: 0.6654 - accuracy: 0.6154\n",
      "Epoch 45/100\n",
      "37/37 [==============================] - 0s 2ms/step - loss: 0.6633 - accuracy: 0.6031\n",
      "Epoch 46/100\n",
      "37/37 [==============================] - 0s 2ms/step - loss: 0.6649 - accuracy: 0.5958\n",
      "Epoch 47/100\n",
      "37/37 [==============================] - 0s 2ms/step - loss: 0.6645 - accuracy: 0.6090\n",
      "Epoch 48/100\n",
      "37/37 [==============================] - 0s 2ms/step - loss: 0.6634 - accuracy: 0.6082\n",
      "Epoch 49/100\n",
      "37/37 [==============================] - 0s 2ms/step - loss: 0.6621 - accuracy: 0.6056\n",
      "Epoch 50/100\n",
      "37/37 [==============================] - 0s 2ms/step - loss: 0.6623 - accuracy: 0.6230\n",
      "Epoch 51/100\n",
      "37/37 [==============================] - 0s 2ms/step - loss: 0.6611 - accuracy: 0.6073\n",
      "Epoch 52/100\n",
      "37/37 [==============================] - 0s 2ms/step - loss: 0.6593 - accuracy: 0.5988\n",
      "Epoch 53/100\n",
      "37/37 [==============================] - 0s 2ms/step - loss: 0.6567 - accuracy: 0.6171\n",
      "Epoch 54/100\n",
      "37/37 [==============================] - 0s 2ms/step - loss: 0.6600 - accuracy: 0.6048\n",
      "Epoch 55/100\n",
      "37/37 [==============================] - 0s 2ms/step - loss: 0.6573 - accuracy: 0.6094\n",
      "Epoch 56/100\n",
      "37/37 [==============================] - 0s 2ms/step - loss: 0.6553 - accuracy: 0.6235\n",
      "Epoch 57/100\n",
      "37/37 [==============================] - 0s 1ms/step - loss: 0.6563 - accuracy: 0.6188\n",
      "Epoch 58/100\n",
      "37/37 [==============================] - 0s 2ms/step - loss: 0.6569 - accuracy: 0.6196\n",
      "Epoch 59/100\n",
      "37/37 [==============================] - 0s 2ms/step - loss: 0.6558 - accuracy: 0.6133\n",
      "Epoch 60/100\n",
      "37/37 [==============================] - 0s 2ms/step - loss: 0.6544 - accuracy: 0.6239\n",
      "Epoch 61/100\n",
      "37/37 [==============================] - 0s 1ms/step - loss: 0.6569 - accuracy: 0.6141\n",
      "Epoch 62/100\n",
      "37/37 [==============================] - 0s 2ms/step - loss: 0.6573 - accuracy: 0.6145\n",
      "Epoch 63/100\n",
      "37/37 [==============================] - 0s 2ms/step - loss: 0.6553 - accuracy: 0.6175\n",
      "Epoch 64/100\n",
      "37/37 [==============================] - 0s 2ms/step - loss: 0.6574 - accuracy: 0.6162\n",
      "Epoch 65/100\n",
      "37/37 [==============================] - 0s 2ms/step - loss: 0.6523 - accuracy: 0.6162\n",
      "Epoch 66/100\n",
      "37/37 [==============================] - 0s 2ms/step - loss: 0.6532 - accuracy: 0.6201\n",
      "Epoch 67/100\n",
      "37/37 [==============================] - 0s 2ms/step - loss: 0.6529 - accuracy: 0.6175\n",
      "Epoch 68/100\n",
      "37/37 [==============================] - 0s 2ms/step - loss: 0.6514 - accuracy: 0.6179\n",
      "Epoch 69/100\n",
      "37/37 [==============================] - 0s 2ms/step - loss: 0.6501 - accuracy: 0.6235\n",
      "Epoch 70/100\n",
      "37/37 [==============================] - 0s 2ms/step - loss: 0.6537 - accuracy: 0.6188\n",
      "Epoch 71/100\n",
      "37/37 [==============================] - 0s 2ms/step - loss: 0.6507 - accuracy: 0.6226\n",
      "Epoch 72/100\n",
      "37/37 [==============================] - 0s 2ms/step - loss: 0.6547 - accuracy: 0.6099\n",
      "Epoch 73/100\n",
      "37/37 [==============================] - 0s 2ms/step - loss: 0.6507 - accuracy: 0.6201\n",
      "Epoch 74/100\n",
      "37/37 [==============================] - 0s 2ms/step - loss: 0.6543 - accuracy: 0.6162\n",
      "Epoch 75/100\n",
      "37/37 [==============================] - 0s 2ms/step - loss: 0.6479 - accuracy: 0.6273\n",
      "Epoch 76/100\n",
      "37/37 [==============================] - 0s 2ms/step - loss: 0.6501 - accuracy: 0.6171\n",
      "Epoch 77/100\n",
      "37/37 [==============================] - 0s 2ms/step - loss: 0.6486 - accuracy: 0.6281\n",
      "Epoch 78/100\n",
      "37/37 [==============================] - 0s 1ms/step - loss: 0.6481 - accuracy: 0.6286\n",
      "Epoch 79/100\n",
      "37/37 [==============================] - 0s 2ms/step - loss: 0.6492 - accuracy: 0.6222\n",
      "Epoch 80/100\n",
      "37/37 [==============================] - 0s 1ms/step - loss: 0.6504 - accuracy: 0.6171\n",
      "Epoch 81/100\n",
      "37/37 [==============================] - 0s 2ms/step - loss: 0.6466 - accuracy: 0.6264\n",
      "Epoch 82/100\n",
      "37/37 [==============================] - 0s 2ms/step - loss: 0.6507 - accuracy: 0.6162\n",
      "Epoch 83/100\n"
     ]
    },
    {
     "name": "stdout",
     "output_type": "stream",
     "text": [
      "37/37 [==============================] - 0s 1ms/step - loss: 0.6473 - accuracy: 0.6320\n",
      "Epoch 84/100\n",
      "37/37 [==============================] - 0s 2ms/step - loss: 0.6489 - accuracy: 0.6286\n",
      "Epoch 85/100\n",
      "37/37 [==============================] - 0s 2ms/step - loss: 0.6461 - accuracy: 0.6247\n",
      "Epoch 86/100\n",
      "37/37 [==============================] - 0s 1ms/step - loss: 0.6463 - accuracy: 0.6226\n",
      "Epoch 87/100\n",
      "37/37 [==============================] - 0s 2ms/step - loss: 0.6464 - accuracy: 0.6264\n",
      "Epoch 88/100\n",
      "37/37 [==============================] - 0s 2ms/step - loss: 0.6463 - accuracy: 0.6286\n",
      "Epoch 89/100\n",
      "37/37 [==============================] - 0s 2ms/step - loss: 0.6458 - accuracy: 0.6315\n",
      "Epoch 90/100\n",
      "37/37 [==============================] - 0s 2ms/step - loss: 0.6436 - accuracy: 0.6294\n",
      "Epoch 91/100\n",
      "37/37 [==============================] - 0s 2ms/step - loss: 0.6486 - accuracy: 0.6192\n",
      "Epoch 92/100\n",
      "37/37 [==============================] - 0s 2ms/step - loss: 0.6415 - accuracy: 0.6354\n",
      "Epoch 93/100\n",
      "37/37 [==============================] - 0s 2ms/step - loss: 0.6430 - accuracy: 0.6290\n",
      "Epoch 94/100\n",
      "37/37 [==============================] - 0s 2ms/step - loss: 0.6413 - accuracy: 0.6311\n",
      "Epoch 95/100\n",
      "37/37 [==============================] - 0s 2ms/step - loss: 0.6434 - accuracy: 0.6294\n",
      "Epoch 96/100\n",
      "37/37 [==============================] - 0s 1ms/step - loss: 0.6458 - accuracy: 0.6247\n",
      "Epoch 97/100\n",
      "37/37 [==============================] - 0s 2ms/step - loss: 0.6449 - accuracy: 0.6307\n",
      "Epoch 98/100\n",
      "37/37 [==============================] - 0s 2ms/step - loss: 0.6408 - accuracy: 0.6298\n",
      "Epoch 99/100\n",
      "37/37 [==============================] - 0s 1ms/step - loss: 0.6428 - accuracy: 0.6298\n",
      "Epoch 100/100\n",
      "37/37 [==============================] - 0s 2ms/step - loss: 0.6419 - accuracy: 0.6256\n",
      "Wall time: 1d 8h 3min\n"
     ]
    }
   ],
   "source": [
    "%%time\n",
    "grid_result = grid.fit(x_grid, y_grid)"
   ]
  },
  {
   "cell_type": "code",
   "execution_count": 192,
   "id": "4_9rXig1kkFS",
   "metadata": {
    "id": "4_9rXig1kkFS"
   },
   "outputs": [
    {
     "name": "stdout",
     "output_type": "stream",
     "text": [
      "Best: 0.647678 using {'batch_size': 64, 'dpt_rate': 0.2, 'epochs': 100, 'init_weights': 'he_uniform', 'lr_rate': 0.01, 'momentum': 0.1, 'nclass': 1, 'neurons': 6, 'neurons1': 9, 'weight_constraint': 2}\n"
     ]
    }
   ],
   "source": [
    "print(\"Best: %f using %s\" %(grid_result.best_score_ , grid_result.best_params_))"
   ]
  },
  {
   "cell_type": "code",
   "execution_count": null,
   "id": "C5oLzSEakkJf",
   "metadata": {
    "id": "C5oLzSEakkJf"
   },
   "outputs": [],
   "source": []
  },
  {
   "cell_type": "code",
   "execution_count": null,
   "id": "Y_Us3fCrkkN-",
   "metadata": {
    "id": "Y_Us3fCrkkN-"
   },
   "outputs": [],
   "source": []
  },
  {
   "cell_type": "code",
   "execution_count": null,
   "id": "ESEXvhwokkSm",
   "metadata": {
    "id": "ESEXvhwokkSm"
   },
   "outputs": [],
   "source": []
  },
  {
   "cell_type": "markdown",
   "id": "4c6WRoTsJvAM",
   "metadata": {
    "id": "4c6WRoTsJvAM"
   },
   "source": [
    "# Hyperparameter Optimization using Random Search"
   ]
  },
  {
   "cell_type": "code",
   "execution_count": 194,
   "id": "n4wQOuzFkkYl",
   "metadata": {
    "id": "n4wQOuzFkkYl"
   },
   "outputs": [],
   "source": [
    "ropt = RandomizedSearchCV(estimator= optk_model, param_distributions= param_grid, n_jobs= 2, cv = 3)"
   ]
  },
  {
   "cell_type": "code",
   "execution_count": 195,
   "id": "YlJsJYPbkkeB",
   "metadata": {
    "id": "YlJsJYPbkkeB"
   },
   "outputs": [
    {
     "name": "stdout",
     "output_type": "stream",
     "text": [
      "Epoch 1/200\n",
      "19/19 [==============================] - 1s 2ms/step - loss: 0.7061 - accuracy: 0.5104\n",
      "Epoch 2/200\n",
      "19/19 [==============================] - 0s 2ms/step - loss: 0.6942 - accuracy: 0.5257\n",
      "Epoch 3/200\n",
      "19/19 [==============================] - 0s 2ms/step - loss: 0.6878 - accuracy: 0.5389\n",
      "Epoch 4/200\n",
      "19/19 [==============================] - 0s 2ms/step - loss: 0.6838 - accuracy: 0.5482\n",
      "Epoch 5/200\n",
      "19/19 [==============================] - 0s 2ms/step - loss: 0.6812 - accuracy: 0.5525\n",
      "Epoch 6/200\n",
      "19/19 [==============================] - 0s 2ms/step - loss: 0.6796 - accuracy: 0.5597\n",
      "Epoch 7/200\n",
      "19/19 [==============================] - 0s 2ms/step - loss: 0.6786 - accuracy: 0.5648\n",
      "Epoch 8/200\n",
      "19/19 [==============================] - 0s 2ms/step - loss: 0.6778 - accuracy: 0.5699\n",
      "Epoch 9/200\n",
      "19/19 [==============================] - 0s 2ms/step - loss: 0.6773 - accuracy: 0.5750\n",
      "Epoch 10/200\n",
      "19/19 [==============================] - 0s 2ms/step - loss: 0.6768 - accuracy: 0.5822\n",
      "Epoch 11/200\n",
      "19/19 [==============================] - 0s 2ms/step - loss: 0.6765 - accuracy: 0.5835\n",
      "Epoch 12/200\n",
      "19/19 [==============================] - 0s 2ms/step - loss: 0.6761 - accuracy: 0.5873\n",
      "Epoch 13/200\n",
      "19/19 [==============================] - 0s 2ms/step - loss: 0.6758 - accuracy: 0.5899\n",
      "Epoch 14/200\n",
      "19/19 [==============================] - 0s 1ms/step - loss: 0.6755 - accuracy: 0.5929\n",
      "Epoch 15/200\n",
      "19/19 [==============================] - 0s 2ms/step - loss: 0.6752 - accuracy: 0.5941\n",
      "Epoch 16/200\n",
      "19/19 [==============================] - 0s 2ms/step - loss: 0.6749 - accuracy: 0.5958\n",
      "Epoch 17/200\n",
      "19/19 [==============================] - 0s 2ms/step - loss: 0.6747 - accuracy: 0.5963\n",
      "Epoch 18/200\n",
      "19/19 [==============================] - 0s 2ms/step - loss: 0.6744 - accuracy: 0.5950\n",
      "Epoch 19/200\n",
      "19/19 [==============================] - 0s 2ms/step - loss: 0.6741 - accuracy: 0.5950\n",
      "Epoch 20/200\n",
      "19/19 [==============================] - 0s 2ms/step - loss: 0.6739 - accuracy: 0.6018\n",
      "Epoch 21/200\n",
      "19/19 [==============================] - 0s 2ms/step - loss: 0.6736 - accuracy: 0.5963\n",
      "Epoch 22/200\n",
      "19/19 [==============================] - 0s 2ms/step - loss: 0.6734 - accuracy: 0.5971\n",
      "Epoch 23/200\n",
      "19/19 [==============================] - 0s 2ms/step - loss: 0.6731 - accuracy: 0.6005\n",
      "Epoch 24/200\n",
      "19/19 [==============================] - 0s 2ms/step - loss: 0.6729 - accuracy: 0.6001\n",
      "Epoch 25/200\n",
      "19/19 [==============================] - 0s 2ms/step - loss: 0.6727 - accuracy: 0.6014\n",
      "Epoch 26/200\n",
      "19/19 [==============================] - 0s 2ms/step - loss: 0.6724 - accuracy: 0.6018\n",
      "Epoch 27/200\n",
      "19/19 [==============================] - 0s 2ms/step - loss: 0.6722 - accuracy: 0.6039\n",
      "Epoch 28/200\n",
      "19/19 [==============================] - 0s 2ms/step - loss: 0.6720 - accuracy: 0.6005\n",
      "Epoch 29/200\n",
      "19/19 [==============================] - 0s 1ms/step - loss: 0.6717 - accuracy: 0.6014\n",
      "Epoch 30/200\n",
      "19/19 [==============================] - 0s 2ms/step - loss: 0.6715 - accuracy: 0.6026\n",
      "Epoch 31/200\n",
      "19/19 [==============================] - 0s 2ms/step - loss: 0.6712 - accuracy: 0.6056\n",
      "Epoch 32/200\n",
      "19/19 [==============================] - 0s 2ms/step - loss: 0.6710 - accuracy: 0.6035\n",
      "Epoch 33/200\n",
      "19/19 [==============================] - 0s 2ms/step - loss: 0.6708 - accuracy: 0.6052\n",
      "Epoch 34/200\n",
      "19/19 [==============================] - 0s 2ms/step - loss: 0.6705 - accuracy: 0.6039\n",
      "Epoch 35/200\n",
      "19/19 [==============================] - 0s 2ms/step - loss: 0.6703 - accuracy: 0.6043\n",
      "Epoch 36/200\n",
      "19/19 [==============================] - 0s 1ms/step - loss: 0.6701 - accuracy: 0.6065\n",
      "Epoch 37/200\n",
      "19/19 [==============================] - 0s 2ms/step - loss: 0.6698 - accuracy: 0.6048\n",
      "Epoch 38/200\n",
      "19/19 [==============================] - 0s 2ms/step - loss: 0.6696 - accuracy: 0.6026\n",
      "Epoch 39/200\n",
      "19/19 [==============================] - 0s 2ms/step - loss: 0.6694 - accuracy: 0.6052\n",
      "Epoch 40/200\n",
      "19/19 [==============================] - 0s 2ms/step - loss: 0.6692 - accuracy: 0.6116\n",
      "Epoch 41/200\n",
      "19/19 [==============================] - 0s 2ms/step - loss: 0.6689 - accuracy: 0.6103\n",
      "Epoch 42/200\n",
      "19/19 [==============================] - 0s 1ms/step - loss: 0.6687 - accuracy: 0.6060\n",
      "Epoch 43/200\n",
      "19/19 [==============================] - 0s 2ms/step - loss: 0.6684 - accuracy: 0.6090\n",
      "Epoch 44/200\n",
      "19/19 [==============================] - 0s 2ms/step - loss: 0.6683 - accuracy: 0.6124\n",
      "Epoch 45/200\n",
      "19/19 [==============================] - 0s 2ms/step - loss: 0.6680 - accuracy: 0.6141\n",
      "Epoch 46/200\n",
      "19/19 [==============================] - 0s 2ms/step - loss: 0.6677 - accuracy: 0.6145\n",
      "Epoch 47/200\n",
      "19/19 [==============================] - 0s 1ms/step - loss: 0.6675 - accuracy: 0.6154\n",
      "Epoch 48/200\n",
      "19/19 [==============================] - 0s 2ms/step - loss: 0.6673 - accuracy: 0.6137\n",
      "Epoch 49/200\n",
      "19/19 [==============================] - 0s 2ms/step - loss: 0.6670 - accuracy: 0.6145\n",
      "Epoch 50/200\n",
      "19/19 [==============================] - 0s 1ms/step - loss: 0.6668 - accuracy: 0.6120\n",
      "Epoch 51/200\n",
      "19/19 [==============================] - 0s 2ms/step - loss: 0.6666 - accuracy: 0.6179\n",
      "Epoch 52/200\n",
      "19/19 [==============================] - 0s 2ms/step - loss: 0.6663 - accuracy: 0.6188\n",
      "Epoch 53/200\n",
      "19/19 [==============================] - 0s 2ms/step - loss: 0.6661 - accuracy: 0.6218\n",
      "Epoch 54/200\n",
      "19/19 [==============================] - 0s 2ms/step - loss: 0.6658 - accuracy: 0.6192\n",
      "Epoch 55/200\n",
      "19/19 [==============================] - 0s 2ms/step - loss: 0.6656 - accuracy: 0.6175\n",
      "Epoch 56/200\n",
      "19/19 [==============================] - 0s 2ms/step - loss: 0.6653 - accuracy: 0.6179\n",
      "Epoch 57/200\n",
      "19/19 [==============================] - 0s 2ms/step - loss: 0.6651 - accuracy: 0.6218\n",
      "Epoch 58/200\n",
      "19/19 [==============================] - 0s 2ms/step - loss: 0.6649 - accuracy: 0.6230\n",
      "Epoch 59/200\n",
      "19/19 [==============================] - 0s 2ms/step - loss: 0.6647 - accuracy: 0.6196\n",
      "Epoch 60/200\n",
      "19/19 [==============================] - 0s 2ms/step - loss: 0.6644 - accuracy: 0.6243\n",
      "Epoch 61/200\n",
      "19/19 [==============================] - 0s 2ms/step - loss: 0.6642 - accuracy: 0.6226\n",
      "Epoch 62/200\n",
      "19/19 [==============================] - 0s 2ms/step - loss: 0.6640 - accuracy: 0.6230\n",
      "Epoch 63/200\n",
      "19/19 [==============================] - 0s 1ms/step - loss: 0.6637 - accuracy: 0.6247\n",
      "Epoch 64/200\n",
      "19/19 [==============================] - 0s 2ms/step - loss: 0.6635 - accuracy: 0.6260\n",
      "Epoch 65/200\n",
      "19/19 [==============================] - 0s 2ms/step - loss: 0.6633 - accuracy: 0.6277\n",
      "Epoch 66/200\n",
      "19/19 [==============================] - 0s 2ms/step - loss: 0.6630 - accuracy: 0.6256\n",
      "Epoch 67/200\n",
      "19/19 [==============================] - 0s 2ms/step - loss: 0.6628 - accuracy: 0.6226\n",
      "Epoch 68/200\n",
      "19/19 [==============================] - 0s 2ms/step - loss: 0.6626 - accuracy: 0.6226\n",
      "Epoch 69/200\n",
      "19/19 [==============================] - 0s 2ms/step - loss: 0.6623 - accuracy: 0.6247\n",
      "Epoch 70/200\n",
      "19/19 [==============================] - 0s 2ms/step - loss: 0.6621 - accuracy: 0.6290\n",
      "Epoch 71/200\n",
      "19/19 [==============================] - 0s 2ms/step - loss: 0.6618 - accuracy: 0.6260\n",
      "Epoch 72/200\n",
      "19/19 [==============================] - 0s 2ms/step - loss: 0.6616 - accuracy: 0.6235\n",
      "Epoch 73/200\n",
      "19/19 [==============================] - 0s 2ms/step - loss: 0.6614 - accuracy: 0.6320\n",
      "Epoch 74/200\n",
      "19/19 [==============================] - 0s 1ms/step - loss: 0.6611 - accuracy: 0.6281\n",
      "Epoch 75/200\n",
      "19/19 [==============================] - 0s 2ms/step - loss: 0.6609 - accuracy: 0.6260\n",
      "Epoch 76/200\n",
      "19/19 [==============================] - 0s 2ms/step - loss: 0.6607 - accuracy: 0.6294\n",
      "Epoch 77/200\n",
      "19/19 [==============================] - 0s 1ms/step - loss: 0.6604 - accuracy: 0.6281\n",
      "Epoch 78/200\n",
      "19/19 [==============================] - ETA: 0s - loss: 0.6561 - accuracy: 0.60 - 0s 2ms/step - loss: 0.6602 - accuracy: 0.6277\n",
      "Epoch 79/200\n",
      "19/19 [==============================] - 0s 2ms/step - loss: 0.6599 - accuracy: 0.6286\n",
      "Epoch 80/200\n",
      "19/19 [==============================] - 0s 2ms/step - loss: 0.6597 - accuracy: 0.6294\n",
      "Epoch 81/200\n",
      "19/19 [==============================] - 0s 2ms/step - loss: 0.6595 - accuracy: 0.6303\n",
      "Epoch 82/200\n",
      "19/19 [==============================] - 0s 1ms/step - loss: 0.6593 - accuracy: 0.6281\n",
      "Epoch 83/200\n",
      "19/19 [==============================] - 0s 2ms/step - loss: 0.6590 - accuracy: 0.6298\n",
      "Epoch 84/200\n",
      "19/19 [==============================] - 0s 2ms/step - loss: 0.6588 - accuracy: 0.6307\n",
      "Epoch 85/200\n",
      "19/19 [==============================] - 0s 2ms/step - loss: 0.6586 - accuracy: 0.6277\n",
      "Epoch 86/200\n",
      "19/19 [==============================] - 0s 2ms/step - loss: 0.6583 - accuracy: 0.6277\n",
      "Epoch 87/200\n",
      "19/19 [==============================] - 0s 2ms/step - loss: 0.6581 - accuracy: 0.6277\n",
      "Epoch 88/200\n",
      "19/19 [==============================] - 0s 1ms/step - loss: 0.6579 - accuracy: 0.6269\n",
      "Epoch 89/200\n",
      "19/19 [==============================] - 0s 2ms/step - loss: 0.6577 - accuracy: 0.6273\n",
      "Epoch 90/200\n",
      "19/19 [==============================] - 0s 1ms/step - loss: 0.6574 - accuracy: 0.6252\n",
      "Epoch 91/200\n",
      "19/19 [==============================] - 0s 1ms/step - loss: 0.6572 - accuracy: 0.6256\n",
      "Epoch 92/200\n",
      "19/19 [==============================] - 0s 2ms/step - loss: 0.6569 - accuracy: 0.6281\n",
      "Epoch 93/200\n",
      "19/19 [==============================] - 0s 1ms/step - loss: 0.6567 - accuracy: 0.6252\n",
      "Epoch 94/200\n",
      "19/19 [==============================] - 0s 2ms/step - loss: 0.6565 - accuracy: 0.6264\n",
      "Epoch 95/200\n",
      "19/19 [==============================] - 0s 2ms/step - loss: 0.6562 - accuracy: 0.6303\n",
      "Epoch 96/200\n",
      "19/19 [==============================] - 0s 2ms/step - loss: 0.6560 - accuracy: 0.6264\n",
      "Epoch 97/200\n",
      "19/19 [==============================] - 0s 2ms/step - loss: 0.6558 - accuracy: 0.6290\n",
      "Epoch 98/200\n",
      "19/19 [==============================] - 0s 2ms/step - loss: 0.6556 - accuracy: 0.6307\n",
      "Epoch 99/200\n",
      "19/19 [==============================] - 0s 2ms/step - loss: 0.6553 - accuracy: 0.6324\n",
      "Epoch 100/200\n",
      "19/19 [==============================] - 0s 2ms/step - loss: 0.6551 - accuracy: 0.6328\n",
      "Epoch 101/200\n",
      "19/19 [==============================] - 0s 2ms/step - loss: 0.6548 - accuracy: 0.6328\n",
      "Epoch 102/200\n",
      "19/19 [==============================] - 0s 1ms/step - loss: 0.6546 - accuracy: 0.6320\n",
      "Epoch 103/200\n",
      "19/19 [==============================] - 0s 2ms/step - loss: 0.6544 - accuracy: 0.6315\n",
      "Epoch 104/200\n",
      "19/19 [==============================] - 0s 2ms/step - loss: 0.6542 - accuracy: 0.6328\n",
      "Epoch 105/200\n",
      "19/19 [==============================] - 0s 2ms/step - loss: 0.6540 - accuracy: 0.6298\n",
      "Epoch 106/200\n",
      "19/19 [==============================] - 0s 2ms/step - loss: 0.6537 - accuracy: 0.6345\n",
      "Epoch 107/200\n",
      "19/19 [==============================] - 0s 2ms/step - loss: 0.6535 - accuracy: 0.6337\n",
      "Epoch 108/200\n",
      "19/19 [==============================] - 0s 1ms/step - loss: 0.6533 - accuracy: 0.6320\n",
      "Epoch 109/200\n",
      "19/19 [==============================] - 0s 2ms/step - loss: 0.6531 - accuracy: 0.6345\n",
      "Epoch 110/200\n",
      "19/19 [==============================] - 0s 1ms/step - loss: 0.6528 - accuracy: 0.6307\n",
      "Epoch 111/200\n",
      "19/19 [==============================] - 0s 2ms/step - loss: 0.6526 - accuracy: 0.6345\n",
      "Epoch 112/200\n",
      "19/19 [==============================] - 0s 2ms/step - loss: 0.6524 - accuracy: 0.6320\n",
      "Epoch 113/200\n",
      "19/19 [==============================] - 0s 2ms/step - loss: 0.6522 - accuracy: 0.6345\n",
      "Epoch 114/200\n",
      "19/19 [==============================] - 0s 2ms/step - loss: 0.6520 - accuracy: 0.6328\n",
      "Epoch 115/200\n",
      "19/19 [==============================] - 0s 2ms/step - loss: 0.6518 - accuracy: 0.6341\n",
      "Epoch 116/200\n",
      "19/19 [==============================] - 0s 2ms/step - loss: 0.6515 - accuracy: 0.6341\n",
      "Epoch 117/200\n",
      "19/19 [==============================] - 0s 2ms/step - loss: 0.6513 - accuracy: 0.6366\n",
      "Epoch 118/200\n",
      "19/19 [==============================] - 0s 2ms/step - loss: 0.6511 - accuracy: 0.6358\n",
      "Epoch 119/200\n",
      "19/19 [==============================] - 0s 2ms/step - loss: 0.6509 - accuracy: 0.6341\n",
      "Epoch 120/200\n",
      "19/19 [==============================] - 0s 2ms/step - loss: 0.6507 - accuracy: 0.6324\n",
      "Epoch 121/200\n",
      "19/19 [==============================] - 0s 2ms/step - loss: 0.6504 - accuracy: 0.6345\n",
      "Epoch 122/200\n",
      "19/19 [==============================] - 0s 2ms/step - loss: 0.6503 - accuracy: 0.6345\n",
      "Epoch 123/200\n",
      "19/19 [==============================] - 0s 2ms/step - loss: 0.6501 - accuracy: 0.6354\n",
      "Epoch 124/200\n",
      "19/19 [==============================] - 0s 2ms/step - loss: 0.6498 - accuracy: 0.6362\n",
      "Epoch 125/200\n",
      "19/19 [==============================] - 0s 2ms/step - loss: 0.6496 - accuracy: 0.6341\n",
      "Epoch 126/200\n",
      "19/19 [==============================] - 0s 2ms/step - loss: 0.6494 - accuracy: 0.6358\n",
      "Epoch 127/200\n",
      "19/19 [==============================] - 0s 2ms/step - loss: 0.6492 - accuracy: 0.6358\n",
      "Epoch 128/200\n",
      "19/19 [==============================] - 0s 2ms/step - loss: 0.6490 - accuracy: 0.6341\n",
      "Epoch 129/200\n",
      "19/19 [==============================] - 0s 5ms/step - loss: 0.6488 - accuracy: 0.6354\n",
      "Epoch 130/200\n",
      "19/19 [==============================] - 0s 2ms/step - loss: 0.6486 - accuracy: 0.6366\n",
      "Epoch 131/200\n",
      "19/19 [==============================] - 0s 1ms/step - loss: 0.6484 - accuracy: 0.6349\n",
      "Epoch 132/200\n",
      "19/19 [==============================] - 0s 2ms/step - loss: 0.6482 - accuracy: 0.6375\n",
      "Epoch 133/200\n",
      "19/19 [==============================] - 0s 2ms/step - loss: 0.6481 - accuracy: 0.6345\n",
      "Epoch 134/200\n",
      "19/19 [==============================] - 0s 1ms/step - loss: 0.6478 - accuracy: 0.6379\n",
      "Epoch 135/200\n",
      "19/19 [==============================] - 0s 2ms/step - loss: 0.6476 - accuracy: 0.6388\n",
      "Epoch 136/200\n",
      "19/19 [==============================] - ETA: 0s - loss: 0.6500 - accuracy: 0.64 - 0s 2ms/step - loss: 0.6475 - accuracy: 0.6371\n",
      "Epoch 137/200\n",
      "19/19 [==============================] - 0s 2ms/step - loss: 0.6473 - accuracy: 0.6379\n",
      "Epoch 138/200\n",
      "19/19 [==============================] - 0s 2ms/step - loss: 0.6471 - accuracy: 0.6392\n",
      "Epoch 139/200\n",
      "19/19 [==============================] - 0s 2ms/step - loss: 0.6469 - accuracy: 0.6383\n",
      "Epoch 140/200\n",
      "19/19 [==============================] - 0s 2ms/step - loss: 0.6467 - accuracy: 0.6362\n",
      "Epoch 141/200\n",
      "19/19 [==============================] - 0s 2ms/step - loss: 0.6467 - accuracy: 0.6337\n",
      "Epoch 142/200\n",
      "19/19 [==============================] - 0s 2ms/step - loss: 0.6463 - accuracy: 0.6341\n",
      "Epoch 143/200\n",
      "19/19 [==============================] - 0s 2ms/step - loss: 0.6461 - accuracy: 0.6396\n",
      "Epoch 144/200\n",
      "19/19 [==============================] - 0s 1ms/step - loss: 0.6460 - accuracy: 0.6371\n",
      "Epoch 145/200\n",
      "19/19 [==============================] - 0s 1ms/step - loss: 0.6458 - accuracy: 0.6396\n",
      "Epoch 146/200\n",
      "19/19 [==============================] - 0s 2ms/step - loss: 0.6456 - accuracy: 0.6383\n",
      "Epoch 147/200\n",
      "19/19 [==============================] - 0s 2ms/step - loss: 0.6455 - accuracy: 0.6400\n",
      "Epoch 148/200\n",
      "19/19 [==============================] - 0s 1ms/step - loss: 0.6453 - accuracy: 0.6388\n",
      "Epoch 149/200\n",
      "19/19 [==============================] - 0s 2ms/step - loss: 0.6451 - accuracy: 0.6388\n",
      "Epoch 150/200\n",
      "19/19 [==============================] - 0s 2ms/step - loss: 0.6449 - accuracy: 0.6409\n",
      "Epoch 151/200\n",
      "19/19 [==============================] - 0s 2ms/step - loss: 0.6448 - accuracy: 0.6413\n",
      "Epoch 152/200\n",
      "19/19 [==============================] - 0s 2ms/step - loss: 0.6446 - accuracy: 0.6417\n",
      "Epoch 153/200\n",
      "19/19 [==============================] - 0s 1ms/step - loss: 0.6444 - accuracy: 0.6422\n",
      "Epoch 154/200\n",
      "19/19 [==============================] - 0s 1ms/step - loss: 0.6443 - accuracy: 0.6417\n",
      "Epoch 155/200\n",
      "19/19 [==============================] - 0s 2ms/step - loss: 0.6442 - accuracy: 0.6422\n",
      "Epoch 156/200\n",
      "19/19 [==============================] - 0s 2ms/step - loss: 0.6441 - accuracy: 0.6379\n",
      "Epoch 157/200\n",
      "19/19 [==============================] - 0s 2ms/step - loss: 0.6438 - accuracy: 0.6417\n",
      "Epoch 158/200\n",
      "19/19 [==============================] - 0s 2ms/step - loss: 0.6436 - accuracy: 0.6422\n",
      "Epoch 159/200\n",
      "19/19 [==============================] - 0s 2ms/step - loss: 0.6435 - accuracy: 0.6413\n",
      "Epoch 160/200\n",
      "19/19 [==============================] - 0s 1ms/step - loss: 0.6433 - accuracy: 0.6413\n",
      "Epoch 161/200\n",
      "19/19 [==============================] - 0s 2ms/step - loss: 0.6433 - accuracy: 0.6392\n",
      "Epoch 162/200\n",
      "19/19 [==============================] - 0s 2ms/step - loss: 0.6431 - accuracy: 0.6422\n",
      "Epoch 163/200\n"
     ]
    },
    {
     "name": "stdout",
     "output_type": "stream",
     "text": [
      "19/19 [==============================] - 0s 2ms/step - loss: 0.6429 - accuracy: 0.6422\n",
      "Epoch 164/200\n",
      "19/19 [==============================] - 0s 2ms/step - loss: 0.6427 - accuracy: 0.6422\n",
      "Epoch 165/200\n",
      "19/19 [==============================] - 0s 2ms/step - loss: 0.6425 - accuracy: 0.6439\n",
      "Epoch 166/200\n",
      "19/19 [==============================] - 0s 2ms/step - loss: 0.6424 - accuracy: 0.6422\n",
      "Epoch 167/200\n",
      "19/19 [==============================] - 0s 1ms/step - loss: 0.6422 - accuracy: 0.6439\n",
      "Epoch 168/200\n",
      "19/19 [==============================] - 0s 1ms/step - loss: 0.6421 - accuracy: 0.6451\n",
      "Epoch 169/200\n",
      "19/19 [==============================] - 0s 1ms/step - loss: 0.6420 - accuracy: 0.6417\n",
      "Epoch 170/200\n",
      "19/19 [==============================] - 0s 1ms/step - loss: 0.6418 - accuracy: 0.6426\n",
      "Epoch 171/200\n",
      "19/19 [==============================] - 0s 1ms/step - loss: 0.6417 - accuracy: 0.6460\n",
      "Epoch 172/200\n",
      "19/19 [==============================] - 0s 2ms/step - loss: 0.6415 - accuracy: 0.6447\n",
      "Epoch 173/200\n",
      "19/19 [==============================] - 0s 2ms/step - loss: 0.6414 - accuracy: 0.6422\n",
      "Epoch 174/200\n",
      "19/19 [==============================] - 0s 1ms/step - loss: 0.6413 - accuracy: 0.6426\n",
      "Epoch 175/200\n",
      "19/19 [==============================] - 0s 1ms/step - loss: 0.6412 - accuracy: 0.6426\n",
      "Epoch 176/200\n",
      "19/19 [==============================] - 0s 1ms/step - loss: 0.6410 - accuracy: 0.6422\n",
      "Epoch 177/200\n",
      "19/19 [==============================] - 0s 2ms/step - loss: 0.6408 - accuracy: 0.6439\n",
      "Epoch 178/200\n",
      "19/19 [==============================] - 0s 2ms/step - loss: 0.6407 - accuracy: 0.6434\n",
      "Epoch 179/200\n",
      "19/19 [==============================] - 0s 2ms/step - loss: 0.6405 - accuracy: 0.6413\n",
      "Epoch 180/200\n",
      "19/19 [==============================] - 0s 2ms/step - loss: 0.6404 - accuracy: 0.6422\n",
      "Epoch 181/200\n",
      "19/19 [==============================] - 0s 2ms/step - loss: 0.6404 - accuracy: 0.6430\n",
      "Epoch 182/200\n",
      "19/19 [==============================] - 0s 1ms/step - loss: 0.6402 - accuracy: 0.6430\n",
      "Epoch 183/200\n",
      "19/19 [==============================] - 0s 2ms/step - loss: 0.6400 - accuracy: 0.6439\n",
      "Epoch 184/200\n",
      "19/19 [==============================] - 0s 2ms/step - loss: 0.6400 - accuracy: 0.6400\n",
      "Epoch 185/200\n",
      "19/19 [==============================] - 0s 2ms/step - loss: 0.6399 - accuracy: 0.6430\n",
      "Epoch 186/200\n",
      "19/19 [==============================] - 0s 2ms/step - loss: 0.6397 - accuracy: 0.6434\n",
      "Epoch 187/200\n",
      "19/19 [==============================] - 0s 2ms/step - loss: 0.6396 - accuracy: 0.6443\n",
      "Epoch 188/200\n",
      "19/19 [==============================] - 0s 2ms/step - loss: 0.6395 - accuracy: 0.6422\n",
      "Epoch 189/200\n",
      "19/19 [==============================] - 0s 2ms/step - loss: 0.6393 - accuracy: 0.6447\n",
      "Epoch 190/200\n",
      "19/19 [==============================] - 0s 2ms/step - loss: 0.6392 - accuracy: 0.6413\n",
      "Epoch 191/200\n",
      "19/19 [==============================] - 0s 2ms/step - loss: 0.6391 - accuracy: 0.6434\n",
      "Epoch 192/200\n",
      "19/19 [==============================] - 0s 2ms/step - loss: 0.6389 - accuracy: 0.6430\n",
      "Epoch 193/200\n",
      "19/19 [==============================] - 0s 2ms/step - loss: 0.6389 - accuracy: 0.6409\n",
      "Epoch 194/200\n",
      "19/19 [==============================] - 0s 2ms/step - loss: 0.6387 - accuracy: 0.6447\n",
      "Epoch 195/200\n",
      "19/19 [==============================] - 0s 2ms/step - loss: 0.6386 - accuracy: 0.6443\n",
      "Epoch 196/200\n",
      "19/19 [==============================] - 0s 2ms/step - loss: 0.6385 - accuracy: 0.6439\n",
      "Epoch 197/200\n",
      "19/19 [==============================] - 0s 1ms/step - loss: 0.6384 - accuracy: 0.6400\n",
      "Epoch 198/200\n",
      "19/19 [==============================] - 0s 2ms/step - loss: 0.6383 - accuracy: 0.6422\n",
      "Epoch 199/200\n",
      "19/19 [==============================] - 0s 2ms/step - loss: 0.6383 - accuracy: 0.6443\n",
      "Epoch 200/200\n",
      "19/19 [==============================] - 0s 1ms/step - loss: 0.6381 - accuracy: 0.6464\n",
      "Wall time: 3min 48s\n"
     ]
    }
   ],
   "source": [
    "%%time\n",
    "ropt_result = ropt.fit(x_grid, y_grid)"
   ]
  },
  {
   "cell_type": "code",
   "execution_count": 196,
   "id": "f9c2745a",
   "metadata": {
    "id": "f9c2745a"
   },
   "outputs": [
    {
     "name": "stdout",
     "output_type": "stream",
     "text": [
      "Best: 0.631953 using {'weight_constraint': 1, 'neurons1': 6, 'neurons': 3, 'nclass': 1, 'momentum': 0.1, 'lr_rate': 0.01, 'init_weights': 'he_uniform', 'epochs': 200, 'dpt_rate': 0.0, 'batch_size': 128}\n"
     ]
    }
   ],
   "source": [
    "print(\"Best: %f using %s\" %(ropt_result.best_score_ , ropt_result.best_params_))"
   ]
  },
  {
   "cell_type": "code",
   "execution_count": null,
   "id": "a26db339",
   "metadata": {
    "id": "a26db339"
   },
   "outputs": [],
   "source": []
  },
  {
   "cell_type": "code",
   "execution_count": null,
   "id": "78330fa8",
   "metadata": {
    "id": "78330fa8"
   },
   "outputs": [],
   "source": []
  },
  {
   "cell_type": "code",
   "execution_count": 97,
   "id": "e50b8009",
   "metadata": {
    "id": "e50b8009"
   },
   "outputs": [],
   "source": [
    "#Model using the best parameters of the Grid Search Feeedforward NeuralNet\n",
    "final_model = Sequential()\n",
    "\n",
    "\n",
    "final_model.add(Dense(units=6, activation='relu', kernel_initializer= 'he_uniform', input_shape=(3,),kernel_constraint= maxnorm(2)))\n",
    "\n",
    "\n",
    "final_model.add(Dense(units=9, activation= 'relu'))\n",
    "\n",
    "final_model.add(Dropout(0.2))\n",
    "final_model.add(Dense(1,kernel_initializer= 'he_uniform', activation='sigmoid'))\n"
   ]
  },
  {
   "cell_type": "code",
   "execution_count": 98,
   "id": "7fd4021a",
   "metadata": {},
   "outputs": [
    {
     "name": "stdout",
     "output_type": "stream",
     "text": [
      "Model: \"sequential_2\"\n",
      "_________________________________________________________________\n",
      " Layer (type)                Output Shape              Param #   \n",
      "=================================================================\n",
      " dense_6 (Dense)             (None, 6)                 24        \n",
      "                                                                 \n",
      " dense_7 (Dense)             (None, 9)                 63        \n",
      "                                                                 \n",
      " dropout_2 (Dropout)         (None, 9)                 0         \n",
      "                                                                 \n",
      " dense_8 (Dense)             (None, 1)                 10        \n",
      "                                                                 \n",
      "=================================================================\n",
      "Total params: 97\n",
      "Trainable params: 97\n",
      "Non-trainable params: 0\n",
      "_________________________________________________________________\n"
     ]
    }
   ],
   "source": [
    "final_model.summary()"
   ]
  },
  {
   "cell_type": "code",
   "execution_count": 99,
   "id": "fd8a0208",
   "metadata": {},
   "outputs": [],
   "source": [
    "xx_train, xx_test, yy_train, yy_test = train_test_split(Xtrain_een, ytrain_een, shuffle= True, test_size=0.20, random_state=42)"
   ]
  },
  {
   "cell_type": "code",
   "execution_count": 100,
   "id": "66ba8d91",
   "metadata": {},
   "outputs": [],
   "source": [
    "optimizer = SGD(lr= 0.01, momentum=0.1)\n",
    "final_model.compile(loss='binary_crossentropy', optimizer= optimizer, metrics=['accuracy'])"
   ]
  },
  {
   "cell_type": "code",
   "execution_count": 101,
   "id": "ecccc49c",
   "metadata": {},
   "outputs": [
    {
     "name": "stdout",
     "output_type": "stream",
     "text": [
      "Epoch 1/100\n",
      "2942/2942 [==============================] - 11s 3ms/step - loss: 0.6650 - accuracy: 0.5913 - val_loss: 0.6395 - val_accuracy: 0.6368\n",
      "Epoch 2/100\n",
      "2942/2942 [==============================] - 10s 4ms/step - loss: 0.6397 - accuracy: 0.6266 - val_loss: 0.6253 - val_accuracy: 0.6454\n",
      "Epoch 3/100\n",
      "2942/2942 [==============================] - 9s 3ms/step - loss: 0.6351 - accuracy: 0.6296 - val_loss: 0.6234 - val_accuracy: 0.6451\n",
      "Epoch 4/100\n",
      "2942/2942 [==============================] - 10s 3ms/step - loss: 0.6323 - accuracy: 0.6321 - val_loss: 0.6217 - val_accuracy: 0.6433\n",
      "Epoch 5/100\n",
      "2942/2942 [==============================] - 10s 3ms/step - loss: 0.6317 - accuracy: 0.6319 - val_loss: 0.6219 - val_accuracy: 0.6435\n",
      "Epoch 6/100\n",
      "2942/2942 [==============================] - 12s 4ms/step - loss: 0.6313 - accuracy: 0.6336 - val_loss: 0.6213 - val_accuracy: 0.6442\n",
      "Epoch 7/100\n",
      "2942/2942 [==============================] - 10s 3ms/step - loss: 0.6305 - accuracy: 0.6336 - val_loss: 0.6216 - val_accuracy: 0.6457\n",
      "Epoch 8/100\n",
      "2942/2942 [==============================] - 12s 4ms/step - loss: 0.6301 - accuracy: 0.6343 - val_loss: 0.6213 - val_accuracy: 0.6457\n",
      "Epoch 9/100\n",
      "2942/2942 [==============================] - 9s 3ms/step - loss: 0.6297 - accuracy: 0.6354 - val_loss: 0.6210 - val_accuracy: 0.6436\n",
      "Epoch 10/100\n",
      "2942/2942 [==============================] - 9s 3ms/step - loss: 0.6295 - accuracy: 0.6363 - val_loss: 0.6209 - val_accuracy: 0.6445\n",
      "Epoch 11/100\n",
      "2942/2942 [==============================] - 8s 3ms/step - loss: 0.6293 - accuracy: 0.6354 - val_loss: 0.6208 - val_accuracy: 0.6430\n",
      "Epoch 12/100\n",
      "2942/2942 [==============================] - 8s 3ms/step - loss: 0.6293 - accuracy: 0.6360 - val_loss: 0.6206 - val_accuracy: 0.6434\n",
      "Epoch 13/100\n",
      "2942/2942 [==============================] - 8s 3ms/step - loss: 0.6291 - accuracy: 0.6358 - val_loss: 0.6211 - val_accuracy: 0.6425\n",
      "Epoch 14/100\n",
      "2942/2942 [==============================] - 8s 3ms/step - loss: 0.6284 - accuracy: 0.6365 - val_loss: 0.6210 - val_accuracy: 0.6463\n",
      "Epoch 15/100\n",
      "2942/2942 [==============================] - 8s 3ms/step - loss: 0.6282 - accuracy: 0.6363 - val_loss: 0.6206 - val_accuracy: 0.6434\n",
      "Epoch 16/100\n",
      "2942/2942 [==============================] - 8s 3ms/step - loss: 0.6286 - accuracy: 0.6365 - val_loss: 0.6202 - val_accuracy: 0.6438\n",
      "Epoch 17/100\n",
      "2942/2942 [==============================] - 9s 3ms/step - loss: 0.6282 - accuracy: 0.6367 - val_loss: 0.6202 - val_accuracy: 0.6442\n",
      "Epoch 18/100\n",
      "2942/2942 [==============================] - 9s 3ms/step - loss: 0.6280 - accuracy: 0.6369 - val_loss: 0.6204 - val_accuracy: 0.6467\n",
      "Epoch 19/100\n",
      "2942/2942 [==============================] - 8s 3ms/step - loss: 0.6280 - accuracy: 0.6367 - val_loss: 0.6201 - val_accuracy: 0.6437\n",
      "Epoch 20/100\n",
      "2942/2942 [==============================] - 8s 3ms/step - loss: 0.6278 - accuracy: 0.6370 - val_loss: 0.6207 - val_accuracy: 0.6458\n",
      "Epoch 21/100\n",
      "2942/2942 [==============================] - 8s 3ms/step - loss: 0.6279 - accuracy: 0.6371 - val_loss: 0.6201 - val_accuracy: 0.6467\n",
      "Epoch 22/100\n",
      "2942/2942 [==============================] - 8s 3ms/step - loss: 0.6276 - accuracy: 0.6368 - val_loss: 0.6198 - val_accuracy: 0.6438\n",
      "Epoch 23/100\n",
      "2942/2942 [==============================] - 8s 3ms/step - loss: 0.6277 - accuracy: 0.6373 - val_loss: 0.6201 - val_accuracy: 0.6449\n",
      "Epoch 24/100\n",
      "2942/2942 [==============================] - 8s 3ms/step - loss: 0.6274 - accuracy: 0.6366 - val_loss: 0.6199 - val_accuracy: 0.6458\n",
      "Epoch 25/100\n",
      "2942/2942 [==============================] - 8s 3ms/step - loss: 0.6279 - accuracy: 0.6367 - val_loss: 0.6205 - val_accuracy: 0.6454\n",
      "Epoch 26/100\n",
      "2942/2942 [==============================] - 8s 3ms/step - loss: 0.6274 - accuracy: 0.6369 - val_loss: 0.6199 - val_accuracy: 0.6450\n",
      "Epoch 27/100\n",
      "2942/2942 [==============================] - 8s 3ms/step - loss: 0.6273 - accuracy: 0.6377 - val_loss: 0.6202 - val_accuracy: 0.6450\n",
      "Epoch 28/100\n",
      "2942/2942 [==============================] - 8s 3ms/step - loss: 0.6277 - accuracy: 0.6366 - val_loss: 0.6202 - val_accuracy: 0.6452\n",
      "Epoch 29/100\n",
      "2942/2942 [==============================] - 9s 3ms/step - loss: 0.6275 - accuracy: 0.6372 - val_loss: 0.6201 - val_accuracy: 0.6439\n",
      "Epoch 30/100\n",
      "2942/2942 [==============================] - 11s 4ms/step - loss: 0.6275 - accuracy: 0.6372 - val_loss: 0.6198 - val_accuracy: 0.6448\n",
      "Epoch 31/100\n",
      "2942/2942 [==============================] - 10s 3ms/step - loss: 0.6276 - accuracy: 0.6365 - val_loss: 0.6199 - val_accuracy: 0.6453\n",
      "Epoch 32/100\n",
      "2942/2942 [==============================] - 9s 3ms/step - loss: 0.6273 - accuracy: 0.6373 - val_loss: 0.6196 - val_accuracy: 0.6446\n",
      "Epoch 33/100\n",
      "2942/2942 [==============================] - 11s 4ms/step - loss: 0.6272 - accuracy: 0.6370 - val_loss: 0.6196 - val_accuracy: 0.6452- loss: 0\n",
      "Epoch 34/100\n",
      "2942/2942 [==============================] - 12s 4ms/step - loss: 0.6273 - accuracy: 0.6367 - val_loss: 0.6197 - val_accuracy: 0.6451\n",
      "Epoch 35/100\n",
      "2942/2942 [==============================] - 9s 3ms/step - loss: 0.6271 - accuracy: 0.6373 - val_loss: 0.6198 - val_accuracy: 0.6449\n",
      "Epoch 36/100\n",
      "2942/2942 [==============================] - 9s 3ms/step - loss: 0.6270 - accuracy: 0.6374 - val_loss: 0.6197 - val_accuracy: 0.6448\n",
      "Epoch 37/100\n",
      "2942/2942 [==============================] - 9s 3ms/step - loss: 0.6269 - accuracy: 0.6376 - val_loss: 0.6200 - val_accuracy: 0.6450\n",
      "Epoch 38/100\n",
      "2942/2942 [==============================] - 9s 3ms/step - loss: 0.6270 - accuracy: 0.6370 - val_loss: 0.6200 - val_accuracy: 0.6444\n",
      "Epoch 39/100\n",
      "2942/2942 [==============================] - 9s 3ms/step - loss: 0.6270 - accuracy: 0.6373 - val_loss: 0.6198 - val_accuracy: 0.6449\n",
      "Epoch 40/100\n",
      "2942/2942 [==============================] - 8s 3ms/step - loss: 0.6268 - accuracy: 0.6377 - val_loss: 0.6199 - val_accuracy: 0.6446\n",
      "Epoch 41/100\n",
      "2942/2942 [==============================] - 9s 3ms/step - loss: 0.6269 - accuracy: 0.6375 - val_loss: 0.6196 - val_accuracy: 0.6451\n",
      "Epoch 42/100\n",
      "2942/2942 [==============================] - 9s 3ms/step - loss: 0.6271 - accuracy: 0.6373 - val_loss: 0.6197 - val_accuracy: 0.6449\n",
      "Epoch 43/100\n",
      "2942/2942 [==============================] - 9s 3ms/step - loss: 0.6271 - accuracy: 0.6371 - val_loss: 0.6199 - val_accuracy: 0.6446\n",
      "Epoch 44/100\n",
      "2942/2942 [==============================] - 9s 3ms/step - loss: 0.6266 - accuracy: 0.6369 - val_loss: 0.6197 - val_accuracy: 0.6448\n",
      "Epoch 45/100\n",
      "2942/2942 [==============================] - 9s 3ms/step - loss: 0.6268 - accuracy: 0.6373 - val_loss: 0.6196 - val_accuracy: 0.6449\n",
      "Epoch 46/100\n",
      "2942/2942 [==============================] - 8s 3ms/step - loss: 0.6270 - accuracy: 0.6373 - val_loss: 0.6198 - val_accuracy: 0.6447\n",
      "Epoch 47/100\n",
      "2942/2942 [==============================] - 8s 3ms/step - loss: 0.6270 - accuracy: 0.6371 - val_loss: 0.6198 - val_accuracy: 0.6450\n",
      "Epoch 48/100\n",
      "2942/2942 [==============================] - 9s 3ms/step - loss: 0.6272 - accuracy: 0.6375 - val_loss: 0.6197 - val_accuracy: 0.6445\n",
      "Epoch 49/100\n",
      "2942/2942 [==============================] - 9s 3ms/step - loss: 0.6267 - accuracy: 0.6374 - val_loss: 0.6199 - val_accuracy: 0.6447\n",
      "Epoch 50/100\n",
      "2942/2942 [==============================] - 9s 3ms/step - loss: 0.6268 - accuracy: 0.6374 - val_loss: 0.6204 - val_accuracy: 0.6450\n",
      "Epoch 51/100\n",
      "2942/2942 [==============================] - 9s 3ms/step - loss: 0.6269 - accuracy: 0.6372 - val_loss: 0.6201 - val_accuracy: 0.6446\n",
      "Epoch 52/100\n",
      "2942/2942 [==============================] - 9s 3ms/step - loss: 0.6268 - accuracy: 0.6370 - val_loss: 0.6198 - val_accuracy: 0.6447\n",
      "Epoch 53/100\n",
      "2942/2942 [==============================] - 9s 3ms/step - loss: 0.6266 - accuracy: 0.6374 - val_loss: 0.6197 - val_accuracy: 0.6446\n",
      "Epoch 54/100\n",
      "2942/2942 [==============================] - 10s 3ms/step - loss: 0.6267 - accuracy: 0.6371 - val_loss: 0.6195 - val_accuracy: 0.6453\n",
      "Epoch 55/100\n",
      "2942/2942 [==============================] - 9s 3ms/step - loss: 0.6266 - accuracy: 0.6375 - val_loss: 0.6197 - val_accuracy: 0.6455\n",
      "Epoch 56/100\n",
      "2942/2942 [==============================] - 9s 3ms/step - loss: 0.6268 - accuracy: 0.6374 - val_loss: 0.6198 - val_accuracy: 0.6447\n",
      "Epoch 57/100\n"
     ]
    },
    {
     "name": "stdout",
     "output_type": "stream",
     "text": [
      "2942/2942 [==============================] - 9s 3ms/step - loss: 0.6268 - accuracy: 0.6375 - val_loss: 0.6200 - val_accuracy: 0.6451\n",
      "Epoch 58/100\n",
      "2942/2942 [==============================] - 9s 3ms/step - loss: 0.6270 - accuracy: 0.6376 - val_loss: 0.6196 - val_accuracy: 0.6452\n",
      "Epoch 59/100\n",
      "2942/2942 [==============================] - 9s 3ms/step - loss: 0.6270 - accuracy: 0.6369 - val_loss: 0.6195 - val_accuracy: 0.6446\n",
      "Epoch 60/100\n",
      "2942/2942 [==============================] - 8s 3ms/step - loss: 0.6266 - accuracy: 0.6380 - val_loss: 0.6202 - val_accuracy: 0.6440\n",
      "Epoch 61/100\n",
      "2942/2942 [==============================] - 10s 3ms/step - loss: 0.6263 - accuracy: 0.6370 - val_loss: 0.6199 - val_accuracy: 0.6453\n",
      "Epoch 62/100\n",
      "2942/2942 [==============================] - 10s 3ms/step - loss: 0.6267 - accuracy: 0.6372 - val_loss: 0.6195 - val_accuracy: 0.6447\n",
      "Epoch 63/100\n",
      "2942/2942 [==============================] - 9s 3ms/step - loss: 0.6264 - accuracy: 0.6374 - val_loss: 0.6193 - val_accuracy: 0.6447\n",
      "Epoch 64/100\n",
      "2942/2942 [==============================] - 10s 3ms/step - loss: 0.6268 - accuracy: 0.6372 - val_loss: 0.6195 - val_accuracy: 0.6453\n",
      "Epoch 65/100\n",
      "2942/2942 [==============================] - 10s 4ms/step - loss: 0.6266 - accuracy: 0.6367 - val_loss: 0.6196 - val_accuracy: 0.6455\n",
      "Epoch 66/100\n",
      "2942/2942 [==============================] - 10s 3ms/step - loss: 0.6264 - accuracy: 0.6372 - val_loss: 0.6194 - val_accuracy: 0.6449\n",
      "Epoch 67/100\n",
      "2942/2942 [==============================] - 10s 3ms/step - loss: 0.6269 - accuracy: 0.6368 - val_loss: 0.6196 - val_accuracy: 0.6455\n",
      "Epoch 68/100\n",
      "2942/2942 [==============================] - 10s 3ms/step - loss: 0.6265 - accuracy: 0.6374 - val_loss: 0.6195 - val_accuracy: 0.6442loss:\n",
      "Epoch 69/100\n",
      "2942/2942 [==============================] - 11s 4ms/step - loss: 0.6266 - accuracy: 0.6374 - val_loss: 0.6195 - val_accuracy: 0.6453\n",
      "Epoch 70/100\n",
      "2942/2942 [==============================] - 10s 3ms/step - loss: 0.6266 - accuracy: 0.6368 - val_loss: 0.6198 - val_accuracy: 0.6448\n",
      "Epoch 71/100\n",
      "2942/2942 [==============================] - 9s 3ms/step - loss: 0.6265 - accuracy: 0.6375 - val_loss: 0.6195 - val_accuracy: 0.6449\n",
      "Epoch 72/100\n",
      "2942/2942 [==============================] - 10s 3ms/step - loss: 0.6268 - accuracy: 0.6369 - val_loss: 0.6195 - val_accuracy: 0.6443\n",
      "Epoch 73/100\n",
      "2942/2942 [==============================] - 11s 4ms/step - loss: 0.6264 - accuracy: 0.6373 - val_loss: 0.6196 - val_accuracy: 0.6451\n",
      "Epoch 74/100\n",
      "2942/2942 [==============================] - 11s 4ms/step - loss: 0.6264 - accuracy: 0.6377 - val_loss: 0.6196 - val_accuracy: 0.6440\n",
      "Epoch 75/100\n",
      "2942/2942 [==============================] - 9s 3ms/step - loss: 0.6266 - accuracy: 0.6373 - val_loss: 0.6196 - val_accuracy: 0.6441\n",
      "Epoch 76/100\n",
      "2942/2942 [==============================] - 9s 3ms/step - loss: 0.6262 - accuracy: 0.6373 - val_loss: 0.6195 - val_accuracy: 0.6449\n",
      "Epoch 77/100\n",
      "2942/2942 [==============================] - 8s 3ms/step - loss: 0.6266 - accuracy: 0.6379 - val_loss: 0.6199 - val_accuracy: 0.6446\n",
      "Epoch 78/100\n",
      "2942/2942 [==============================] - 10s 3ms/step - loss: 0.6263 - accuracy: 0.6375 - val_loss: 0.6194 - val_accuracy: 0.6446\n",
      "Epoch 79/100\n",
      "2942/2942 [==============================] - 9s 3ms/step - loss: 0.6267 - accuracy: 0.6366 - val_loss: 0.6195 - val_accuracy: 0.6443\n",
      "Epoch 80/100\n",
      "2942/2942 [==============================] - 9s 3ms/step - loss: 0.6266 - accuracy: 0.6372 - val_loss: 0.6194 - val_accuracy: 0.6447\n",
      "Epoch 81/100\n",
      "2942/2942 [==============================] - 9s 3ms/step - loss: 0.6265 - accuracy: 0.6375 - val_loss: 0.6193 - val_accuracy: 0.6448\n",
      "Epoch 82/100\n",
      "2942/2942 [==============================] - 9s 3ms/step - loss: 0.6263 - accuracy: 0.6375 - val_loss: 0.6196 - val_accuracy: 0.6445\n",
      "Epoch 83/100\n",
      "2942/2942 [==============================] - 10s 3ms/step - loss: 0.6263 - accuracy: 0.6371 - val_loss: 0.6194 - val_accuracy: 0.6448\n",
      "Epoch 84/100\n",
      "2942/2942 [==============================] - 9s 3ms/step - loss: 0.6265 - accuracy: 0.6374 - val_loss: 0.6194 - val_accuracy: 0.6448\n",
      "Epoch 85/100\n",
      "2942/2942 [==============================] - 9s 3ms/step - loss: 0.6266 - accuracy: 0.6375 - val_loss: 0.6193 - val_accuracy: 0.6450\n",
      "Epoch 86/100\n",
      "2942/2942 [==============================] - 10s 3ms/step - loss: 0.6265 - accuracy: 0.6372 - val_loss: 0.6195 - val_accuracy: 0.6441\n",
      "Epoch 87/100\n",
      "2942/2942 [==============================] - 9s 3ms/step - loss: 0.6266 - accuracy: 0.6377 - val_loss: 0.6196 - val_accuracy: 0.6447\n",
      "Epoch 88/100\n",
      "2942/2942 [==============================] - 9s 3ms/step - loss: 0.6265 - accuracy: 0.6377 - val_loss: 0.6195 - val_accuracy: 0.6449\n",
      "Epoch 89/100\n",
      "2942/2942 [==============================] - 8s 3ms/step - loss: 0.6266 - accuracy: 0.6373 - val_loss: 0.6192 - val_accuracy: 0.6451\n",
      "Epoch 90/100\n",
      "2942/2942 [==============================] - 8s 3ms/step - loss: 0.6265 - accuracy: 0.6375 - val_loss: 0.6196 - val_accuracy: 0.6446\n",
      "Epoch 91/100\n",
      "2942/2942 [==============================] - 7s 2ms/step - loss: 0.6263 - accuracy: 0.6383 - val_loss: 0.6193 - val_accuracy: 0.6442\n",
      "Epoch 92/100\n",
      "2942/2942 [==============================] - 7s 2ms/step - loss: 0.6265 - accuracy: 0.6370 - val_loss: 0.6196 - val_accuracy: 0.6446\n",
      "Epoch 93/100\n",
      "2942/2942 [==============================] - 7s 2ms/step - loss: 0.6265 - accuracy: 0.6370 - val_loss: 0.6194 - val_accuracy: 0.6449\n",
      "Epoch 94/100\n",
      "2942/2942 [==============================] - 8s 3ms/step - loss: 0.6266 - accuracy: 0.6376 - val_loss: 0.6192 - val_accuracy: 0.6446\n",
      "Epoch 95/100\n",
      "2942/2942 [==============================] - 7s 2ms/step - loss: 0.6265 - accuracy: 0.6375 - val_loss: 0.6193 - val_accuracy: 0.6451\n",
      "Epoch 96/100\n",
      "2942/2942 [==============================] - 6s 2ms/step - loss: 0.6265 - accuracy: 0.6378 - val_loss: 0.6196 - val_accuracy: 0.6445\n",
      "Epoch 97/100\n",
      "2942/2942 [==============================] - 6s 2ms/step - loss: 0.6262 - accuracy: 0.6377 - val_loss: 0.6192 - val_accuracy: 0.6446\n",
      "Epoch 98/100\n",
      "2942/2942 [==============================] - 6s 2ms/step - loss: 0.6265 - accuracy: 0.6379 - val_loss: 0.6195 - val_accuracy: 0.6443\n",
      "Epoch 99/100\n",
      "2942/2942 [==============================] - 6s 2ms/step - loss: 0.6262 - accuracy: 0.6372 - val_loss: 0.6194 - val_accuracy: 0.6447\n",
      "Epoch 100/100\n",
      "2942/2942 [==============================] - 6s 2ms/step - loss: 0.6264 - accuracy: 0.6374 - val_loss: 0.6192 - val_accuracy: 0.6448\n",
      "1471/1471 [==============================] - 2s 1ms/step - loss: 0.6192 - accuracy: 0.6448: 0s - loss: 0.6188 - accu\n",
      "Wall time: 14min 58s\n"
     ]
    }
   ],
   "source": [
    "%%time\n",
    "history = final_model.fit(xx_train, yy_train,\n",
    "                    batch_size = 64,\n",
    "                    epochs= 100,\n",
    "                    verbose=1,\n",
    "                    validation_data=(xx_test, yy_test))\n",
    "score = final_model.evaluate(xx_test, yy_test, verbose=1)"
   ]
  },
  {
   "cell_type": "code",
   "execution_count": 102,
   "id": "7a88fe1d",
   "metadata": {},
   "outputs": [
    {
     "name": "stdout",
     "output_type": "stream",
     "text": [
      "Test loss: 0.6191946864128113\n",
      "Test accuracy: 0.6448377966880798\n"
     ]
    }
   ],
   "source": [
    "print('Test loss:', score[0])\n",
    "print('Test accuracy:', score[1])"
   ]
  },
  {
   "cell_type": "code",
   "execution_count": 103,
   "id": "efefc2bb",
   "metadata": {},
   "outputs": [],
   "source": [
    "acc = history.history['accuracy']\n",
    "val_acc = history.history['val_accuracy']\n",
    "loss = history.history['loss']\n",
    "val_loss = history.history['val_loss']\n",
    "epochs = 100\n",
    "\n",
    "epochs_range = range(epochs)"
   ]
  },
  {
   "cell_type": "code",
   "execution_count": 104,
   "id": "f8be7782",
   "metadata": {},
   "outputs": [
    {
     "data": {
      "image/png": "[encoded data removed]",
      "text/plain": [
       "<Figure size 576x576 with 1 Axes>"
      ]
     },
     "metadata": {
      "needs_background": "light"
     },
     "output_type": "display_data"
    }
   ],
   "source": [
    "plt.figure(figsize=(8, 8))\n",
    "plt.plot(epochs_range, acc, label='Training Accuracy')\n",
    "plt.plot(epochs_range, val_acc, label='Validation Accuracy')\n",
    "plt.legend(loc='upper left')\n",
    "plt.title('Training and Validation Accuracy')\n",
    "\n",
    "plt.plot(epochs_range, loss, label='Training Loss')\n",
    "plt.plot(epochs_range, val_loss, label='Validation Loss')\n",
    "plt.legend(loc='upper right')\n",
    "plt.title('Training and Validation Loss')\n",
    "plt.savefig(\"Final_plot\", dpi=100)\n",
    "plt.show()"
   ]
  },
  {
   "cell_type": "code",
   "execution_count": 105,
   "id": "37965aef",
   "metadata": {},
   "outputs": [
    {
     "data": {
      "text/plain": [
       "array([[0.],\n",
       "       [0.],\n",
       "       [0.],\n",
       "       ...,\n",
       "       [0.],\n",
       "       [0.],\n",
       "       [0.]], dtype=float32)"
      ]
     },
     "execution_count": 105,
     "metadata": {},
     "output_type": "execute_result"
    }
   ],
   "source": [
    "final_prediction_test = final_model.predict(xx_test)\n",
    "final_prediction_test = np.rint(final_prediction_test)\n",
    "final_prediction_test"
   ]
  },
  {
   "cell_type": "code",
   "execution_count": 106,
   "id": "cb9c4725",
   "metadata": {},
   "outputs": [
    {
     "name": "stdout",
     "output_type": "stream",
     "text": [
      "              precision    recall  f1-score   support\n",
      "\n",
      "           0       0.62      0.78      0.69     23686\n",
      "           1       0.70      0.51      0.59     23377\n",
      "\n",
      "    accuracy                           0.64     47063\n",
      "   macro avg       0.66      0.64      0.64     47063\n",
      "weighted avg       0.66      0.64      0.64     47063\n",
      "\n"
     ]
    }
   ],
   "source": [
    "print(classification_report(yy_test, final_prediction_test))"
   ]
  },
  {
   "cell_type": "markdown",
   "id": "f7bf29b4",
   "metadata": {
    "id": "a834c5ab"
   },
   "source": [
    "# Using Logistic Regression\n"
   ]
  },
  {
   "cell_type": "code",
   "execution_count": 226,
   "id": "27498e21",
   "metadata": {
    "id": "27498e21"
   },
   "outputs": [],
   "source": [
    "from sklearn.linear_model import LogisticRegression"
   ]
  },
  {
   "cell_type": "code",
   "execution_count": 227,
   "id": "d1d23c33",
   "metadata": {
    "id": "d1d23c33"
   },
   "outputs": [],
   "source": [
    "log_model = LogisticRegression()"
   ]
  },
  {
   "cell_type": "code",
   "execution_count": 228,
   "id": "810ec7c5",
   "metadata": {
    "id": "810ec7c5"
   },
   "outputs": [
    {
     "name": "stdout",
     "output_type": "stream",
     "text": [
      "Wall time: 1.39 s\n"
     ]
    }
   ],
   "source": [
    "%%time\n",
    "log_predict = log_model.fit(xx_train,yy_train).predict(xx_test)"
   ]
  },
  {
   "cell_type": "code",
   "execution_count": 229,
   "id": "23bce0d8",
   "metadata": {
    "id": "23bce0d8"
   },
   "outputs": [],
   "source": [
    "log_model_acc = round(accuracy_score(yy_test,log_predict)*100,2)"
   ]
  },
  {
   "cell_type": "code",
   "execution_count": 230,
   "id": "3e8cc7c4",
   "metadata": {
    "id": "3e8cc7c4"
   },
   "outputs": [],
   "source": [
    "logistic_mat = confusion_matrix(yy_test,log_predict)"
   ]
  },
  {
   "cell_type": "code",
   "execution_count": 231,
   "id": "5f56a60f",
   "metadata": {
    "id": "5f56a60f"
   },
   "outputs": [
    {
     "data": {
      "text/plain": [
       "array([[17422,  6264],\n",
       "       [10477, 12900]], dtype=int64)"
      ]
     },
     "execution_count": 231,
     "metadata": {},
     "output_type": "execute_result"
    }
   ],
   "source": [
    "logistic_mat"
   ]
  },
  {
   "cell_type": "code",
   "execution_count": 232,
   "id": "929542f8",
   "metadata": {
    "id": "929542f8"
   },
   "outputs": [
    {
     "data": {
      "text/plain": [
       "64.43"
      ]
     },
     "execution_count": 232,
     "metadata": {},
     "output_type": "execute_result"
    }
   ],
   "source": [
    "log_model_acc"
   ]
  },
  {
   "cell_type": "markdown",
   "id": "3c078cad",
   "metadata": {
    "id": "a3b63284"
   },
   "source": [
    " # Using Decision Tree Classifier"
   ]
  },
  {
   "cell_type": "code",
   "execution_count": 85,
   "id": "01f9d85b",
   "metadata": {
    "id": "01f9d85b"
   },
   "outputs": [],
   "source": [
    "from sklearn import tree\n",
    "from sklearn.tree import DecisionTreeClassifier"
   ]
  },
  {
   "cell_type": "code",
   "execution_count": 86,
   "id": "8ead06dc",
   "metadata": {
    "id": "8ead06dc"
   },
   "outputs": [],
   "source": [
    "    decision_model = DecisionTreeClassifier(criterion = 'gini')"
   ]
  },
  {
   "cell_type": "code",
   "execution_count": 251,
   "id": "c34155f6",
   "metadata": {
    "id": "c34155f6"
   },
   "outputs": [
    {
     "name": "stdout",
     "output_type": "stream",
     "text": [
      "Wall time: 298 ms\n"
     ]
    },
    {
     "data": {
      "text/plain": [
       "DecisionTreeClassifier()"
      ]
     },
     "execution_count": 251,
     "metadata": {},
     "output_type": "execute_result"
    }
   ],
   "source": [
    "%%time\n",
    "decision_model.fit(xx_train,yy_train)"
   ]
  },
  {
   "cell_type": "code",
   "execution_count": 236,
   "id": "3e35b4f2",
   "metadata": {
    "id": "3e35b4f2"
   },
   "outputs": [
    {
     "name": "stdout",
     "output_type": "stream",
     "text": [
      "Wall time: 8.98 ms\n"
     ]
    }
   ],
   "source": [
    "%%time\n",
    "decision_pred = decision_model.predict(xx_test)"
   ]
  },
  {
   "cell_type": "code",
   "execution_count": 237,
   "id": "bf44e54c",
   "metadata": {
    "id": "bf44e54c"
   },
   "outputs": [
    {
     "data": {
      "text/plain": [
       "<bound method ClassifierMixin.score of DecisionTreeClassifier()>"
      ]
     },
     "execution_count": 237,
     "metadata": {},
     "output_type": "execute_result"
    }
   ],
   "source": [
    "acc_decision = decision_model.score\n",
    "acc_decision"
   ]
  },
  {
   "cell_type": "code",
   "execution_count": 238,
   "id": "c01e385f",
   "metadata": {
    "id": "c01e385f"
   },
   "outputs": [
    {
     "data": {
      "text/plain": [
       "66.27"
      ]
     },
     "execution_count": 238,
     "metadata": {},
     "output_type": "execute_result"
    }
   ],
   "source": [
    "dec_model_acc = round(accuracy_score(yy_test, decision_pred)*100,2)\n",
    "dec_model_acc"
   ]
  },
  {
   "cell_type": "code",
   "execution_count": 239,
   "id": "43f9c089",
   "metadata": {},
   "outputs": [
    {
     "data": {
      "text/plain": [
       "array([[19124,  4562],\n",
       "       [11314, 12063]], dtype=int64)"
      ]
     },
     "execution_count": 239,
     "metadata": {},
     "output_type": "execute_result"
    }
   ],
   "source": [
    "decc_mat = confusion_matrix(yy_test,decision_pred)\n",
    "decc_mat"
   ]
  },
  {
   "cell_type": "code",
   "execution_count": 87,
   "id": "4d1aa569",
   "metadata": {},
   "outputs": [
    {
     "name": "stdout",
     "output_type": "stream",
     "text": [
      "\n",
      " Best Score is \n",
      "0.6183554313445123\n",
      "\n",
      " Best Estinator is \n",
      "DecisionTreeClassifier(max_features='auto', min_samples_leaf=3)\n",
      "\n",
      " Best Parametes are\n",
      "{'max_features': 'auto', 'min_samples_leaf': 3, 'min_samples_split': 2}\n"
     ]
    }
   ],
   "source": [
    "# Hyper-parameter tunning \n",
    "param_grid = {'max_features': ['auto', 'sqrt', ],\n",
    "'min_samples_split': [2,3],\n",
    "'min_samples_leaf':[2,3,4] }\n",
    "\n",
    "\n",
    "\n",
    "\n",
    "# Implement GridSearchCV\n",
    "decision_gsc = GridSearchCV(decision_model, param_grid, cv=3) # For 3 Cross-Validation\n",
    "\n",
    "\n",
    "\n",
    "decision_gsc.fit(x_grid, y_grid) # Model Fitting\n",
    "\n",
    "\n",
    "\n",
    "print(\"\\n Best Score is \")\n",
    "\n",
    "\n",
    "\n",
    "print(decision_gsc.best_score_)\n",
    "\n",
    "\n",
    "\n",
    "print(\"\\n Best Estimator is \")\n",
    "print(decision_gsc.best_estimator_)\n",
    "\n",
    "\n",
    "\n",
    "print(\"\\n Best Parametes are\")\n",
    "print(decision_gsc.best_params_)"
   ]
  },
  {
   "cell_type": "code",
   "execution_count": null,
   "id": "2da63bd8",
   "metadata": {},
   "outputs": [],
   "source": []
  },
  {
   "cell_type": "code",
   "execution_count": null,
   "id": "fc5f7be0",
   "metadata": {},
   "outputs": [],
   "source": []
  },
  {
   "cell_type": "code",
   "execution_count": null,
   "id": "8ee051e1",
   "metadata": {},
   "outputs": [],
   "source": []
  },
  {
   "cell_type": "code",
   "execution_count": null,
   "id": "7229ce26",
   "metadata": {},
   "outputs": [],
   "source": []
  },
  {
   "cell_type": "code",
   "execution_count": null,
   "id": "048fe88e",
   "metadata": {},
   "outputs": [],
   "source": []
  },
  {
   "cell_type": "markdown",
   "id": "d26a4cdf",
   "metadata": {
    "id": "a2cf03ff"
   },
   "source": [
    " # Using Support Vector Machines"
   ]
  },
  {
   "cell_type": "code",
   "execution_count": 240,
   "id": "ce5550b6",
   "metadata": {
    "id": "ce5550b6"
   },
   "outputs": [],
   "source": [
    "from sklearn.svm import SVC"
   ]
  },
  {
   "cell_type": "code",
   "execution_count": 241,
   "id": "e2df8c97",
   "metadata": {
    "id": "e2df8c97"
   },
   "outputs": [],
   "source": [
    "my_svc = SVC(kernel = 'linear', random_state= 0)"
   ]
  },
  {
   "cell_type": "code",
   "execution_count": 242,
   "id": "f5032d74",
   "metadata": {
    "id": "f5032d74"
   },
   "outputs": [
    {
     "data": {
      "text/plain": [
       "SVC(kernel='linear', random_state=0)"
      ]
     },
     "execution_count": 242,
     "metadata": {},
     "output_type": "execute_result"
    }
   ],
   "source": [
    "%%time\n",
    "my_svc.fit(xx_train, yy_train)"
   ]
  },
  {
   "cell_type": "code",
   "execution_count": 243,
   "id": "76326330",
   "metadata": {
    "id": "76326330"
   },
   "outputs": [
    {
     "name": "stdout",
     "output_type": "stream",
     "text": [
      "Wall time: 2min 33s\n"
     ]
    }
   ],
   "source": [
    "%%time\n",
    "svm_predictions = my_svc.predict(xx_test)"
   ]
  },
  {
   "cell_type": "code",
   "execution_count": 244,
   "id": "65a2b520",
   "metadata": {
    "id": "65a2b520"
   },
   "outputs": [
    {
     "name": "stdout",
     "output_type": "stream",
     "text": [
      "0.6418842827699042\n"
     ]
    }
   ],
   "source": [
    "svc_acc = accuracy_score(yy_test,svm_predictions)\n",
    "print(svc_acc)"
   ]
  },
  {
   "cell_type": "code",
   "execution_count": 245,
   "id": "9b3a85d1",
   "metadata": {
    "id": "9b3a85d1"
   },
   "outputs": [],
   "source": [
    "svm_mat = confusion_matrix(yy_test,svm_predictions)"
   ]
  },
  {
   "cell_type": "markdown",
   "id": "68931100",
   "metadata": {
    "id": "ecb96fe3"
   },
   "source": [
    "# Using Naive Bayes Classifier"
   ]
  },
  {
   "cell_type": "code",
   "execution_count": 253,
   "id": "e2540b13",
   "metadata": {},
   "outputs": [],
   "source": [
    "from sklearn.naive_bayes import GaussianNB"
   ]
  },
  {
   "cell_type": "code",
   "execution_count": 254,
   "id": "7c590600",
   "metadata": {},
   "outputs": [],
   "source": [
    "n_classifier = GaussianNB()"
   ]
  },
  {
   "cell_type": "code",
   "execution_count": 255,
   "id": "40fe86cb",
   "metadata": {},
   "outputs": [
    {
     "name": "stdout",
     "output_type": "stream",
     "text": [
      "Wall time: 59.8 ms\n"
     ]
    },
    {
     "data": {
      "text/plain": [
       "GaussianNB()"
      ]
     },
     "execution_count": 255,
     "metadata": {},
     "output_type": "execute_result"
    }
   ],
   "source": [
    "%%time\n",
    "n_classifier.fit(xx_train, yy_train)"
   ]
  },
  {
   "cell_type": "code",
   "execution_count": 256,
   "id": "d81d02b0",
   "metadata": {},
   "outputs": [],
   "source": [
    "n_class_predict = n_classifier.predict(xx_test)"
   ]
  },
  {
   "cell_type": "code",
   "execution_count": 257,
   "id": "ac5af7fc",
   "metadata": {},
   "outputs": [
    {
     "name": "stdout",
     "output_type": "stream",
     "text": [
      "0.6340437286190851\n"
     ]
    }
   ],
   "source": [
    "n_acc = accuracy_score(yy_test,n_class_predict)\n",
    "print(n_acc)"
   ]
  },
  {
   "cell_type": "markdown",
   "id": "d4bb9544",
   "metadata": {},
   "source": [
    "### REFERENCES\n",
    "\n",
    "##### https://www.kaggle.com/code/maxskoryk/sepsis-prediction-from-clinical-data#1.-Exploratory-Data-Analysis\n",
    "#### Keras and Simple Classification SG | Kaggl\n",
    "#### https://www.kaggle.com/code/binitagiri/hackathon-1feb2022\n",
    "#### https://www.geeksforgeeks.org/sklearn-binarizer-in-python/\n",
    "#### https://www.analyticsvidhya.com/blog/2021/05/tuning-the-hyperparameters-and-layers-of-neural-network-deep-learning/\n",
    "#### https://towardsdatascience.com/designing-your-neural-networks-a5e4617027ed\n",
    "#### https://machinelearningmastery.com/grid-search-hyperparameters-deep-learning-models-python-keras/"
   ]
  },
  {
   "cell_type": "code",
   "execution_count": null,
   "id": "011b8e5f",
   "metadata": {},
   "outputs": [],
   "source": []
  }
 ],
 "metadata": {
  "accelerator": "GPU",
  "colab": {
   "collapsed_sections": [],
   "machine_shape": "hm",
   "name": "Main  Assignment Applied Artificial Intelligence-Copy1.ipynb",
   "provenance": []
  },
  "kernelspec": {
   "display_name": "Python 3 (ipykernel)",
   "language": "python",
   "name": "python3"
  },
  "language_info": {
   "codemirror_mode": {
    "name": "ipython",
    "version": 3
   },
   "file_extension": ".py",
   "mimetype": "text/x-python",
   "name": "python",
   "nbconvert_exporter": "python",
   "pygments_lexer": "ipython3",
   "version": "3.9.7"
  }
 },
 "nbformat": 4,
 "nbformat_minor": 5
}
